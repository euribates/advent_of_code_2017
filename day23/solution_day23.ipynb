{
 "cells": [
  {
   "cell_type": "markdown",
   "metadata": {},
   "source": [
    "## Day 23: Coprocessor Conflagration\n",
    "\n",
    "You decide to head directly to the CPU and fix the printer from there. As you get close, you find an experimental coprocessor doing so much work that the local programs are afraid it will halt and catch fire. This would cause serious issues for the rest of the computer, so you head in and see what you can do.\n",
    "\n",
    "### Part one\n",
    "\n",
    "The code it's running seems to be a variant of the kind you saw recently on that tablet. The general functionality seems very similar, but some of the instructions are different:\n",
    "\n",
    " - set X Y sets register X to the value of Y.\n",
    " \n",
    " - sub X Y decreases register X by the value of Y.\n",
    " \n",
    " - mul X Y sets register X to the result of multiplying the value contained in register X by the value of Y.\n",
    " \n",
    " - jnz X Y jumps with an offset of the value of Y, but only if the value of X is not zero. (An offset of 2 skips the next instruction, an offset of -1 jumps to the previous instruction, and so on.)\n",
    " \n",
    "    Only the instructions listed above are used. The eight registers here, named a through h, all start at 0."
   ]
  },
  {
   "cell_type": "code",
   "execution_count": 125,
   "metadata": {},
   "outputs": [
    {
     "name": "stdout",
     "output_type": "stream",
     "text": [
      "ok\n"
     ]
    }
   ],
   "source": [
    "# Just to simplify: each register defaults to zero and can be read as attributes\n",
    "\n",
    "class Registers(dict):\n",
    "    \n",
    "    def __init__(self):\n",
    "        for k in 'abcdefgh':\n",
    "            self.__setitem__(k, 0)\n",
    "    \n",
    "    def __getattr__(self, k):\n",
    "        if k in 'abcdefgh':\n",
    "            return self[k]\n",
    "        raise AttributeError('Register {} not found'.format(k))\n",
    "        \n",
    "registers = Registers()\n",
    "assert registers['a'] == 0\n",
    "assert registers.a == 0\n",
    "registers['a'] = 3\n",
    "assert registers.a == 3\n",
    "print('ok')"
   ]
  },
  {
   "cell_type": "code",
   "execution_count": 147,
   "metadata": {},
   "outputs": [
    {
     "name": "stdout",
     "output_type": "stream",
     "text": [
      "a: 33 b: 9 c: 0 d: 0 e: 0 f: 0 g: 0 h:0\n",
      "ok\n"
     ]
    }
   ],
   "source": [
    "from collections import defaultdict\n",
    "\n",
    "class Proc:\n",
    "    \n",
    "    def __init__(self):\n",
    "        self.registers = Registers()\n",
    "        self.pc = 0\n",
    "        self.code = []\n",
    "        self._clock = 0\n",
    "        self.freq = None\n",
    "        self.end_flag = False\n",
    "        self.stats = defaultdict(int)\n",
    "        self.kernel = {\n",
    "            'set': self.op_set,\n",
    "            'sub': self.op_sub,\n",
    "            'mul': self.op_mul,\n",
    "            'jnz': self.op_jnz,\n",
    "            }\n",
    "\n",
    "    def get_value(self, s):\n",
    "        return self.registers[s] if s in 'abcdefgh' else int(s)\n",
    "        \n",
    "    def op_set(self, register, value):\n",
    "        v = self.get_value(value)\n",
    "        self.registers[register] = v\n",
    "        return 1\n",
    "    \n",
    "    def op_sub(self, register, value):\n",
    "        v = self.get_value(value)\n",
    "        self.registers[register] = self.registers[register] - v\n",
    "        return 1\n",
    "\n",
    "    def op_mul(self, register, value):\n",
    "        v = self.get_value(value)\n",
    "        self.registers[register] = self.registers[register] * v\n",
    "        return 1\n",
    "                        \n",
    "    def op_jnz(self, register, value):\n",
    "        v = self.get_value(value)\n",
    "        flag = self.get_value(register) != 0\n",
    "        return v if flag else 1\n",
    "        \n",
    "    def exec(self, line):\n",
    "        cod_op, *args = line.split(' ')\n",
    "        self.stats[cod_op] += 1\n",
    "        method = self.kernel[cod_op]\n",
    "        return method(*args)\n",
    "        \n",
    "    def must_exit(self):\n",
    "        return any([\n",
    "            self.pc >= len(self.code),\n",
    "            self.end_flag,\n",
    "        ])\n",
    "    \n",
    "    def step(self, tron=False):\n",
    "        line = self.code[self.pc]\n",
    "        if tron:\n",
    "            print('{:>4} {:>6} {} [{}]'.format(\n",
    "                self._clock,\n",
    "                self.pc,\n",
    "                self.code[self.pc],\n",
    "                self.dump()\n",
    "                ),\n",
    "                end=' > '\n",
    "            )\n",
    "        self.pc += self.exec(line)\n",
    "        self._clock += 1\n",
    "        if tron:\n",
    "            print(self.dump())\n",
    "    \n",
    "    def load_program(self, lines):\n",
    "        self.code = [_ for _ in lines]\n",
    "        self.pc = 0\n",
    "        \n",
    "    def run(self, lines, tron=False):\n",
    "        self.load_program(lines)\n",
    "        while True:\n",
    "            self.step(tron=tron)\n",
    "            if self.must_exit():\n",
    "                break\n",
    "        if tron:\n",
    "            print('{:>8} PC: {} | end execution'.format(\n",
    "                self._clock,\n",
    "                self.pc,\n",
    "            ))\n",
    "        \n",
    "    def dump(self):\n",
    "        buff = [\n",
    "            '{:3}'.format(self.registers[k])\n",
    "            for k in 'abcdefgh'\n",
    "            ]\n",
    "        return ' '.join(buff)\n",
    "    \n",
    "    def trace(self):\n",
    "        print('a: {a} b: {b} c: {c} d: {d} e: {e} f: {f} g: {g} h:{h}'.format(\n",
    "             **self.registers\n",
    "             ))\n",
    "        \n",
    "p = Proc()\n",
    "p.exec('set b 11')\n",
    "p.exec('set a 3')\n",
    "p.exec('mul a b')\n",
    "assert p.registers.a == 33\n",
    "assert p.registers.b == 11\n",
    "p.exec('sub b 2')\n",
    "assert p.registers.b == 9\n",
    "assert p.exec('jnz b 2') == 2\n",
    "p.trace()\n",
    "print('ok')"
   ]
  },
  {
   "cell_type": "markdown",
   "metadata": {},
   "source": [
    "The coprocessor is currently set to some kind of debug mode, which allows for testing, but prevents it from doing any meaningful work.\n",
    "\n",
    "If you run the program (your puzzle input), **how many times is the mul instruction invoked**?"
   ]
  },
  {
   "cell_type": "code",
   "execution_count": 127,
   "metadata": {},
   "outputs": [
    {
     "name": "stdout",
     "output_type": "stream",
     "text": [
      "set b 99\n",
      "set c b\n",
      "jnz a 2\n",
      "...\n",
      "jnz 1 3\n",
      "sub b -17\n",
      "jnz 1 -23\n"
     ]
    }
   ],
   "source": [
    "def load_input(filename):\n",
    "    with open(filename, 'r') as f:\n",
    "        lines = [l.strip() for l in f.readlines()]\n",
    "    return lines\n",
    "        \n",
    "program = load_input('input.txt')\n",
    "for l in program[0:3]:\n",
    "    print(l)\n",
    "print('...')\n",
    "for l in program[-3:]:\n",
    "    print(l)"
   ]
  },
  {
   "cell_type": "code",
   "execution_count": 137,
   "metadata": {},
   "outputs": [
    {
     "data": {
      "text/plain": [
       "['set b 99',\n",
       " 'set c b',\n",
       " 'jnz a 2',\n",
       " 'jnz 1 5',\n",
       " 'mul b 100',\n",
       " 'sub b -100000',\n",
       " 'set c b',\n",
       " 'sub c -17000']"
      ]
     },
     "execution_count": 137,
     "metadata": {},
     "output_type": "execute_result"
    }
   ],
   "source": [
    "program[0:8]"
   ]
  },
  {
   "cell_type": "code",
   "execution_count": 159,
   "metadata": {},
   "outputs": [
    {
     "name": "stdout",
     "output_type": "stream",
     "text": [
      "a: 1 b: 109900 c: 126900 d: 0 e: 0 f: 0 g: 0 h:0\n"
     ]
    }
   ],
   "source": [
    "p = Proc()\n",
    "p.registers['a'] =  1\n",
    "p.run(program[0:8])\n",
    "p.trace()"
   ]
  },
  {
   "cell_type": "code",
   "execution_count": 171,
   "metadata": {},
   "outputs": [
    {
     "name": "stdout",
     "output_type": "stream",
     "text": [
      "Part one: 9409\n",
      "a: 0 b: 99 c: 99 d: 99 e: 99 f: 0 g: 0 h:1\n"
     ]
    }
   ],
   "source": [
    "p = Proc()\n",
    "p.run(program)\n",
    "\n",
    "print('Part one:', p.stats['mul'])\n",
    "p.trace()"
   ]
  },
  {
   "cell_type": "code",
   "execution_count": 129,
   "metadata": {},
   "outputs": [
    {
     "data": {
      "text/plain": [
       "{'a': 0, 'b': 99, 'c': 99, 'd': 99, 'e': 99, 'f': 0, 'g': 0, 'h': 1}"
      ]
     },
     "execution_count": 129,
     "metadata": {},
     "output_type": "execute_result"
    }
   ],
   "source": [
    "p.registers"
   ]
  },
  {
   "cell_type": "markdown",
   "metadata": {},
   "source": [
    "### Part two\n",
    "\n",
    "Now, it's time to fix the problem.\n",
    "\n",
    "The debug mode switch is wired directly to register a. You flip the switch, which makes register a now start at 1 when the program is executed.\n",
    "\n",
    "Immediately, the coprocessor begins to overheat. Whoever wrote this program obviously didn't choose a very efficient implementation. You'll need to optimize the program if it has any hope of completing before Santa needs that printer working.\n",
    "\n",
    "The coprocessor's ultimate goal is to determine the final value left in register h once the program completes. Technically, if it had that... it wouldn't even need to run the program.\n",
    "\n",
    "After setting register a to 1, if the program were to run to completion, **what value would be left in register h**?"
   ]
  },
  {
   "cell_type": "code",
   "execution_count": 75,
   "metadata": {},
   "outputs": [
    {
     "name": "stdout",
     "output_type": "stream",
     "text": [
      "   0      0 set b 99 [  1   0   0   0   0   0   0   0] >   1  99   0   0   0   0   0   0\n",
      "13 439596\n"
     ]
    }
   ],
   "source": [
    "class ProcTwo(Proc):\n",
    "    def __init__(self):\n",
    "        super().__init__()\n",
    "        self.registers['a'] = 1\n",
    "\n",
    "p = ProcTwo()\n",
    "assert p.registers.a == 1\n",
    "p.load_program(program)\n",
    "for i in range(21000000000):\n",
    "    p.step(tron=p.registers.g == p.registers.b)\n",
    "    if p.registers.g == p.registers.b:\n",
    "        print(p.pc, p._clock)\n",
    "        break\n",
    "    # if p.pc == 17: print('e:', p.registers.e)\n",
    "#p.run(program)"
   ]
  },
  {
   "cell_type": "code",
   "execution_count": 184,
   "metadata": {},
   "outputs": [
    {
     "name": "stdout",
     "output_type": "stream",
     "text": [
      "a: 1 b: 109900 c: 126900 d: 0 e: 0 f: 0 g: 0 h: 0\n",
      "a: 1 b: 109900 c: 126900 d: 2 e: 0 f: 1 g: 0 h: 0\n",
      "Encontrado <c:126900> d[2] * e[54950] == b[109900]\n",
      "a: 1 b: 109917 c: 126900 d: 2 e: 54950 f: 1 g: 0 h: 1\n",
      "Encontrado <c:126900> d[3] * e[36639] == b[109917]\n",
      "a: 1 b: 109934 c: 126900 d: 2 e: 36639 f: 1 g: 0 h: 2\n",
      "Encontrado <c:126900> d[2] * e[54967] == b[109934]\n",
      "a: 1 b: 109951 c: 126900 d: 2 e: 54967 f: 1 g: 0 h: 3\n",
      "Encontrado <c:126900> d[43] * e[2557] == b[109951]\n",
      "a: 1 b: 109968 c: 126900 d: 2 e: 2557 f: 1 g: 0 h: 4\n",
      "Encontrado <c:126900> d[2] * e[54984] == b[109968]\n",
      "a: 1 b: 109985 c: 126900 d: 2 e: 54984 f: 1 g: 0 h: 5\n",
      "Encontrado <c:126900> d[5] * e[21997] == b[109985]\n",
      "a: 1 b: 110002 c: 126900 d: 2 e: 21997 f: 1 g: 0 h: 6\n",
      "Encontrado <c:126900> d[2] * e[55001] == b[110002]\n",
      "a: 1 b: 110019 c: 126900 d: 2 e: 55001 f: 1 g: 0 h: 7\n",
      "Encontrado <c:126900> d[3] * e[36673] == b[110019]\n",
      "a: 1 b: 110036 c: 126900 d: 2 e: 36673 f: 1 g: 0 h: 8\n",
      "Encontrado <c:126900> d[2] * e[55018] == b[110036]\n",
      "a: 1 b: 110053 c: 126900 d: 2 e: 55018 f: 1 g: 0 h: 9\n",
      "Encontrado <c:126900> d[167] * e[659] == b[110053]\n",
      "a: 1 b: 110070 c: 126900 d: 2 e: 659 f: 1 g: 0 h: 10\n",
      "Encontrado <c:126900> d[2] * e[55035] == b[110070]\n",
      "a: 1 b: 110087 c: 126900 d: 2 e: 55035 f: 1 g: 0 h: 11\n",
      "Encontrado <c:126900> d[283] * e[389] == b[110087]\n",
      "a: 1 b: 110104 c: 126900 d: 2 e: 389 f: 1 g: 0 h: 12\n",
      "Encontrado <c:126900> d[2] * e[55052] == b[110104]\n",
      "a: 1 b: 110121 c: 126900 d: 2 e: 55052 f: 1 g: 0 h: 13\n",
      "Encontrado <c:126900> d[3] * e[36707] == b[110121]\n",
      "a: 1 b: 110138 c: 126900 d: 2 e: 36707 f: 1 g: 0 h: 14\n",
      "Encontrado <c:126900> d[2] * e[55069] == b[110138]\n",
      "a: 1 b: 110155 c: 126900 d: 2 e: 55069 f: 1 g: 0 h: 15\n",
      "Encontrado <c:126900> d[5] * e[22031] == b[110155]\n",
      "a: 1 b: 110172 c: 126900 d: 2 e: 22031 f: 1 g: 0 h: 16\n",
      "Encontrado <c:126900> d[2] * e[55086] == b[110172]\n",
      "a: 1 b: 110189 c: 126900 d: 2 e: 55086 f: 1 g: 0 h: 17\n",
      "Encontrado <c:126900> d[251] * e[439] == b[110189]\n",
      "a: 1 b: 110206 c: 126900 d: 2 e: 439 f: 1 g: 0 h: 18\n",
      "Encontrado <c:126900> d[2] * e[55103] == b[110206]\n",
      "a: 1 b: 110223 c: 126900 d: 2 e: 55103 f: 1 g: 0 h: 19\n",
      "Encontrado <c:126900> d[3] * e[36741] == b[110223]\n",
      "a: 1 b: 110240 c: 126900 d: 2 e: 36741 f: 1 g: 0 h: 20\n",
      "Encontrado <c:126900> d[2] * e[55120] == b[110240]\n",
      "a: 1 b: 110257 c: 126900 d: 2 e: 55120 f: 1 g: 0 h: 21\n",
      "Encontrado <c:126900> d[7] * e[15751] == b[110257]\n",
      "a: 1 b: 110274 c: 126900 d: 2 e: 15751 f: 1 g: 0 h: 22\n",
      "Encontrado <c:126900> d[2] * e[55137] == b[110274]\n",
      "a: 1 b: 110291 c: 126900 d: 2 e: 55137 f: 1 g: 0 h: 23\n"
     ]
    },
    {
     "ename": "KeyboardInterrupt",
     "evalue": "",
     "output_type": "error",
     "traceback": [
      "\u001b[0;31m---------------------------------------------------------------------------\u001b[0m",
      "\u001b[0;31mKeyboardInterrupt\u001b[0m                         Traceback (most recent call last)",
      "\u001b[0;32m<ipython-input-184-8833ce13f239>\u001b[0m in \u001b[0;36m<module>\u001b[0;34m()\u001b[0m\n\u001b[1;32m     25\u001b[0m                 \u001b[0mf\u001b[0m \u001b[0;34m=\u001b[0m \u001b[0;36m0\u001b[0m\u001b[0;34m\u001b[0m\u001b[0m\n\u001b[1;32m     26\u001b[0m                 \u001b[0mprint\u001b[0m\u001b[0;34m(\u001b[0m\u001b[0;34m'd[{}] * e[{}] == b[{}]'\u001b[0m\u001b[0;34m.\u001b[0m\u001b[0mformat\u001b[0m\u001b[0;34m(\u001b[0m\u001b[0md\u001b[0m\u001b[0;34m,\u001b[0m \u001b[0me\u001b[0m\u001b[0;34m,\u001b[0m \u001b[0mb\u001b[0m\u001b[0;34m)\u001b[0m\u001b[0;34m)\u001b[0m\u001b[0;34m\u001b[0m\u001b[0m\n\u001b[0;32m---> 27\u001b[0;31m             \u001b[0;32mif\u001b[0m \u001b[0mf\u001b[0m \u001b[0;34m==\u001b[0m \u001b[0;36m0\u001b[0m\u001b[0;34m:\u001b[0m\u001b[0;34m\u001b[0m\u001b[0m\n\u001b[0m\u001b[1;32m     28\u001b[0m                 \u001b[0;32mbreak\u001b[0m\u001b[0;34m\u001b[0m\u001b[0m\n\u001b[1;32m     29\u001b[0m             \u001b[0me\u001b[0m \u001b[0;34m=\u001b[0m \u001b[0me\u001b[0m \u001b[0;34m+\u001b[0m \u001b[0;36m1\u001b[0m\u001b[0;34m\u001b[0m\u001b[0m\n",
      "\u001b[0;31mKeyboardInterrupt\u001b[0m: "
     ]
    }
   ],
   "source": [
    "# Python Version \n",
    "\n",
    "a = b = c = d = e = f = g = h = 0\n",
    "def trace():\n",
    "    global a,b,c,d,e,f,g,h\n",
    "    print('a:', a, 'b:', b, 'c:', c, 'd:', d, 'e:', e, 'f:', f, 'g:', g, 'h:', h)\n",
    "\n",
    "a = 1\n",
    "if a != 0:\n",
    "    b = 109900\n",
    "    c = 126900\n",
    "else:\n",
    "    b = 99\n",
    "    c = 99\n",
    "trace()\n",
    "while True:\n",
    "    f = 1\n",
    "    d = 2\n",
    "    trace()\n",
    "    while d != b:\n",
    "        e = 2\n",
    "        while e != b:\n",
    "            if d * e == b:\n",
    "                print('Encontrado <c:{}>'.format(c), end=' ')\n",
    "                f = 0\n",
    "                print('d[{}] * e[{}] == b[{}]'.format(d, e, b))\n",
    "            if f == 0:\n",
    "                break\n",
    "            e = e + 1\n",
    "        if f == 0:\n",
    "            break\n",
    "        d = d + 1\n",
    "    if f == 0:\n",
    "        h = h + 1\n",
    "    if b == c:\n",
    "        print('break')\n",
    "        break\n",
    "    b = b + 17\n",
    "trace()  \n"
   ]
  },
  {
   "cell_type": "code",
   "execution_count": 214,
   "metadata": {},
   "outputs": [
    {
     "name": "stdout",
     "output_type": "stream",
     "text": [
      "d vale 1702, b vale 110291\n",
      "d vale 30636, b vale 110291\n",
      "d vale 59570, b vale 110291\n",
      "d vale 88504, b vale 110291\n"
     ]
    }
   ],
   "source": [
    "f = 1\n",
    "d = 2\n",
    "b = 110291\n",
    "counter = 0\n",
    "while d < b:\n",
    "    if d % 1702 == 0:\n",
    "        print('d vale {}, b vale {}'.format(d, b))\n",
    "    e = 2\n",
    "    while e <= b//2:\n",
    "        if d * e == b:\n",
    "            print('Encontrado <c:{}>'.format(c), end=' ')\n",
    "            print('d[{}] * e[{}] == b[{}]'.format(d, e, b))\n",
    "            f = 0\n",
    "        e = e + 1\n",
    "        if f == 0:\n",
    "            break\n",
    "    d = d + 17\n",
    "    if f == 0:\n",
    "        break\n",
    "    "
   ]
  },
  {
   "cell_type": "code",
   "execution_count": 215,
   "metadata": {},
   "outputs": [
    {
     "data": {
      "text/plain": [
       "110298"
      ]
     },
     "execution_count": 215,
     "metadata": {},
     "output_type": "execute_result"
    }
   ],
   "source": [
    "d"
   ]
  },
  {
   "cell_type": "code",
   "execution_count": 212,
   "metadata": {},
   "outputs": [
    {
     "data": {
      "text/plain": [
       "(2450, 110291, 37047)"
      ]
     },
     "execution_count": 212,
     "metadata": {},
     "output_type": "execute_result"
    }
   ],
   "source": [
    "d, b,e"
   ]
  },
  {
   "cell_type": "code",
   "execution_count": 169,
   "metadata": {},
   "outputs": [
    {
     "name": "stdout",
     "output_type": "stream",
     "text": [
      "Encontrado d[3] * e[33] == b[99]\n",
      "Encontrado d[9] * e[11] == b[99]\n",
      "Encontrado d[11] * e[9] == b[99]\n",
      "Encontrado d[33] * e[3] == b[99]\n"
     ]
    }
   ],
   "source": [
    "d = 2\n",
    "c = 99\n",
    "\n",
    "b = 99\n",
    "counter = 0\n",
    "while d != b:\n",
    "    e = 2\n",
    "    while e != b:\n",
    "        if d * e == b:\n",
    "            print('Encontrado', end=' ')\n",
    "            f = 0\n",
    "            print('d[{}] * e[{}] == b[{}]'.format(d, e, b))\n",
    "        e = e + 1\n",
    "    d = d + 1\n",
    "    counter += 1"
   ]
  },
  {
   "cell_type": "markdown",
   "metadata": {},
   "source": [
    "> Program find the numbers that **are not primes** in the range 109900 ... 126900, in steps of size 17: 109900, 109917, 109934 ... 126900"
   ]
  },
  {
   "cell_type": "code",
   "execution_count": 223,
   "metadata": {},
   "outputs": [
    {
     "name": "stdout",
     "output_type": "stream",
     "text": [
      "Part 2: 913\n"
     ]
    }
   ],
   "source": [
    "import math\n",
    "\n",
    "def is_prime(n):   \n",
    "    if n % 2 == 0 and n > 2:          \n",
    "        return False                  \n",
    "    return all(n % i for i in range(3, int(math.sqrt(n)) + 1, 2))\n",
    "    \n",
    "acc = 0\n",
    "for i in range(109900, 126901, 17):\n",
    "    acc += 1 if not is_prime(i) else 0\n",
    "print('Part 2:', acc)\n"
   ]
  }
 ],
 "metadata": {
  "kernelspec": {
   "display_name": "Python 3",
   "language": "python",
   "name": "python3"
  },
  "language_info": {
   "codemirror_mode": {
    "name": "ipython",
    "version": 3
   },
   "file_extension": ".py",
   "mimetype": "text/x-python",
   "name": "python",
   "nbconvert_exporter": "python",
   "pygments_lexer": "ipython3",
   "version": "3.5.2"
  }
 },
 "nbformat": 4,
 "nbformat_minor": 2
}
