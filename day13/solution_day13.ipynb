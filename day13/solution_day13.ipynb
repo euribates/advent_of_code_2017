{
 "cells": [
  {
   "cell_type": "markdown",
   "metadata": {
    "toc": true
   },
   "source": [
    "<h1>Table of Contents<span class=\"tocSkip\"></span></h1>\n",
    "<div class=\"toc\"><ul class=\"toc-item\"></ul></div>"
   ]
  },
  {
   "cell_type": "code",
   "execution_count": 279,
   "metadata": {},
   "outputs": [],
   "source": [
    "%matplotlib inline\n",
    "\n",
    "import sys\n",
    "from collections import defaultdict\n",
    "import matplotlib.pyplot as plt"
   ]
  },
  {
   "cell_type": "code",
   "execution_count": 280,
   "metadata": {},
   "outputs": [],
   "source": [
    "class Layer:\n",
    "    \n",
    "    def __init__(self, s):\n",
    "        self.depth, self.range = [int(_) for _ in s.split(': ', 1)]\n",
    "        self.forward = True\n",
    "        self.scanner = 0\n",
    "        \n",
    "    def __repr__(self):\n",
    "        return 'Layer(depth={}, range={}, scanner={})'.format(\n",
    "            self.depth,\n",
    "            self.range,\n",
    "            self.scanner,\n",
    "            )\n",
    "    \n",
    "    def tick(self):\n",
    "        if self.forward:\n",
    "            new_value = self.scanner + 1\n",
    "            if new_value >= self.range:\n",
    "                self.forward = not self.forward\n",
    "                new_value = self.scanner - 1\n",
    "        else:\n",
    "            new_value = self.scanner - 1\n",
    "            if new_value < 0:\n",
    "                self.forward = not self.forward\n",
    "                new_value = self.scanner + 1 \n",
    "        self.scanner = new_value\n",
    "    \n",
    "# test\n",
    "l0 = Layer('0: 3')\n",
    "assert l0.depth == 0\n",
    "assert l0.range == 3\n",
    "assert l0.forward == True\n",
    "l1 = Layer('1: 2')\n",
    "assert l1.depth == 1\n",
    "assert l1.range == 2\n",
    "# test tick \n",
    "\n",
    "l0 = Layer('0: 3')\n",
    "assert l0.forward == True\n",
    "assert l0.scanner == 0\n",
    "l0.tick()\n",
    "assert l0.forward == True\n",
    "assert l0.scanner == 1\n",
    "l0.tick()\n",
    "assert l0.forward == True\n",
    "assert l0.scanner == 2\n",
    "l0.tick()\n",
    "assert l0.forward == False\n",
    "assert l0.scanner == 1\n",
    "l0.tick()\n",
    "assert l0.forward == False\n",
    "assert l0.scanner == 0\n",
    "l0.tick()\n",
    "assert l0.forward == True\n",
    "assert l0.scanner == 1"
   ]
  },
  {
   "cell_type": "code",
   "execution_count": 281,
   "metadata": {},
   "outputs": [],
   "source": [
    "\n",
    "class Firewall:\n",
    "    \n",
    "    def __init__(self):\n",
    "        self.kernel = defaultdict(bool)\n",
    "        self.max_depth = 0\n",
    "        self.max_range = 0\n",
    "        self._clock = 0\n",
    "        \n",
    "    def add(self, layer):\n",
    "        self.kernel[layer.depth] = layer\n",
    "        self.max_depth = max(self.max_depth, layer.depth)\n",
    "        self.max_range = max(self.max_range, layer.range)\n",
    "        \n",
    "    def __iter__(self):\n",
    "        return (self.kernel[k] for k in self.kernel if self.kernel[k])\n",
    "        \n",
    "    def tick(self):\n",
    "        self._clock += 1\n",
    "        for layer in self:\n",
    "            layer.tick()                \n",
    "        \n",
    "    def delay(self, n):\n",
    "        for _ in range(n):\n",
    "            self.tick()\n",
    "        \n",
    "    def __str__(self):\n",
    "        buff = []\n",
    "        buff.append('Picosecond {}:\\n'.format(self._clock))\n",
    "        for d in range(self.max_depth+1):\n",
    "            buff.append('{:^5}'.format(d))\n",
    "        buff.append('\\n')\n",
    "        for r in range(self.max_range+1):\n",
    "            for d in range(self.max_depth+1):\n",
    "                layer = self.kernel[d]\n",
    "                if layer:\n",
    "                    if layer.range > r:\n",
    "                        if layer.scanner == r:\n",
    "                            buff.append(' [S] ')\n",
    "                        else:\n",
    "                            buff.append(' [ ] ')\n",
    "                    else:\n",
    "                        buff.append('     ')\n",
    "                elif r == 0:\n",
    "                    buff.append(' ... ')\n",
    "                else:\n",
    "                    buff.append('     ')\n",
    "            buff.append('\\n')\n",
    "        return ''.join(buff)\n",
    "        "
   ]
  },
  {
   "cell_type": "code",
   "execution_count": 282,
   "metadata": {},
   "outputs": [],
   "source": [
    "def load_firewall(filename, max_lines=0):\n",
    "    firewall = Firewall()\n",
    "    nl = 0\n",
    "    with open(filename, 'r') as f:\n",
    "        for nl, l in enumerate(f):\n",
    "            firewall.add(Layer(l.strip()))        \n",
    "            if nl == max_lines - 1:\n",
    "                break\n",
    "    return firewall"
   ]
  },
  {
   "cell_type": "code",
   "execution_count": 286,
   "metadata": {},
   "outputs": [
    {
     "name": "stdout",
     "output_type": "stream",
     "text": [
      "Picosecond 0:\n",
      "  0    1    2    3    4    5    6  \n",
      " [S]  [S]  ...  ...  [S]  ...  [S] \n",
      " [ ]  [ ]            [ ]       [ ] \n",
      " [ ]                 [ ]       [ ] \n",
      "                     [ ]       [ ] \n",
      "                                   \n",
      "\n",
      "Picosecond 1:\n",
      "  0    1    2    3    4    5    6  \n",
      " [ ]  [ ]  ...  ...  [ ]  ...  [ ] \n",
      " [S]  [S]            [S]       [S] \n",
      " [ ]                 [ ]       [ ] \n",
      "                     [ ]       [ ] \n",
      "                                   \n",
      "\n",
      "Picosecond 2:\n",
      "  0    1    2    3    4    5    6  \n",
      " [ ]  [S]  ...  ...  [ ]  ...  [ ] \n",
      " [ ]  [ ]            [ ]       [ ] \n",
      " [S]                 [S]       [S] \n",
      "                     [ ]       [ ] \n",
      "                                   \n",
      "\n",
      "Picosecond 3:\n",
      "  0    1    2    3    4    5    6  \n",
      " [ ]  [ ]  ...  ...  [ ]  ...  [ ] \n",
      " [S]  [S]            [ ]       [ ] \n",
      " [ ]                 [ ]       [ ] \n",
      "                     [S]       [S] \n",
      "                                   \n",
      "\n",
      "Picosecond 4:\n",
      "  0    1    2    3    4    5    6  \n",
      " [S]  [S]  ...  ...  [ ]  ...  [ ] \n",
      " [ ]  [ ]            [ ]       [ ] \n",
      " [ ]                 [S]       [S] \n",
      "                     [ ]       [ ] \n",
      "                                   \n",
      "\n"
     ]
    }
   ],
   "source": [
    "firewall = load_firewall('input_test.txt')\n",
    "assert firewall.max_depth == 6\n",
    "assert firewall.max_range == 4\n",
    "\n",
    "for _ in range(5):\n",
    "    print(firewall)\n",
    "    firewall.tick()\n"
   ]
  },
  {
   "cell_type": "code",
   "execution_count": 287,
   "metadata": {},
   "outputs": [
    {
     "name": "stdout",
     "output_type": "stream",
     "text": [
      "Layer(depth=0, range=3, scanner=1)\n",
      "Layer(depth=1, range=2, scanner=1)\n",
      "Layer(depth=4, range=4, scanner=1)\n",
      "Layer(depth=6, range=4, scanner=1)\n"
     ]
    }
   ],
   "source": [
    "for layer in firewall: print(layer)"
   ]
  },
  {
   "cell_type": "code",
   "execution_count": 288,
   "metadata": {},
   "outputs": [
    {
     "name": "stdout",
     "output_type": "stream",
     "text": [
      "hits: 6\n",
      "severity: 1476\n"
     ]
    }
   ],
   "source": [
    "def go(firewall):\n",
    "    hits = 0\n",
    "    severity = 0\n",
    "    for player in range(0, firewall.max_depth+1):    \n",
    "        layer = firewall.kernel[player]\n",
    "        # print('Player:', player, 'layer', layer, end=' ')\n",
    "        if layer and layer.scanner == 0:\n",
    "            # print('[hit]')\n",
    "            hits += 1\n",
    "            severity += layer.depth * layer.range\n",
    "        # else:\n",
    "            # print('[Ok]')\n",
    "        firewall.tick()\n",
    "    return(hits, severity)\n",
    "    \n",
    "firewall = load_firewall('input.txt')\n",
    "hits, severity = go(firewall)\n",
    "print('hits:', hits)\n",
    "print('severity:', severity)"
   ]
  },
  {
   "cell_type": "code",
   "execution_count": 6,
   "metadata": {},
   "outputs": [],
   "source": [
    "## Part 2"
   ]
  },
  {
   "cell_type": "code",
   "execution_count": 289,
   "metadata": {},
   "outputs": [],
   "source": [
    "# test\n",
    "\n",
    "firewall = load_firewall('input_test.txt')\n",
    "firewall.delay(10)\n",
    "hits, severity = go(firewall)\n",
    "assert hits == 0\n",
    "assert severity == 0"
   ]
  },
  {
   "cell_type": "code",
   "execution_count": 276,
   "metadata": {},
   "outputs": [],
   "source": [
    "# More depth on the firewall, less possible solutions"
   ]
  },
  {
   "cell_type": "code",
   "execution_count": 277,
   "metadata": {},
   "outputs": [
    {
     "data": {
      "image/png": "[encoded data removed]",
      "text/plain": [
       "<matplotlib.figure.Figure at 0x7ff0c6c6ce48>"
      ]
     },
     "metadata": {},
     "output_type": "display_data"
    }
   ],
   "source": [
    "x = []\n",
    "y = []\n",
    "for num_lineas in range(1, 44):\n",
    "    x.append(num_lineas)\n",
    "    sols = 0\n",
    "    for i in range(50):\n",
    "        firewall = load_firewall('input.txt', max_lines=num_lineas)\n",
    "        firewall.delay(i)\n",
    "        hits, severity = go(firewall)\n",
    "        if hits == 0:\n",
    "            sols += 1\n",
    "    y.append(sols)\n",
    "plt.plot(x, y);"
   ]
  },
  {
   "cell_type": "code",
   "execution_count": 290,
   "metadata": {},
   "outputs": [],
   "source": [
    "# Quick test, if it doesn't wotk, exit ASAP\n",
    "\n",
    "def tryit(firewall):\n",
    "    for player in range(0, firewall.max_depth+1):    \n",
    "        layer = firewall.kernel[player]\n",
    "        if layer and layer.scanner == 0:\n",
    "            return False\n",
    "        firewall.tick()\n",
    "    return True\n",
    "\n",
    "firewall = load_firewall('input_test.txt')\n",
    "firewall.delay(10)\n",
    "assert tryit(firewall) == True"
   ]
  },
  {
   "cell_type": "code",
   "execution_count": 295,
   "metadata": {},
   "outputs": [
    {
     "name": "stdout",
     "output_type": "stream",
     "text": [
      "2 x\n",
      "10 x\n",
      "18 x\n",
      "26 x\n",
      "34 x\n",
      "42 x\n"
     ]
    }
   ],
   "source": [
    "for delay in range(0, 50):\n",
    "    f = Firewall()\n",
    "    f.add(Layer('6: 5'))\n",
    "    f.delay(delay)\n",
    "    success = tryit(f)\n",
    "    if not success:\n",
    "        print(delay, 'x')"
   ]
  },
  {
   "cell_type": "markdown",
   "metadata": {},
   "source": [
    "### What this means?\n",
    "\n",
    "- rule 6:5 means all solution on the form $2 + 8x$ will fail,\n",
    "\n",
    "$$ \\forall n \\to n\\ mod\\ 8 = 2 \\implies n \\notin {solutions} $$\n",
    "\n",
    "- rule 16:8 means all solution on the form 12 + 14n will fail\n",
    "\n",
    "$$ \\forall n \\to n\\ mod\\ 14 = 12 \\implies n \\notin {solutions} $$\n",
    "\n",
    "etc..."
   ]
  },
  {
   "cell_type": "code",
   "execution_count": 297,
   "metadata": {
    "scrolled": true
   },
   "outputs": [
    {
     "name": "stdout",
     "output_type": "stream",
     "text": [
      "#############################################################################################################################################################\n",
      "Encontrado: 3937334\n"
     ]
    }
   ],
   "source": [
    "def chk(t):\n",
    "    return not any([\n",
    "        t % 4 == 0,  # rule 0\n",
    "        t % 2 == 1,  # rule 1\n",
    "        t % 6 == 4, \n",
    "        t % 10 == 6,\n",
    "        t % 8 == 2,\n",
    "        t % 10 == 2,  # rule 5\n",
    "        t % 10 == 0,\n",
    "        t % 6 == 0,\n",
    "        t % 14 == 0,\n",
    "        t % 14 == 12,\n",
    "        t % 16 == 14,  # rule 10\n",
    "        t % 14 == 8,\n",
    "        t % 10 == 8,\n",
    "        t % 26 == 2,\n",
    "        t % 22 == 18,\n",
    "        t % 18 == 8,  # rule 15\n",
    "        t % 22 == 14,\n",
    "        t % 14 == 10,\n",
    "        t % 18 == 2,\n",
    "        t % 14 == 6,\n",
    "        t % 14 == 4,  # rule 20\n",
    "        t % 22 == 4,\n",
    "        t % 22 == 2,\n",
    "        t % 22 == 0,\n",
    "        t % 22 == 20,\n",
    "        t % 26 == 4,  # rule 25\n",
    "        t % 26 == 0,\n",
    "        t % 22 == 12,\n",
    "        t % 22 == 10,\n",
    "        t % 22 == 8,\n",
    "        t % 22 == 6, # rule 30\n",
    "        t % 26 == 16,\n",
    "        t % 26 == 14,\n",
    "        t % 26 == 12,\n",
    "        t % 26 == 10,\n",
    "        t % 26 == 8,  # rule 35\n",
    "        t % 26 == 6,\n",
    "        t % 34 == 22,\n",
    "        t % 26 == 22,\n",
    "        t % 38 == 30,\n",
    "        t % 26 == 18,  # rule 40\n",
    "        t % 32 == 6,\n",
    "        t % 38 == 18,\n",
    "        t % 46 == 40,\n",
    "     ])\n",
    "\n",
    "sol = 0\n",
    "found = chk(sol)\n",
    "counter = 0\n",
    "while not found:\n",
    "    counter += 1\n",
    "    if counter % 25000 == 0:\n",
    "        sys.stdout.write('#')\n",
    "        sys.stdout.flush()\n",
    "    sol += 1\n",
    "    found = chk(sol)\n",
    "    if found:\n",
    "        print('\\nEncontrado:', sol)\n",
    "        break\n",
    "    if counter > 999999999999:\n",
    "        break\n",
    "else:\n",
    "    print('Nope')"
   ]
  },
  {
   "cell_type": "code",
   "execution_count": 298,
   "metadata": {
    "scrolled": true
   },
   "outputs": [
    {
     "name": "stdout",
     "output_type": "stream",
     "text": [
      "3937334 True\n"
     ]
    }
   ],
   "source": [
    "firewall = load_firewall('input.txt')\n",
    "firewall.delay(sol)\n",
    "print(sol, tryit(firewall))"
   ]
  },
  {
   "cell_type": "code",
   "execution_count": 258,
   "metadata": {},
   "outputs": [
    {
     "name": "stdout",
     "output_type": "stream",
     "text": [
      "CPU times: user 1min 4s, sys: 0 ns, total: 1min 4s\n",
      "Wall time: 1min 4s\n"
     ]
    },
    {
     "data": {
      "text/plain": [
       "(0, 0)"
      ]
     },
     "execution_count": 258,
     "metadata": {},
     "output_type": "execute_result"
    }
   ],
   "source": [
    "%%timeit\n",
    "firewall = load_firewall('input.txt')\n",
    "time firewall.delay(3937334)\n",
    "print(sol, go(firewall))"
   ]
  }
 ],
 "metadata": {
  "kernelspec": {
   "display_name": "Python 3",
   "language": "python",
   "name": "python3"
  },
  "language_info": {
   "codemirror_mode": {
    "name": "ipython",
    "version": 3
   },
   "file_extension": ".py",
   "mimetype": "text/x-python",
   "name": "python",
   "nbconvert_exporter": "python",
   "pygments_lexer": "ipython3",
   "version": "3.5.2"
  },
  "toc": {
   "nav_menu": {},
   "number_sections": true,
   "sideBar": true,
   "skip_h1_title": false,
   "title_cell": "Table of Contents",
   "title_sidebar": "Contents",
   "toc_cell": true,
   "toc_position": {},
   "toc_section_display": true,
   "toc_window_display": false
  }
 },
 "nbformat": 4,
 "nbformat_minor": 2
}
