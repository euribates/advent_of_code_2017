{
 "cells": [
  {
   "cell_type": "markdown",
   "metadata": {
    "toc": true
   },
   "source": [
    "<h1>Table of Contents<span class=\"tocSkip\"></span></h1>\n",
    "<div class=\"toc\"><ul class=\"toc-item\"></ul></div>"
   ]
  },
  {
   "cell_type": "code",
   "execution_count": 133,
   "metadata": {},
   "outputs": [],
   "source": [
    "class Layer:\n",
    "    \n",
    "    def __init__(self, s):\n",
    "        self.depth, self.range = [int(_) for _ in s.split(': ', 1)]\n",
    "        self.forward = True\n",
    "        self.scanner = 0\n",
    "        \n",
    "    def __repr__(self):\n",
    "        return 'Layer(depth={}, range={}, scanner={})'.format(\n",
    "            self.depth,\n",
    "            self.range,\n",
    "            self.scanner,\n",
    "            )\n",
    "    \n",
    "    def tick(self):\n",
    "        if self.forward:\n",
    "            new_value = self.scanner + 1\n",
    "            if new_value >= self.range:\n",
    "                self.forward = not self.forward\n",
    "                new_value = self.scanner - 1\n",
    "        else:\n",
    "            new_value = self.scanner - 1\n",
    "            if new_value < 0:\n",
    "                self.forward = not self.forward\n",
    "                new_value = self.scanner + 1 \n",
    "        self.scanner = new_value\n",
    "    \n",
    "# test\n",
    "l0 = Layer('0: 3')\n",
    "assert l0.depth == 0\n",
    "assert l0.range == 3\n",
    "assert l0.forward == True\n",
    "l1 = Layer('1: 2')\n",
    "assert l1.depth == 1\n",
    "assert l1.range == 2\n",
    "# test tick \n",
    "\n",
    "l0 = Layer('0: 3')\n",
    "assert l0.forward == True\n",
    "assert l0.scanner == 0\n",
    "l0.tick()\n",
    "assert l0.forward == True\n",
    "assert l0.scanner == 1\n",
    "l0.tick()\n",
    "assert l0.forward == True\n",
    "assert l0.scanner == 2\n",
    "l0.tick()\n",
    "assert l0.forward == False\n",
    "assert l0.scanner == 1\n",
    "l0.tick()\n",
    "assert l0.forward == False\n",
    "assert l0.scanner == 0\n",
    "l0.tick()\n",
    "assert l0.forward == True\n",
    "assert l0.scanner == 1"
   ]
  },
  {
   "cell_type": "code",
   "execution_count": 134,
   "metadata": {},
   "outputs": [],
   "source": [
    "from collections import defaultdict\n",
    "\n",
    "class Firewall:\n",
    "    \n",
    "    def __init__(self):\n",
    "        self.kernel = defaultdict(bool)\n",
    "        self.max_depth = 0\n",
    "        self.max_range = 0\n",
    "        self._clock = 0\n",
    "        \n",
    "    def add(self, layer):\n",
    "        self.kernel[layer.depth] = layer\n",
    "        self.max_depth = max(self.max_depth, layer.depth)\n",
    "        self.max_range = max(self.max_range, layer.range)\n",
    "        \n",
    "    def __iter__(self):\n",
    "        return (self.kernel[k] for k in self.kernel if self.kernel[k])\n",
    "        \n",
    "    def tick(self):\n",
    "        self._clock += 1\n",
    "        for layer in self:\n",
    "            layer.tick()                \n",
    "        \n",
    "    def __str__(self):\n",
    "        buff = []\n",
    "        buff.append('Picosecond {}:\\n'.format(self._clock))\n",
    "        for d in range(self.max_depth+1):\n",
    "            buff.append('{:^5}'.format(d))\n",
    "        buff.append('\\n')\n",
    "        for r in range(self.max_range+1):\n",
    "            for d in range(self.max_depth+1):\n",
    "                layer = self.kernel[d]\n",
    "                if layer:\n",
    "                    if layer.range > r:\n",
    "                        if layer.scanner == r:\n",
    "                            buff.append(' [S] ')\n",
    "                        else:\n",
    "                            buff.append(' [ ] ')\n",
    "                    else:\n",
    "                        buff.append('     ')\n",
    "                elif r == 0:\n",
    "                    buff.append(' ... ')\n",
    "                else:\n",
    "                    buff.append('     ')\n",
    "            buff.append('\\n')\n",
    "        return ''.join(buff)\n",
    "        "
   ]
  },
  {
   "cell_type": "code",
   "execution_count": 321,
   "metadata": {},
   "outputs": [
    {
     "name": "stdout",
     "output_type": "stream",
     "text": [
      "Picosecond 0:\n",
      "  0    1    2    3    4    5    6  \n",
      " [S]  [S]  ...  ...  [S]  ...  [S] \n",
      " [ ]  [ ]            [ ]       [ ] \n",
      " [ ]                 [ ]       [ ] \n",
      "                     [ ]       [ ] \n",
      "                                   \n",
      "\n",
      "Picosecond 1:\n",
      "  0    1    2    3    4    5    6  \n",
      " [ ]  [ ]  ...  ...  [ ]  ...  [ ] \n",
      " [S]  [S]            [S]       [S] \n",
      " [ ]                 [ ]       [ ] \n",
      "                     [ ]       [ ] \n",
      "                                   \n",
      "\n",
      "Picosecond 2:\n",
      "  0    1    2    3    4    5    6  \n",
      " [ ]  [S]  ...  ...  [ ]  ...  [ ] \n",
      " [ ]  [ ]            [ ]       [ ] \n",
      " [S]                 [S]       [S] \n",
      "                     [ ]       [ ] \n",
      "                                   \n",
      "\n",
      "Picosecond 3:\n",
      "  0    1    2    3    4    5    6  \n",
      " [ ]  [ ]  ...  ...  [ ]  ...  [ ] \n",
      " [S]  [S]            [ ]       [ ] \n",
      " [ ]                 [ ]       [ ] \n",
      "                     [S]       [S] \n",
      "                                   \n",
      "\n",
      "Picosecond 4:\n",
      "  0    1    2    3    4    5    6  \n",
      " [S]  [S]  ...  ...  [ ]  ...  [ ] \n",
      " [ ]  [ ]            [ ]       [ ] \n",
      " [ ]                 [S]       [S] \n",
      "                     [ ]       [ ] \n",
      "                                   \n",
      "\n"
     ]
    }
   ],
   "source": [
    "def load_firewall(filename, max_lines=0):\n",
    "    firewall = Firewall()\n",
    "    nl = 0\n",
    "    with open(filename, 'r') as f:\n",
    "        for nl, l in enumerate(f):\n",
    "            firewall.add(Layer(l.strip()))        \n",
    "            if nl == max_lines - 1:\n",
    "                break\n",
    "    return firewall\n",
    "\n",
    "firewall = load_firewall('input_test.txt')\n",
    "        \n",
    "#assert firewall.max_depth == 6\n",
    "#assert firewall.max_range == 4\n",
    "print(firewall)\n",
    "firewall.tick()\n",
    "print(firewall)\n",
    "firewall.tick()\n",
    "print(firewall)\n",
    "firewall.tick()\n",
    "print(firewall)\n",
    "firewall.tick()\n",
    "print(firewall)"
   ]
  },
  {
   "cell_type": "code",
   "execution_count": 316,
   "metadata": {},
   "outputs": [
    {
     "name": "stdout",
     "output_type": "stream",
     "text": [
      "Layer(depth=0, range=3, scanner=0)\n",
      "Layer(depth=1, range=2, scanner=0)\n",
      "Layer(depth=4, range=4, scanner=2)\n",
      "Layer(depth=6, range=4, scanner=2)\n"
     ]
    }
   ],
   "source": [
    "for layer in firewall: print(layer)"
   ]
  },
  {
   "cell_type": "code",
   "execution_count": 215,
   "metadata": {},
   "outputs": [
    {
     "name": "stdout",
     "output_type": "stream",
     "text": [
      "hits: 6\n",
      "severity: 1476\n"
     ]
    }
   ],
   "source": [
    "def go(firewall):\n",
    "    hits = 0\n",
    "    severity = 0\n",
    "    for player in range(0, firewall.max_depth+1):    \n",
    "        layer = firewall.kernel[player]\n",
    "        # print('Player:', player, 'layer', layer, end=' ')\n",
    "        if layer and layer.scanner == 0:\n",
    "            # print('[hit]')\n",
    "            hits += 1\n",
    "            severity += layer.depth * layer.range\n",
    "        # else:\n",
    "            # print('[Ok]')\n",
    "        firewall.tick()\n",
    "    return(hits, severity)\n",
    "    \n",
    "firewall = load_firewall('input.txt')\n",
    "hits, severity = go(firewall)\n",
    "print('hits:', hits)\n",
    "print('severity:', severity)"
   ]
  },
  {
   "cell_type": "code",
   "execution_count": 152,
   "metadata": {},
   "outputs": [],
   "source": [
    "## Part 2"
   ]
  },
  {
   "cell_type": "code",
   "execution_count": 271,
   "metadata": {},
   "outputs": [
    {
     "name": "stdout",
     "output_type": "stream",
     "text": [
      "hits: 0\n",
      "severity: 0\n"
     ]
    }
   ],
   "source": [
    "firewall = load_firewall('input_test.txt')\n",
    "\n",
    "delay = 10\n",
    "for i in range(delay):\n",
    "    firewall.tick()\n",
    "\n",
    "hits, severity = go(firewall)\n",
    "print('hits:', hits)\n",
    "print('severity:', severity)"
   ]
  },
  {
   "cell_type": "code",
   "execution_count": 344,
   "metadata": {},
   "outputs": [
    {
     "name": "stdout",
     "output_type": "stream",
     "text": [
      "Found delay: 464\n",
      "Found delay: 1724\n",
      "Picosecond 3040:\n",
      "  0    1    2    3    4    5    6    7    8    9   10   11   12   13   14   15   16   17   18   19   20   21   22   23   24   25   26   27   28   29   30   31   32   33   34   35   36   37   38   39   40  \n",
      " [S]  [S]  [ ]  ...  [S]  ...  [S]  ...  [S]  ...  [S]  ...  [ ]  ...  [ ]  ...  [ ]  ...  [S]  ...  [ ]  ...  [S]  ...  [ ]  ...  [ ]  ...  [ ]  ...  [ ]  ...  [ ]  ...  [ ]  ...  [ ]  ...  [ ]  ...  [ ] \n",
      " [ ]  [ ]  [ ]       [ ]       [ ]       [ ]       [ ]       [ ]       [ ]       [ ]       [ ]       [ ]       [ ]       [ ]       [ ]       [ ]       [ ]       [ ]       [ ]       [ ]       [ ]       [ ] \n",
      " [ ]       [S]       [ ]       [ ]       [ ]       [ ]       [S]       [S]       [S]       [ ]       [S]       [ ]       [S]       [ ]       [S]       [ ]       [S]       [S]       [S]       [S]       [ ] \n",
      "           [ ]       [ ]       [ ]       [ ]       [ ]       [ ]       [ ]       [ ]       [ ]       [ ]       [ ]       [ ]       [ ]       [ ]       [ ]       [ ]       [ ]       [ ]       [ ]       [ ] \n",
      "                     [ ]       [ ]       [ ]       [ ]                 [ ]       [ ]       [ ]       [ ]       [ ]       [ ]       [S]       [ ]       [S]       [ ]       [ ]       [ ]       [ ]       [S] \n",
      "                     [ ]                 [ ]       [ ]                 [ ]       [ ]       [ ]       [ ]       [ ]       [ ]       [ ]       [ ]       [ ]       [ ]       [ ]       [ ]       [ ]       [ ] \n",
      "                                                                       [ ]       [ ]       [ ]       [ ]                 [ ]       [ ]       [ ]       [ ]       [ ]       [ ]       [ ]       [ ]       [ ] \n",
      "                                                                       [ ]       [ ]       [ ]       [ ]                 [ ]       [ ]       [ ]       [ ]       [ ]       [ ]       [ ]       [ ]       [ ] \n",
      "                                                                                           [ ]                           [ ]       [ ]       [ ]       [ ]                 [ ]                           [ ] \n",
      "                                                                                                                         [ ]       [ ]       [ ]       [ ]                 [ ]                           [ ] \n",
      "                                                                                                                         [ ]       [ ]                 [ ]                                               [ ] \n",
      "                                                                                                                         [ ]       [ ]                 [ ]                                               [ ] \n",
      "                                                                                                                         [ ]                                                                                 \n",
      "                                                                                                                         [ ]                                                                                 \n",
      "                                                                                                                                                                                                             \n",
      "\n"
     ]
    }
   ],
   "source": [
    "delays = list(range(450, 3000))\n",
    "\n",
    "seq_hits = []\n",
    "seq_severity = []\n",
    "for delay in delays:\n",
    "    firewall = load_firewall('input.txt', max_lines=22)\n",
    "    #print('firewall depth: {}'.format(firewall.max_depth))\n",
    "    for i in range(delay):\n",
    "        firewall.tick()\n",
    "    hits, severity = go(firewall)\n",
    "    if severity == 0:\n",
    "        print('Found delay: {}'.format(delay))\n",
    "    seq_hits.append(hits)\n",
    "    seq_severity.append(severity)\n",
    "    # print('Severity at delay {} is {}'.format(delay, severity))\n",
    "print(firewall)"
   ]
  },
  {
   "cell_type": "code",
   "execution_count": 369,
   "metadata": {},
   "outputs": [],
   "source": [
    "import sys \n",
    "\n",
    "def tryit(firewall):\n",
    "    for player in range(0, firewall.max_depth+1):    \n",
    "        layer = firewall.kernel[player]\n",
    "        if layer and layer.scanner == 0:\n",
    "            severity = layer.depth * layer.range\n",
    "            if severity > 0:\n",
    "                return False\n",
    "        firewall.tick()\n",
    "    return True\n",
    "\n",
    "firewall = load_firewall('input_test.txt')\n",
    "for i in range(10):\n",
    "    firewall.tick()\n",
    "assert tryit(firewall) == True"
   ]
  },
  {
   "cell_type": "code",
   "execution_count": 373,
   "metadata": {},
   "outputs": [
    {
     "name": "stdout",
     "output_type": "stream",
     "text": [
      "Found delay: 562424 t 0\n",
      "Found delay: 839624 t 1\n",
      "Found delay: 1116824 t 2\n",
      "Found delay: 1394024 t 3\n",
      "Found delay: 1671224 t 4\n"
     ]
    }
   ],
   "source": [
    "for t in range(0,5):\n",
    "    firewall = load_firewall('input.txt', max_lines=35)\n",
    "    delay = 562424 + t * 277200\n",
    "    for i in range(delay):\n",
    "        firewall.tick()\n",
    "    found = tryit(firewall)\n",
    "    if found:\n",
    "        print('Found delay: {}'.format(delay), 't', t)\n",
    "    # print('Severity at delay {} is {}'.format(delay, severity))"
   ]
  },
  {
   "cell_type": "code",
   "execution_count": 288,
   "metadata": {},
   "outputs": [
    {
     "data": {
      "text/plain": [
       "[<matplotlib.lines.Line2D at 0x7f9492519358>]"
      ]
     },
     "execution_count": 288,
     "metadata": {},
     "output_type": "execute_result"
    },
    {
     "data": {
      "image/png": "[encoded data removed]",
      "text/plain": [
       "<matplotlib.figure.Figure at 0x7f94922bb940>"
      ]
     },
     "metadata": {},
     "output_type": "display_data"
    }
   ],
   "source": [
    "%matplotlib inline\n",
    "import matplotlib.pyplot as plt\n",
    "\n",
    "x = list(delays)\n",
    "x, seq_hits\n",
    "plt.figure(figsize=(14, 5))\n",
    "plt.plot(x[::5], seq_hits[::5], 'r.')\n",
    "plt.plot(x[::5], seq_severity[::5], 'b-' )"
   ]
  },
  {
   "cell_type": "code",
   "execution_count": 338,
   "metadata": {},
   "outputs": [
    {
     "name": "stdout",
     "output_type": "stream",
     "text": [
      "Not found\n",
      "tried until delay 17924\n"
     ]
    }
   ],
   "source": [
    "delays = list(range(0, 100))\n",
    "for t in delays:\n",
    "    delay = 104+t*180\n",
    "    if delay % 100 == 0:\n",
    "        sys.stdout.write('#')\n",
    "        sys.stdout.flush()\n",
    "    firewall = load_firewall('input.txt')\n",
    "    for i in range(delay):\n",
    "        firewall.tick()\n",
    "    if tryit(firewall):\n",
    "        print('Found delay: {}'.format(delay))\n",
    "        break\n",
    "else:\n",
    "    print('Not found')\n",
    "    print('tried until delay {}'.format(delay))"
   ]
  },
  {
   "cell_type": "code",
   "execution_count": 233,
   "metadata": {},
   "outputs": [
    {
     "data": {
      "text/plain": [
       "9800"
      ]
     },
     "execution_count": 233,
     "metadata": {},
     "output_type": "execute_result"
    }
   ],
   "source": [
    "firewall.max_depth*100"
   ]
  },
  {
   "cell_type": "code",
   "execution_count": 236,
   "metadata": {},
   "outputs": [
    {
     "name": "stdout",
     "output_type": "stream",
     "text": [
      "Picosecond 12000:\n",
      "  0    1    2    3    4    5    6    7    8    9   10   11   12   13   14   15   16   17   18   19   20   21   22   23   24   25   26   27   28   29   30   31   32   33   34   35   36   37   38   39   40   41   42   43   44   45   46   47   48   49   50   51   52   53   54   55   56   57   58   59   60   61   62   63   64   65   66   67   68   69   70   71   72   73   74   75   76   77   78   79   80   81   82   83   84   85   86   87   88   89   90   91   92   93   94   95   96   97   98  \n",
      " [S]  [S]  [S]  ...  [S]  ...  [S]  ...  [S]  ...  [S]  ...  [S]  ...  [ ]  ...  [ ]  ...  [S]  ...  [ ]  ...  [S]  ...  [ ]  ...  [ ]  ...  [ ]  ...  [ ]  ...  [ ]  ...  [ ]  ...  [ ]  ...  [ ]  ...  [ ]  ...  [ ]  ...  [ ]  ...  [ ]  ...  [ ]  ...  ...  ...  [ ]  ...  [ ]  ...  [ ]  ...  [ ]  ...  [ ]  ...  [ ]  ...  [ ]  ...  [ ]  ...  [ ]  ...  [ ]  ...  [ ]  ...  ...  ...  ...  ...  ...  ...  [ ]  ...  [ ]  ...  [ ]  ...  [ ]  ...  ...  ...  [S]  ...  ...  ...  ...  ...  [ ]  ...  [ ] \n",
      " [ ]  [ ]  [ ]       [ ]       [ ]       [ ]       [ ]       [ ]       [ ]       [ ]       [ ]       [ ]       [ ]       [ ]       [ ]       [ ]       [ ]       [ ]       [ ]       [ ]       [ ]       [ ]       [ ]       [ ]       [ ]       [ ]                 [ ]       [ ]       [ ]       [ ]       [ ]       [ ]       [ ]       [ ]       [ ]       [ ]       [ ]                                     [ ]       [ ]       [ ]       [ ]                 [ ]                           [ ]       [ ] \n",
      " [ ]       [ ]       [ ]       [ ]       [ ]       [ ]       [ ]       [S]       [S]       [ ]       [S]       [ ]       [ ]       [ ]       [ ]       [ ]       [S]       [ ]       [S]       [S]       [ ]       [ ]       [ ]       [ ]       [ ]                 [ ]       [ ]       [ ]       [ ]       [ ]       [ ]       [ ]       [ ]       [ ]       [ ]       [ ]                                     [S]       [ ]       [ ]       [ ]                 [ ]                           [ ]       [ ] \n",
      "           [ ]       [ ]       [ ]       [ ]       [ ]       [ ]       [ ]       [ ]       [ ]       [ ]       [ ]       [ ]       [ ]       [ ]       [ ]       [ ]       [ ]       [ ]       [ ]       [ ]       [ ]       [ ]       [ ]       [ ]                 [ ]       [ ]       [ ]       [ ]       [ ]       [ ]       [ ]       [ ]       [ ]       [ ]       [ ]                                     [ ]       [ ]       [ ]       [ ]                 [ ]                           [ ]       [ ] \n",
      "                     [ ]       [ ]       [ ]       [ ]                 [ ]       [ ]       [ ]       [ ]       [ ]       [ ]       [ ]       [ ]       [ ]       [ ]       [ ]       [ ]       [ ]       [ ]       [ ]       [ ]       [ ]       [ ]                 [ ]       [ ]       [ ]       [ ]       [ ]       [ ]       [ ]       [ ]       [ ]       [ ]       [ ]                                     [ ]       [ ]       [ ]       [ ]                 [ ]                           [ ]       [ ] \n",
      "                     [ ]                 [ ]       [ ]                 [ ]       [ ]       [ ]       [ ]       [ ]       [ ]       [ ]       [ ]       [ ]       [ ]       [ ]       [ ]       [ ]       [ ]       [ ]       [ ]       [ ]       [ ]                 [ ]       [ ]       [ ]       [ ]       [ ]       [ ]       [ ]       [ ]       [ ]       [ ]       [ ]                                     [ ]       [ ]       [ ]       [ ]                 [ ]                           [ ]       [ ] \n",
      "                                                                       [ ]       [ ]       [ ]       [ ]                 [ ]       [ ]       [S]       [ ]       [ ]       [S]       [ ]       [ ]       [ ]       [ ]       [ ]       [ ]       [ ]                 [ ]       [ ]       [ ]       [ ]       [ ]       [ ]       [ ]       [ ]       [ ]       [ ]       [ ]                                     [ ]       [ ]       [ ]       [ ]                 [ ]                           [ ]       [S] \n",
      "                                                                       [ ]       [ ]       [ ]       [ ]                 [ ]       [ ]       [ ]       [ ]       [ ]       [ ]       [ ]       [ ]       [ ]       [ ]       [ ]       [ ]       [ ]                 [ ]       [ ]       [ ]       [ ]       [ ]       [ ]       [ ]       [ ]       [ ]       [ ]       [ ]                                     [ ]       [ ]       [ ]       [ ]                 [ ]                           [ ]       [ ] \n",
      "                                                                                           [ ]                           [ ]       [ ]       [ ]       [ ]                 [ ]                           [ ]       [ ]       [ ]       [ ]       [ ]                 [ ]       [ ]       [ ]       [ ]       [ ]       [ ]       [ ]       [ ]       [ ]       [ ]       [ ]                                     [ ]       [ ]       [S]       [ ]                 [ ]                           [S]       [ ] \n",
      "                                                                                                                         [ ]       [ ]       [ ]       [ ]                 [ ]                           [ ]       [ ]       [ ]       [ ]       [ ]                 [ ]       [ ]       [ ]       [ ]       [ ]       [ ]       [ ]       [ ]       [ ]       [ ]       [ ]                                     [ ]       [ ]       [ ]       [ ]                 [ ]                           [ ]       [ ] \n",
      "                                                                                                                         [ ]       [S]                 [S]                                               [S]       [S]       [S]       [S]       [ ]                 [ ]       [S]       [S]       [S]       [S]       [ ]       [ ]       [ ]       [ ]       [ ]       [ ]                                     [ ]       [ ]       [ ]       [ ]                 [ ]                           [ ]       [ ] \n",
      "                                                                                                                         [ ]       [ ]                 [ ]                                               [ ]       [ ]       [ ]       [ ]       [ ]                 [ ]       [ ]       [ ]       [ ]       [ ]       [ ]       [ ]       [ ]       [ ]       [ ]       [ ]                                     [ ]       [ ]       [ ]       [ ]                 [ ]                           [ ]       [ ] \n",
      "                                                                                                                         [S]                                                                                                                     [S]                 [S]                                               [S]       [S]       [S]       [S]       [S]       [S]                                     [ ]       [S]       [ ]       [S]                 [ ]                           [ ]       [ ] \n",
      "                                                                                                                         [ ]                                                                                                                     [ ]                 [ ]                                               [ ]       [ ]       [ ]       [ ]       [ ]       [ ]                                     [ ]       [ ]       [ ]       [ ]                 [ ]                           [ ]       [ ] \n",
      "                                                                                                                                                                                                                                                                                                                                                                                                                 [ ]                 [ ]                           [ ]                           [ ]       [ ] \n",
      "                                                                                                                                                                                                                                                                                                                                                                                                                 [ ]                 [ ]                           [ ]                           [ ]       [ ] \n",
      "                                                                                                                                                                                                                                                                                                                                                                                                                 [ ]                 [ ]                           [ ]                           [ ]       [ ] \n",
      "                                                                                                                                                                                                                                                                                                                                                                                                                 [ ]                 [ ]                                                         [ ]       [ ] \n",
      "                                                                                                                                                                                                                                                                                                                                                                                                                                     [ ]                                                         [ ]       [ ] \n",
      "                                                                                                                                                                                                                                                                                                                                                                                                                                     [ ]                                                         [ ]       [ ] \n",
      "                                                                                                                                                                                                                                                                                                                                                                                                                                                                                                           [ ] \n",
      "                                                                                                                                                                                                                                                                                                                                                                                                                                                                                                           [ ] \n",
      "                                                                                                                                                                                                                                                                                                                                                                                                                                                                                                           [ ] \n",
      "                                                                                                                                                                                                                                                                                                                                                                                                                                                                                                           [ ] \n",
      "                                                                                                                                                                                                                                                                                                                                                                                                                                                                                                               \n",
      "\n"
     ]
    }
   ],
   "source": [
    "print(firewall)"
   ]
  },
  {
   "cell_type": "code",
   "execution_count": 246,
   "metadata": {},
   "outputs": [],
   "source": [
    "firewall = load_firewall('input.txt')"
   ]
  },
  {
   "cell_type": "code",
   "execution_count": 384,
   "metadata": {},
   "outputs": [
    {
     "name": "stdout",
     "output_type": "stream",
     "text": [
      "1 1\n"
     ]
    },
    {
     "ename": "AssertionError",
     "evalue": "",
     "output_type": "error",
     "traceback": [
      "\u001b[0;31m---------------------------------------------------------------------------\u001b[0m",
      "\u001b[0;31mAssertionError\u001b[0m                            Traceback (most recent call last)",
      "\u001b[0;32m<ipython-input-384-636eb0e4ec47>\u001b[0m in \u001b[0;36m<module>\u001b[0;34m()\u001b[0m\n\u001b[1;32m      4\u001b[0m     \u001b[0;32mfor\u001b[0m \u001b[0mdelay\u001b[0m \u001b[0;32min\u001b[0m \u001b[0mrange\u001b[0m\u001b[0;34m(\u001b[0m\u001b[0mi\u001b[0m\u001b[0;34m)\u001b[0m\u001b[0;34m:\u001b[0m\u001b[0;34m\u001b[0m\u001b[0m\n\u001b[1;32m      5\u001b[0m         \u001b[0mfirewall\u001b[0m\u001b[0;34m.\u001b[0m\u001b[0mtick\u001b[0m\u001b[0;34m(\u001b[0m\u001b[0;34m)\u001b[0m\u001b[0;34m\u001b[0m\u001b[0m\n\u001b[0;32m----> 6\u001b[0;31m     \u001b[0;32massert\u001b[0m \u001b[0mgo\u001b[0m\u001b[0;34m(\u001b[0m\u001b[0mfirewall\u001b[0m\u001b[0;34m)\u001b[0m \u001b[0;34m==\u001b[0m \u001b[0;32mFalse\u001b[0m\u001b[0;34m\u001b[0m\u001b[0m\n\u001b[0m\u001b[1;32m      7\u001b[0m \u001b[0mprint\u001b[0m\u001b[0;34m(\u001b[0m\u001b[0;34m'Ummkm oki'\u001b[0m\u001b[0;34m)\u001b[0m\u001b[0;34m\u001b[0m\u001b[0m\n",
      "\u001b[0;31mAssertionError\u001b[0m: "
     ]
    }
   ],
   "source": [
    "for i in range(1,1000, 2):\n",
    "    firewall = load_firewall('input_test.txt')\n",
    "    print(i, i&1)\n",
    "    for delay in range(i):\n",
    "        firewall.tick()\n",
    "    assert go(firewall) == False\n",
    "print('Ummkm oki')"
   ]
  },
  {
   "cell_type": "code",
   "execution_count": 494,
   "metadata": {},
   "outputs": [
    {
     "name": "stdout",
     "output_type": "stream",
     "text": [
      "8 x\n",
      "18 x\n",
      "28 x\n",
      "38 x\n",
      "48 x\n",
      "58 x\n",
      "68 x\n",
      "78 x\n",
      "88 x\n"
     ]
    }
   ],
   "source": [
    "for delay in range(0, 92):\n",
    "    f = Firewall()\n",
    "    f.add(Layer('22: 6'))\n",
    "    for _ in range(delay):\n",
    "        f.tick()\n",
    "    success = tryit(f)\n",
    "    if not success:\n",
    "        print(delay, 'x')\n"
   ]
  },
  {
   "cell_type": "code",
   "execution_count": 495,
   "metadata": {},
   "outputs": [
    {
     "name": "stdout",
     "output_type": "stream",
     "text": [
      "1, 3, 5, 7, 9, 11, 13, 15, 17, 19, 21, 23, 25, 27, 29, 31, 33, 35, 37, 39, 41, 43, 45, 47, 49, 51, 53, 55, 57, 59, 61, 63, 65, 67, 69, 71, 73, 75, 77, 79, 81, 83, 85, 87, 89, 91, 93, 95, 97, 99, 101, 103, 105, 107, 109, 111, 113, 115, 117, 119, 121 total: 61\n"
     ]
    }
   ],
   "source": [
    "t = 0\n",
    "def chk(t):\n",
    "    return all([\n",
    "        t % 2 != 0,\n",
    "        t % 6 != 4, \n",
    "        t % 10 != 6,\n",
    "        t % 8 != 2,\n",
    "        t % 10 != 2,\n",
    "        t % 10 != 0,\n",
    "        t % 6 != 0,\n",
    "        t % 14 != 0,\n",
    "        t % 14 != 12,\n",
    "        t % 16 != 14,\n",
    "        t % 14 != 8,\n",
    "        t % 10 != 8,\n",
    "    ])\n",
    "\n",
    "sols = [i for i in range(123) if chk(i)]\n",
    "print(', '.join([str(i) for i in sols]), 'total:', len(sols))"
   ]
  },
  {
   "cell_type": "code",
   "execution_count": null,
   "metadata": {},
   "outputs": [],
   "source": []
  },
  {
   "cell_type": "code",
   "execution_count": null,
   "metadata": {},
   "outputs": [],
   "source": []
  }
 ],
 "metadata": {
  "kernelspec": {
   "display_name": "Python 3",
   "language": "python",
   "name": "python3"
  },
  "language_info": {
   "codemirror_mode": {
    "name": "ipython",
    "version": 3
   },
   "file_extension": ".py",
   "mimetype": "text/x-python",
   "name": "python",
   "nbconvert_exporter": "python",
   "pygments_lexer": "ipython3",
   "version": "3.5.2"
  },
  "toc": {
   "nav_menu": {},
   "number_sections": true,
   "sideBar": true,
   "skip_h1_title": false,
   "title_cell": "Table of Contents",
   "title_sidebar": "Contents",
   "toc_cell": true,
   "toc_position": {},
   "toc_section_display": true,
   "toc_window_display": false
  }
 },
 "nbformat": 4,
 "nbformat_minor": 2
}
