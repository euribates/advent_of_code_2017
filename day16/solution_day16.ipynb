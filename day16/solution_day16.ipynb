{
 "cells": [
  {
   "cell_type": "markdown",
   "metadata": {},
   "source": [
    "## Day 16: Permutation Promenade\n",
    "\n",
    "You come upon a very unusual sight; a group of programs here appear to be dancing.\n",
    "\n",
    "### Part one\n",
    "\n",
    "There are sixteen programs in total, named a through p. They start by standing in a line: a stands in position 0, b stands in position 1, and so on until p, which stands in position 15."
   ]
  },
  {
   "cell_type": "code",
   "execution_count": 84,
   "metadata": {},
   "outputs": [],
   "source": [
    "import numpy as np"
   ]
  },
  {
   "cell_type": "code",
   "execution_count": 85,
   "metadata": {},
   "outputs": [
    {
     "name": "stdout",
     "output_type": "stream",
     "text": [
      "ok\n"
     ]
    }
   ],
   "source": [
    "programs = np.array(list('abcdefghijklmnop'))\n",
    "len(programs) == 16\n",
    "programs[0] == 'a'\n",
    "programs[1] == 'b'\n",
    "programs[15] == 'p'\n",
    "print('ok')"
   ]
  },
  {
   "cell_type": "markdown",
   "metadata": {},
   "source": [
    "The programs' dance consists of a sequence of dance moves:\n",
    "\n",
    " - **Spin**, written `sX`, makes X programs move from the end to the front, but maintain their order otherwise. (For example, `s3` on `abcde` produces `cdeab`).\n",
    " \n",
    " - **Exchange**, written `xA/B`, makes the programs at positions A and B swap places.\n",
    " \n",
    " - **Partner**, written `pA/B`, makes the programs named A and B swap places.\n",
    "\n",
    "For example, with only five programs standing in a line (abcde), they could do the following dance:\n",
    "\n",
    "    s1, a spin of size 1: eabcd.\n",
    "    x3/4, swapping the last two programs: eabdc.\n",
    "    pe/b, swapping programs e and b: baedc."
   ]
  },
  {
   "cell_type": "code",
   "execution_count": 86,
   "metadata": {},
   "outputs": [
    {
     "name": "stdout",
     "output_type": "stream",
     "text": [
      "ok\n"
     ]
    }
   ],
   "source": [
    "# Spin\n",
    "\n",
    "def spin(n):\n",
    "    global programs\n",
    "    programs = np.roll(programs, n)\n",
    "\n",
    "programs = np.array(list('abcde'))        \n",
    "spin(1)\n",
    "assert programs.tolist() == ['e', 'a', 'b', 'c', 'd']\n",
    "print('ok')\n"
   ]
  },
  {
   "cell_type": "code",
   "execution_count": 87,
   "metadata": {},
   "outputs": [
    {
     "name": "stdout",
     "output_type": "stream",
     "text": [
      "ok\n"
     ]
    }
   ],
   "source": [
    "# Spin\n",
    "\n",
    "def exchange(pos_a, pos_b):\n",
    "    global programs\n",
    "    programs[pos_a], programs[pos_b] = programs[pos_b], programs[pos_a]\n",
    "    \n",
    "programs = np.array(list('abcde'))    \n",
    "exchange(3, 4)\n",
    "assert programs.tolist() == ['a', 'b', 'c', 'e', 'd']\n",
    "print('ok')"
   ]
  },
  {
   "cell_type": "code",
   "execution_count": 88,
   "metadata": {},
   "outputs": [
    {
     "name": "stdout",
     "output_type": "stream",
     "text": [
      "ok\n"
     ]
    }
   ],
   "source": [
    "# Spin\n",
    "\n",
    "def partner(val_a, val_b):\n",
    "    global programs\n",
    "    pos_a = np.where(programs == val_a)[0][0]\n",
    "    pos_b = np.where(programs == val_b)[0][0]\n",
    "    exchange(pos_a, pos_b)\n",
    "    \n",
    "programs = np.array(list('abcde'))    \n",
    "partner('e', 'b')\n",
    "assert programs.tolist() == ['a', 'e', 'c', 'd', 'b']\n",
    "print('ok')"
   ]
  },
  {
   "cell_type": "markdown",
   "metadata": {},
   "source": [
    "After finishing their dance, the programs end up in order `baedc`."
   ]
  },
  {
   "cell_type": "code",
   "execution_count": 89,
   "metadata": {},
   "outputs": [
    {
     "name": "stdout",
     "output_type": "stream",
     "text": [
      "ok\n"
     ]
    }
   ],
   "source": [
    "programs = np.array(list('abcde'))\n",
    "spin(1)\n",
    "exchange(3, 4)\n",
    "partner('e', 'b')\n",
    "assert programs.tolist() == ['b', 'a', 'e', 'd', 'c']\n",
    "print('ok')"
   ]
  },
  {
   "cell_type": "code",
   "execution_count": 90,
   "metadata": {},
   "outputs": [],
   "source": [
    "def process(op):\n",
    "    codop = op[0]\n",
    "    if codop == 's':  # spin\n",
    "        n = int(op[1:])\n",
    "        spin(n)\n",
    "    elif codop == 'x':  # exchange\n",
    "        p1, p2 = [int(_) for _ in op[1:].split('/')]\n",
    "        exchange(p1, p2)\n",
    "    elif codop == 'p':  # partner\n",
    "        v1, v2 = [_ for _ in op[1:].split('/')]\n",
    "        partner(v1, v2)\n",
    "    else:\n",
    "        raise ValueError('Invalid cod. op. [{}]'.format(codop))"
   ]
  },
  {
   "cell_type": "code",
   "execution_count": 91,
   "metadata": {},
   "outputs": [
    {
     "name": "stdout",
     "output_type": "stream",
     "text": [
      "ok\n"
     ]
    }
   ],
   "source": [
    "programs = np.array(list('abcde'))\n",
    "code = ['s1', 'x3/4', 'pe/b']\n",
    "for op in code:\n",
    "    process(op)\n",
    "assert programs.tolist() == ['b', 'a', 'e', 'd', 'c']\n",
    "print('ok')"
   ]
  },
  {
   "cell_type": "markdown",
   "metadata": {},
   "source": [
    "You watch the dance for a while and record their dance moves (your puzzle input). **In what order are the programs standing after their dance?**"
   ]
  },
  {
   "cell_type": "code",
   "execution_count": 92,
   "metadata": {},
   "outputs": [
    {
     "name": "stdout",
     "output_type": "stream",
     "text": [
      "Part one: bkgcdefiholnpmja\n"
     ]
    }
   ],
   "source": [
    "programs = np.array(list('abcdefghijklmnop'))\n",
    "\n",
    "with open('input.txt', 'r') as f:\n",
    "    code = f.read().strip().split(',')\n",
    "    \n",
    "for line_num, op in enumerate(code):\n",
    "    process(op)\n",
    "    \n",
    "print('Part one:', ''.join(programs.tolist()))"
   ]
  },
  {
   "cell_type": "markdown",
   "metadata": {},
   "source": [
    "### Part two\n",
    "\n",
    "Now that you're starting to get a feel for the dance moves, you turn your attention to the dance as a whole.\n",
    "\n",
    "Keeping the positions they ended up in from their previous dance, the programs perform it again and again: including the first dance, a total of one billion (1000000000) times.\n",
    "\n",
    "In the example above, their second dance would begin with the order baedc, and use the same dance moves:\n",
    "\n",
    "    s1, a spin of size 1: cbaed.\n",
    "    x3/4, swapping the last two programs: cbade.\n",
    "    pe/b, swapping programs e and b: ceadb.\n",
    "\n",
    "**In what order are the programs standing after their billion dances?**"
   ]
  },
  {
   "cell_type": "markdown",
   "metadata": {},
   "source": [
    "Brute force will be too demanding. Let's find a pattern. How many rounds until we get the same sequence?"
   ]
  },
  {
   "cell_type": "code",
   "execution_count": 93,
   "metadata": {},
   "outputs": [
    {
     "name": "stdout",
     "output_type": "stream",
     "text": [
      "60\n"
     ]
    }
   ],
   "source": [
    "import sys\n",
    "\n",
    "start_position = np.array(list('abcdefghijklmnop'))\n",
    "programs = np.array(list('abcdefghijklmnop'))\n",
    "\n",
    "with open('input.txt', 'r') as f:\n",
    "    code = f.read().strip().split(',')\n",
    "\n",
    "def round():\n",
    "    for line_num, op in enumerate(code):\n",
    "        process(op)\n",
    "    \n",
    "counter = 0\n",
    "for _ in range(1000):\n",
    "    round()\n",
    "    counter += 1\n",
    "    if all(programs == start_position):\n",
    "        print(counter)\n",
    "        break\n",
    "        \n",
    "    "
   ]
  },
  {
   "cell_type": "markdown",
   "metadata": {},
   "source": [
    "So, one (american) billion is the same as $10^9 mod\\ 60$ rounds."
   ]
  },
  {
   "cell_type": "code",
   "execution_count": 94,
   "metadata": {},
   "outputs": [
    {
     "data": {
      "text/plain": [
       "40"
      ]
     },
     "execution_count": 94,
     "metadata": {},
     "output_type": "execute_result"
    }
   ],
   "source": [
    "1000000000 % 60"
   ]
  },
  {
   "cell_type": "code",
   "execution_count": 95,
   "metadata": {},
   "outputs": [
    {
     "name": "stdout",
     "output_type": "stream",
     "text": [
      "Part two: knmdfoijcbpghlea\n"
     ]
    }
   ],
   "source": [
    "import sys\n",
    "\n",
    "programs = np.array(list('abcdefghijklmnop'))\n",
    "for _ in range(40):\n",
    "    round()\n",
    "\n",
    "print('Part two:', ''.join(programs.tolist()))"
   ]
  },
  {
   "cell_type": "code",
   "execution_count": null,
   "metadata": {},
   "outputs": [],
   "source": []
  }
 ],
 "metadata": {
  "kernelspec": {
   "display_name": "Python 3",
   "language": "python",
   "name": "python3"
  },
  "language_info": {
   "codemirror_mode": {
    "name": "ipython",
    "version": 3
   },
   "file_extension": ".py",
   "mimetype": "text/x-python",
   "name": "python",
   "nbconvert_exporter": "python",
   "pygments_lexer": "ipython3",
   "version": "3.5.2"
  }
 },
 "nbformat": 4,
 "nbformat_minor": 2
}
