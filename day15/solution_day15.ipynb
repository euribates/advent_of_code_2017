{
 "cells": [
  {
   "cell_type": "markdown",
   "metadata": {},
   "source": [
    "## Day 15: Dueling Generators"
   ]
  },
  {
   "cell_type": "markdown",
   "metadata": {},
   "source": [
    "Here, you encounter a pair of dueling generators. The generators, called **generator A** and **generator B**, are trying to agree on a sequence of numbers. However, one of them is malfunctioning, and so the sequences don't always match."
   ]
  },
  {
   "cell_type": "markdown",
   "metadata": {},
   "source": [
    "### Part One"
   ]
  },
  {
   "cell_type": "markdown",
   "metadata": {},
   "source": [
    "As they do this, a judge waits for each of them to generate its next value, compares the lowest 16 bits of both values, and keeps track of the number of times those parts of the values match.\n",
    "\n",
    "The generators both work on the same principle. To create its next value, a generator will take the previous value it produced, multiply it by a factor (generator A uses 16807; generator B uses 48271), and then keep the remainder of dividing that resulting product by 2147483647. That final remainder is the value it produces next."
   ]
  },
  {
   "cell_type": "code",
   "execution_count": 9,
   "metadata": {},
   "outputs": [
    {
     "name": "stdout",
     "output_type": "stream",
     "text": [
      "16807 48271\n",
      "282475249 182605794\n",
      "1622650073 1291394886\n",
      "984943658 1914720637\n",
      "1144108930 2078669041\n",
      "470211272 407355683\n",
      "101027544 1105902161\n",
      "1457850878 854716505\n",
      "1458777923 564586691\n",
      "2007237709 1596680831\n",
      "823564440 192302371\n"
     ]
    }
   ],
   "source": [
    "MAGIC_NUMBER = 2147483647\n",
    "\n",
    "class Generator:\n",
    "    \n",
    "    def __init__(self, factor, value=1):\n",
    "        self.factor = factor\n",
    "        self.value = value\n",
    "        \n",
    "    def __iter__(self): return self\n",
    "    \n",
    "    def __next__(self):\n",
    "        self.value = self.value * self.factor % MAGIC_NUMBER\n",
    "        return self.value\n",
    "        \n",
    "a = Generator(16807)\n",
    "b = Generator(48271)\n",
    "\n",
    "counter = 0\n",
    "for i, j in zip(a, b):\n",
    "    print(i, j)\n",
    "    counter += 1\n",
    "    if counter > 10:\n",
    "        break\n"
   ]
  },
  {
   "cell_type": "markdown",
   "metadata": {},
   "source": [
    "To calculate each generator's first value, it instead uses a specific starting value as its \"previous value\" (as listed in your puzzle input).\n",
    "\n",
    "For example, suppose that for starting values, generator A uses 65, while generator B uses 8921. Then, the first five pairs of generated values are:\n",
    "\n",
    "    --Gen. A--  --Gen. B--\n",
    "       1092455   430625591\n",
    "    1181022009  1233683848\n",
    "     245556042  1431495498\n",
    "    1744312007   137874439\n",
    "    1352636452   285222916\n"
   ]
  },
  {
   "cell_type": "code",
   "execution_count": 10,
   "metadata": {},
   "outputs": [
    {
     "data": {
      "text/plain": [
       "True"
      ]
     },
     "execution_count": 10,
     "metadata": {},
     "output_type": "execute_result"
    }
   ],
   "source": [
    "def first(max_count, seq):\n",
    "    '''Return the first `max_count` elements of a sequence or generator\n",
    "    '''\n",
    "    assert max_count > 0\n",
    "    counter = 0\n",
    "    for item in seq:\n",
    "        yield item\n",
    "        counter += 1\n",
    "        if counter >= max_count:\n",
    "            break\n",
    "        \n",
    "list(first(5, range(10))) == [0, 1, 2, 3, 4]"
   ]
  },
  {
   "cell_type": "code",
   "execution_count": 11,
   "metadata": {},
   "outputs": [
    {
     "name": "stdout",
     "output_type": "stream",
     "text": [
      "    --Gen. A--  --Gen. B--\n",
      "       1092455   430625591\n",
      "    1181022009  1233683848\n",
      "     245556042  1431495498\n",
      "    1744312007   137874439\n",
      "    1352636452   285222916\n"
     ]
    }
   ],
   "source": [
    "gen_a = Generator(16807, 65)\n",
    "gen_b = Generator(48271, 8921)\n",
    "\n",
    "print('    --Gen. A--  --Gen. B--')\n",
    "for (a, b) in first(5, zip(gen_a, gen_b)):\n",
    "    print('    {:10}  {:10}'.format(a, b))\n"
   ]
  },
  {
   "cell_type": "markdown",
   "metadata": {},
   "source": [
    "In binary, these pairs are (with generator A's value first in each pair):\n",
    "\n",
    "    00000000000100001010101101100111\n",
    "    00011001101010101101001100110111\n",
    "\n",
    "    01000110011001001111011100111001\n",
    "    01001001100010001000010110001000\n",
    "\n",
    "    00001110101000101110001101001010\n",
    "    01010101010100101110001101001010\n",
    "\n",
    "    01100111111110000001011011000111\n",
    "    00001000001101111100110000000111\n",
    "\n",
    "    01010000100111111001100000100100\n",
    "    00010001000000000010100000000100\n"
   ]
  },
  {
   "cell_type": "code",
   "execution_count": 12,
   "metadata": {},
   "outputs": [],
   "source": [
    "def to_bin(h, size=32):\n",
    "    s = bin(h)[2:]  # remove the binary prefix\n",
    "    if len(s) < size:\n",
    "        s = '0' * (size-len(s)) + s\n",
    "    return s\n",
    "\n",
    "assert to_bin(15, size=16) == '0000000000001111'"
   ]
  },
  {
   "cell_type": "code",
   "execution_count": 14,
   "metadata": {},
   "outputs": [
    {
     "name": "stdout",
     "output_type": "stream",
     "text": [
      "-------------Gen. A-------------  ------------Gen. B--------------\n",
      "00000000000100001010101101100111  00011001101010101101001100110111\n",
      "01000110011001001111011100111001  01001001100010001000010110001000\n",
      "00001110101000101110001101001010  01010101010100101110001101001010\n",
      "01100111111110000001011011000111  00001000001101111100110000000111\n",
      "01010000100111111001100000100100  00010001000000000010100000000100\n"
     ]
    }
   ],
   "source": [
    "gen_a = Generator(16807, 65)\n",
    "gen_b = Generator(48271, 8921)\n",
    "\n",
    "print('-------------Gen. A-------------  ------------Gen. B--------------')\n",
    "for a, b in first(5, zip(gen_a, gen_b)):\n",
    "    print('{}  {}'.format(\n",
    "        to_bin(a),\n",
    "        to_bin(b),\n",
    "        ))"
   ]
  },
  {
   "cell_type": "markdown",
   "metadata": {},
   "source": [
    "Here, you can see that the lowest (here, rightmost) 16 bits of the third value match: 1110001101001010. Because of this one match, after processing these five pairs, the judge would have added only 1 to its total.\n",
    "\n"
   ]
  },
  {
   "cell_type": "code",
   "execution_count": 15,
   "metadata": {},
   "outputs": [],
   "source": [
    "def check(n1, n2): return n1[-16:] == n2[-16:]"
   ]
  },
  {
   "cell_type": "code",
   "execution_count": 16,
   "metadata": {},
   "outputs": [
    {
     "name": "stdout",
     "output_type": "stream",
     "text": [
      "-------------Gen. A-------------  ------------Gen. B--------------  -chk-\n",
      "00000000000100001010101101100111  00011001101010101101001100110111       \n",
      "01000110011001001111011100111001  01001001100010001000010110001000       \n",
      "00001110101000101110001101001010  01010101010100101110001101001010    ✓  \n",
      "01100111111110000001011011000111  00001000001101111100110000000111       \n",
      "01010000100111111001100000100100  00010001000000000010100000000100       \n"
     ]
    }
   ],
   "source": [
    "gen_a = Generator(16807, 65)\n",
    "gen_b = Generator(48271, 8921)\n",
    "\n",
    "print('-------------Gen. A-------------  ------------Gen. B--------------  -chk-')\n",
    "for a, b in first(5, zip(gen_a, gen_b)):\n",
    "    s1 = to_bin(a)\n",
    "    s2 = to_bin(b)\n",
    "    print('{}  {}  {:^5}'.format(s1, s2, '✓' if check(s1, s2) else ''))"
   ]
  },
  {
   "cell_type": "markdown",
   "metadata": {},
   "source": [
    "To get a significant sample, the judge would like to consider 40 million pairs. (In the example above, the judge would eventually find a total of 588 pairs that match in their lowest 16 bits.)"
   ]
  },
  {
   "cell_type": "code",
   "execution_count": 20,
   "metadata": {},
   "outputs": [
    {
     "name": "stdout",
     "output_type": "stream",
     "text": [
      "ok\n"
     ]
    }
   ],
   "source": [
    "gen_a = Generator(16807, 65)\n",
    "gen_b = Generator(48271, 8921)\n",
    "\n",
    "counter = 0\n",
    "for a, b in first(40000000, zip(gen_a, gen_b)):\n",
    "    s1 = to_bin(a)\n",
    "    s2 = to_bin(b)\n",
    "    if check(s1, s2):\n",
    "        counter += 1\n",
    "\n",
    "assert counter == 588\n",
    "print('ok')"
   ]
  },
  {
   "cell_type": "markdown",
   "metadata": {},
   "source": [
    "After 40 million pairs, **what is the judge's final count?**\n",
    "\n",
    "- Generator A starts with 783\n",
    "- Generator B starts with 325"
   ]
  },
  {
   "cell_type": "code",
   "execution_count": 21,
   "metadata": {},
   "outputs": [
    {
     "name": "stdout",
     "output_type": "stream",
     "text": [
      "Part one: 650\n"
     ]
    }
   ],
   "source": [
    "gen_a = Generator(16807, 783)\n",
    "gen_b = Generator(48271, 325)\n",
    "\n",
    "counter = 0\n",
    "for a, b in first(40000000, zip(gen_a, gen_b)):\n",
    "    s1 = to_bin(a)\n",
    "    s2 = to_bin(b)\n",
    "    if check(s1, s2):\n",
    "        counter += 1\n",
    "        \n",
    "print('Part one:', counter)"
   ]
  },
  {
   "cell_type": "markdown",
   "metadata": {},
   "source": [
    "### Part Two\n",
    "\n",
    "In the interest of trying to align a little better, the generators get more picky\n",
    "about the numbers they actually give to the judge.\n",
    "\n",
    "They still generate values in the same way, but now they only hand a value to \n",
    "the judge when it meets their criteria:\n",
    "\n",
    "    Generator A looks for values that are multiples of 4.\n",
    "    Generator B looks for values that are multiples of 8.\n",
    "\n",
    "Each generator functions completely independently: they both go through values\n",
    "entirely on their own, only occasionally handing an acceptable value to \n",
    "the judge, and otherwise working through the same sequence of values as before\n",
    "until they find one.\n",
    "\n",
    "The judge still waits for each generator to provide it with a value before comparing\n",
    "them (using the same comparison method as before). It keeps track of the order\n",
    "it receives values; the first values from each generator are compared, then\n",
    "the second values from each generator, then the third values, and so on.\n",
    "\n",
    "Using the example starting values given above, the generators now produce \n",
    "the following first five values each:\n",
    "\n",
    "    --Gen. A--  --Gen. B--\n",
    "    1352636452  1233683848\n",
    "    1992081072   862516352\n",
    "     530830436  1159784568\n",
    "    1980017072  1616057672\n",
    "     740335192   412269392\n"
   ]
  },
  {
   "cell_type": "code",
   "execution_count": 22,
   "metadata": {},
   "outputs": [],
   "source": [
    "class FilteredGenerator(Generator):\n",
    "    \n",
    "    def __init__(self, factor, value=1, filter_=None):\n",
    "        self.factor = factor\n",
    "        self.value = value\n",
    "        self.filter_ = filter_ if filter_ else lambda x: True\n",
    "    \n",
    "    def __next__(self):\n",
    "        self.value = self.value * self.factor % MAGIC_NUMBER\n",
    "        while not self.filter_(self.value):\n",
    "            self.value = self.value * self.factor % MAGIC_NUMBER\n",
    "        return self.value"
   ]
  },
  {
   "cell_type": "code",
   "execution_count": 23,
   "metadata": {},
   "outputs": [
    {
     "name": "stdout",
     "output_type": "stream",
     "text": [
      "---Gen. A---  ---Gen. B---\n",
      "  1352636452    1233683848\n",
      "  1992081072     862516352\n",
      "   530830436    1159784568\n",
      "  1980017072    1616057672\n",
      "   740335192     412269392\n"
     ]
    }
   ],
   "source": [
    "gen_a = FilteredGenerator(16807, 65, lambda x: x % 4 == 0)\n",
    "gen_b = FilteredGenerator(48271, 8921, lambda x: x % 8 == 0)\n",
    "\n",
    "print('---Gen. A---  ---Gen. B---')\n",
    "for (a,b) in first(5, (zip(gen_a, gen_b))):\n",
    "    print('{:12}  {:12}'.format(a, b))\n",
    "    "
   ]
  },
  {
   "cell_type": "markdown",
   "metadata": {},
   "source": [
    "These values have the following corresponding binary values:\n",
    "\n",
    "    01010000100111111001100000100100\n",
    "    01001001100010001000010110001000\n",
    "\n",
    "    01110110101111001011111010110000\n",
    "    00110011011010001111010010000000\n",
    "\n",
    "    00011111101000111101010001100100\n",
    "    01000101001000001110100001111000\n",
    "\n",
    "    01110110000001001010100110110000\n",
    "    01100000010100110001010101001000\n",
    "\n",
    "    00101100001000001001111001011000\n",
    "    00011000100100101011101101010000\n",
    "\n",
    "Unfortunately, even though this change makes more bits similar on average, none of these values' lowest 16 bits match. Now, it's not until the 1056th pair that the judge finds the first match:\n",
    "\n",
    "    --Gen. A--  --Gen. B--\n",
    "    1023762912   896885216\n",
    "\n",
    "    00111101000001010110000111100000\n",
    "    00110101011101010110000111100000\n",
    "\n",
    "This change makes the generators much slower, and the judge is getting impatient; it is now only willing to consider 5 million pairs. (Using the values from the example above, after five million pairs, the judge would eventually find a total of 309 pairs that match in their lowest 16 bits.)"
   ]
  },
  {
   "cell_type": "code",
   "execution_count": 24,
   "metadata": {},
   "outputs": [
    {
     "name": "stdout",
     "output_type": "stream",
     "text": [
      "ok\n"
     ]
    }
   ],
   "source": [
    "gen_a = FilteredGenerator(16807, 65, lambda x: x % 4 == 0)\n",
    "gen_b = FilteredGenerator(48271, 8921, lambda x: x % 8 == 0)\n",
    "\n",
    "counter = 0\n",
    "for a, b in first(5000000, zip(gen_a, gen_b)):\n",
    "    s1 = to_bin(a)\n",
    "    s2 = to_bin(b)\n",
    "    if check(s1, s2):\n",
    "        counter += 1\n",
    "\n",
    "assert counter == 309\n",
    "print('ok')"
   ]
  },
  {
   "cell_type": "markdown",
   "metadata": {},
   "source": [
    "After 5 million pairs, but using this new generator logic, **what is the judge's final count?**"
   ]
  },
  {
   "cell_type": "code",
   "execution_count": 25,
   "metadata": {},
   "outputs": [
    {
     "name": "stdout",
     "output_type": "stream",
     "text": [
      "Part two: 336\n"
     ]
    }
   ],
   "source": [
    "gen_a = FilteredGenerator(16807, 783, lambda x: x % 4 == 0)\n",
    "gen_b = FilteredGenerator(48271, 325, lambda x: x % 8 == 0)\n",
    "\n",
    "counter = 0\n",
    "for a, b in first(5000000, zip(gen_a, gen_b)):\n",
    "    s1 = to_bin(a)\n",
    "    s2 = to_bin(b)\n",
    "    if check(s1, s2):\n",
    "        counter += 1\n",
    "        \n",
    "print('Part two:', counter)"
   ]
  },
  {
   "cell_type": "markdown",
   "metadata": {},
   "source": [
    "### Extra"
   ]
  },
  {
   "cell_type": "code",
   "execution_count": 27,
   "metadata": {},
   "outputs": [
    {
     "data": {
      "image/png": "[encoded data removed]",
      "text/plain": [
       "<matplotlib.figure.Figure at 0x7fa110f3d550>"
      ]
     },
     "metadata": {},
     "output_type": "display_data"
    }
   ],
   "source": [
    "%matplotlib inline\n",
    "import numpy as np\n",
    "from matplotlib import pyplot  as plt\n",
    "\n",
    "NUM_TRIES = 2500000\n",
    "\n",
    "v_to_bin = np.vectorize(to_bin)\n",
    "v_check = np.vectorize(check)\n",
    "\n",
    "gen_a = Generator(16807, 783)\n",
    "gen_b = Generator(48271, 325)\n",
    "sa = v_to_bin(np.array([_ for _ in first(NUM_TRIES, gen_a)]))\n",
    "sb = v_to_bin(np.array([_ for _ in first(NUM_TRIES, gen_b)]))\n",
    "unfiltered_hits = v_check(sa, sb)\n",
    "\n",
    "gen_a = FilteredGenerator(16807, 783, lambda x: x % 4 == 0)\n",
    "gen_b = FilteredGenerator(48271, 325, lambda x: x % 8 == 0)\n",
    "sa = v_to_bin(np.array([_ for _ in first(NUM_TRIES, gen_a)]))\n",
    "sb = v_to_bin(np.array([_ for _ in first(NUM_TRIES, gen_b)]))\n",
    "filtered_hits = v_check(sa, sb)\n",
    "\n",
    "graph_1, = plt.plot(np.add.accumulate(filtered_hits), label='filtered')\n",
    "graph_2, = plt.plot(np.add.accumulate(unfiltered_hits), label='not filtered')\n",
    "\n",
    "plt.legend(handles=[graph_1, graph_2]);"
   ]
  },
  {
   "cell_type": "code",
   "execution_count": null,
   "metadata": {},
   "outputs": [],
   "source": []
  }
 ],
 "metadata": {
  "kernelspec": {
   "display_name": "Python 3",
   "language": "python",
   "name": "python3"
  },
  "language_info": {
   "codemirror_mode": {
    "name": "ipython",
    "version": 3
   },
   "file_extension": ".py",
   "mimetype": "text/x-python",
   "name": "python",
   "nbconvert_exporter": "python",
   "pygments_lexer": "ipython3",
   "version": "3.5.2"
  }
 },
 "nbformat": 4,
 "nbformat_minor": 2
}
