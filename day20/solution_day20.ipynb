{
 "cells": [
  {
   "cell_type": "markdown",
   "metadata": {},
   "source": [
    "## Day 20: Particle Swarm\n",
    "\n",
    "Suddenly, the GPU contacts you, asking for help. Someone has asked it to simulate too many particles, and it won't be able to finish them all in time to render the next frame at this rate.\n",
    "\n",
    "### Part one\n",
    "\n",
    "It transmits to you a buffer (your puzzle input) listing each particle in order (starting with particle 0, then particle 1, particle 2, and so on). For each particle, it provides the `X`, `Y`, and `Z` coordinates for the particle's position (p), velocity (v), and acceleration (a), each in the format `<X,Y,Z>`.\n",
    "\n",
    "Each tick, all particles are updated simultaneously. A particle's properties are updated in the following order:\n",
    "\n",
    " - Increase the X velocity by the X acceleration.\n",
    " - Increase the Y velocity by the Y acceleration.\n",
    " - Increase the Z velocity by the Z acceleration.\n",
    " - Increase the X position by the X velocity.\n",
    " - Increase the Y position by the Y velocity.\n",
    " - Increase the Z position by the Z velocity.\n",
    "\n",
    "Because of seemingly tenuous rationale involving [z-buffering](https://en.wikipedia.org/wiki/Z-buffering), the GPU would like to know which particle will stay closest to position <0,0,0> in the long term. Measure this using the Manhattan distance, which in this situation is simply the sum of the absolute values of a particle's X, Y, and Z position.\n",
    "\n",
    "For example, suppose you are only given two particles, both of which stay entirely on the X-axis (for simplicity). Drawing the current states of particles 0 and 1 (in that order) with an adjacent a number line and diagram of current X positions (marked in parenthesis), the following would take place:\n",
    "\n",
    "p=< 3,0,0>, v=< 2,0,0>, a=<-1,0,0>    -4 -3 -2 -1  0  1  2  3  4\n",
    "p=< 4,0,0>, v=< 0,0,0>, a=<-2,0,0>                         (0)(1)\n",
    "\n",
    "p=< 4,0,0>, v=< 1,0,0>, a=<-1,0,0>    -4 -3 -2 -1  0  1  2  3  4\n",
    "p=< 2,0,0>, v=<-2,0,0>, a=<-2,0,0>                      (1)   (0)\n",
    "\n",
    "p=< 4,0,0>, v=< 0,0,0>, a=<-1,0,0>    -4 -3 -2 -1  0  1  2  3  4\n",
    "p=<-2,0,0>, v=<-4,0,0>, a=<-2,0,0>          (1)               (0)\n",
    "\n",
    "p=< 3,0,0>, v=<-1,0,0>, a=<-1,0,0>    -4 -3 -2 -1  0  1  2  3  4\n",
    "p=<-8,0,0>, v=<-6,0,0>, a=<-2,0,0>                         (0)   "
   ]
  },
  {
   "cell_type": "markdown",
   "metadata": {},
   "source": [
    "> Let's begin with a parser to get all the variables"
   ]
  },
  {
   "cell_type": "code",
   "execution_count": 1,
   "metadata": {},
   "outputs": [
    {
     "data": {
      "text/plain": [
       "array([[ 3,  0,  0],\n",
       "       [-8,  0,  0]])"
      ]
     },
     "execution_count": 1,
     "metadata": {},
     "output_type": "execute_result"
    }
   ],
   "source": [
    "import re\n",
    "import numpy as np\n",
    "\n",
    "pat_particle = re.compile('<([ -]?\\d+),(-?\\d+),(-?\\d+)>')\n",
    "lines = [\n",
    "    'p=< 3,0,0>, v=< 2,0,0>, a=<-1,0,0>',\n",
    "    'p=< 4,0,0>, v=< 0,0,0>, a=<-2,0,0>',\n",
    "]\n",
    "pos = []\n",
    "vel = []\n",
    "acc = []\n",
    "for l in lines:\n",
    "    p, v, a = pat_particle.findall(l)\n",
    "    p = tuple(( int(_) for _ in p))\n",
    "    pos.append(p)\n",
    "    v = tuple(( int(_) for _ in v))\n",
    "    vel.append(v)\n",
    "    a = tuple(( int(_) for _ in a))\n",
    "    acc.append(a)\n",
    "\n",
    "pos = np.array(pos)\n",
    "vel = np.array(vel)\n",
    "acc = np.array(acc)\n",
    "\n",
    "\n",
    "for _ in range(3):\n",
    "    vel += acc\n",
    "    pos += vel\n",
    "    \n",
    "pos"
   ]
  },
  {
   "cell_type": "markdown",
   "metadata": {},
   "source": [
    "At this point, particle 1 will never be closer to <0,0,0> than particle 0, and so, in the long run, particle 0 will stay closest.\n",
    "\n",
    "Which particle will stay closest to position <0,0,0> in the long term?"
   ]
  },
  {
   "cell_type": "code",
   "execution_count": 2,
   "metadata": {},
   "outputs": [
    {
     "data": {
      "text/plain": [
       "(array([[ 1,  0,  0],\n",
       "        [-1,  0,  0]]), array([[-1,  0,  0],\n",
       "        [-1,  0,  0]]))"
      ]
     },
     "execution_count": 2,
     "metadata": {},
     "output_type": "execute_result"
    }
   ],
   "source": [
    "np.sign(pos), np.sign(vel)"
   ]
  },
  {
   "cell_type": "code",
   "execution_count": 3,
   "metadata": {},
   "outputs": [],
   "source": [
    "from collections import namedtuple\n",
    "\n",
    "Point = namedtuple('Point', ['x', 'y', 'z'])\n",
    "zero = Point(0,0,0)\n",
    "assert zero.x == 0\n",
    "assert zero.y == 0\n",
    "assert zero.z == 0"
   ]
  },
  {
   "cell_type": "code",
   "execution_count": 4,
   "metadata": {},
   "outputs": [],
   "source": [
    "def load_input(filename):\n",
    "    pat_particle = re.compile('<([ -]?\\d+),(-?\\d+),(-?\\d+)>')\n",
    "    with open(filename, 'r') as f:\n",
    "        lines = [_.strip() for _ in f.readlines()]       \n",
    "    pos = []\n",
    "    vel = []\n",
    "    acc = []\n",
    "    for l in lines:\n",
    "        p, v, a = pat_particle.findall(l)\n",
    "        pos.append( [ int(_) for _ in p] )\n",
    "        vel.append( [ int(_) for _ in v] )\n",
    "        acc.append( [ int(_) for _ in a] )\n",
    "    return np.array(pos), np.array(vel), np.array(acc)"
   ]
  },
  {
   "cell_type": "code",
   "execution_count": 5,
   "metadata": {},
   "outputs": [],
   "source": [
    "pos, vel, acc = load_input('input_test.txt')\n",
    "assert np.all(pos == np.array([[3, 0, 0], [4, 0, 0]]))\n",
    "assert np.all(vel == np.array([[2, 0, 0], [0, 0, 0]]))\n",
    "assert np.all(acc == np.array([[-1, 0, 0], [-2, 0, 0]]))"
   ]
  },
  {
   "cell_type": "code",
   "execution_count": 6,
   "metadata": {},
   "outputs": [
    {
     "name": "stdout",
     "output_type": "stream",
     "text": [
      "[3 0 0] [-8  0  0]\n"
     ]
    }
   ],
   "source": [
    "for i in range(3):\n",
    "    vel += acc\n",
    "    pos += vel\n",
    "print(pos[0], pos[1])"
   ]
  },
  {
   "cell_type": "code",
   "execution_count": 7,
   "metadata": {},
   "outputs": [],
   "source": [
    "def acc_equals_vel(v, a): # acc y vel on the same direction, or acc is zero\n",
    "    t = np.logical_or( np.sign(acc) == np.sign(vel), acc == np.zeros(acc.shape) )\n",
    "    return np.all(t)"
   ]
  },
  {
   "cell_type": "code",
   "execution_count": 8,
   "metadata": {},
   "outputs": [
    {
     "data": {
      "text/plain": [
       "True"
      ]
     },
     "execution_count": 8,
     "metadata": {},
     "output_type": "execute_result"
    }
   ],
   "source": [
    "acc_equals_vel(vel, acc)"
   ]
  },
  {
   "cell_type": "code",
   "execution_count": 9,
   "metadata": {},
   "outputs": [
    {
     "data": {
      "text/plain": [
       "(array([[ 3,  0,  0],\n",
       "        [-8,  0,  0]]), -8)"
      ]
     },
     "execution_count": 9,
     "metadata": {},
     "output_type": "execute_result"
    }
   ],
   "source": [
    "pos, vel, acc = load_input('input_test.txt')\n",
    "while True:\n",
    "    if acc_equals_vel(vel, acc):\n",
    "        break\n",
    "    vel += acc\n",
    "    pos += vel\n",
    "pos, np.min(pos)"
   ]
  },
  {
   "cell_type": "code",
   "execution_count": 10,
   "metadata": {},
   "outputs": [],
   "source": [
    "def manhattan_distance(v):\n",
    "    x = np.abs(v[:, 0])\n",
    "    y = np.abs(v[:, 1])\n",
    "    z = np.abs(v[:, 2])\n",
    "    return x + y + z"
   ]
  },
  {
   "cell_type": "code",
   "execution_count": 11,
   "metadata": {},
   "outputs": [
    {
     "name": "stdout",
     "output_type": "stream",
     "text": [
      "0\n"
     ]
    }
   ],
   "source": [
    "print(np.argmin(manhattan_distance(pos)))"
   ]
  },
  {
   "cell_type": "code",
   "execution_count": 12,
   "metadata": {},
   "outputs": [
    {
     "data": {
      "text/plain": [
       "array([3, 8])"
      ]
     },
     "execution_count": 12,
     "metadata": {},
     "output_type": "execute_result"
    }
   ],
   "source": [
    "manhattan_distance(pos)"
   ]
  },
  {
   "cell_type": "code",
   "execution_count": 13,
   "metadata": {},
   "outputs": [
    {
     "name": "stdout",
     "output_type": "stream",
     "text": [
      "Part one: 258\n"
     ]
    }
   ],
   "source": [
    "pos, vel, acc = load_input('input.txt')\n",
    "counter = 0\n",
    "while True:\n",
    "    counter += 1\n",
    "    if counter % 1000 == 0:\n",
    "        print('#', end='')\n",
    "    if counter == 5000000:\n",
    "        break\n",
    "    if acc_equals_vel(vel, acc):\n",
    "        break\n",
    "    vel += acc\n",
    "    pos += vel\n",
    "# let's do some iterations more, just to be sure\n",
    "for i in range(100000):\n",
    "    vel += acc\n",
    "    pos += vel\n",
    "index = np.argmin(manhattan_distance(pos))\n",
    "print('Part one: {}'.format(index))\n"
   ]
  },
  {
   "cell_type": "code",
   "execution_count": 14,
   "metadata": {},
   "outputs": [],
   "source": [
    "pos, vel, acc = load_input('input.txt')"
   ]
  },
  {
   "cell_type": "markdown",
   "metadata": {},
   "source": [
    "### Part two\n",
    "\n",
    "To simplify the problem further, the GPU would like to remove any particles that collide. Particles collide if their positions ever exactly match. Because particles are updated simultaneously, more than two particles can collide at the same time and place. Once particles collide, they are removed and cannot collide with anything else after that tick.\n",
    "\n",
    "For example:\n",
    "\n",
    "    p=<-6,0,0>, v=< 3,0,0>, a=< 0,0,0>    \n",
    "    p=<-4,0,0>, v=< 2,0,0>, a=< 0,0,0>    -6 -5 -4 -3 -2 -1  0  1  2  3\n",
    "    p=<-2,0,0>, v=< 1,0,0>, a=< 0,0,0>    (0)   (1)   (2)            (3)\n",
    "    p=< 3,0,0>, v=<-1,0,0>, a=< 0,0,0>\n",
    "\n",
    "    p=<-3,0,0>, v=< 3,0,0>, a=< 0,0,0>    \n",
    "    p=<-2,0,0>, v=< 2,0,0>, a=< 0,0,0>    -6 -5 -4 -3 -2 -1  0  1  2  3\n",
    "    p=<-1,0,0>, v=< 1,0,0>, a=< 0,0,0>             (0)(1)(2)      (3)   \n",
    "    p=< 2,0,0>, v=<-1,0,0>, a=< 0,0,0>\n",
    "\n",
    "    p=< 0,0,0>, v=< 3,0,0>, a=< 0,0,0>    \n",
    "    p=< 0,0,0>, v=< 2,0,0>, a=< 0,0,0>    -6 -5 -4 -3 -2 -1  0  1  2  3\n",
    "    p=< 0,0,0>, v=< 1,0,0>, a=< 0,0,0>                       X (3)      \n",
    "    p=< 1,0,0>, v=<-1,0,0>, a=< 0,0,0>\n",
    "\n",
    "    ------destroyed by collision------    \n",
    "    ------destroyed by collision------    -6 -5 -4 -3 -2 -1  0  1  2  3\n",
    "    ------destroyed by collision------                      (3)         \n",
    "    p=< 0,0,0>, v=<-1,0,0>, a=< 0,0,0>\n",
    "\n",
    "In this example, particles 0, 1, and 2 are simultaneously destroyed at the time and place marked X. On the next tick, particle 3 passes through unharmed.\n",
    "\n",
    "**How many particles are left after all collisions are resolved?**"
   ]
  },
  {
   "cell_type": "markdown",
   "metadata": {},
   "source": [
    "> Function `np.unique` returns the sorted unique elements of an array. There are three optional outputs in addition to the unique elements: the indices of the input array that give the unique values, the indices of the unique array that reconstruct the input array, and the number of times each unique value comes up in the input array.\n",
    "Parameters:\t\n",
    "\n",
    "> - `return_index` : bool, optional. If True, also return the indices of array (along the specified axis, if provided, or in the flattened array) that result in the unique array.\n",
    "\n",
    "> - `return_counts` : bool, optional. If True, also return the number of times each unique item appears in ar. .. versionadded:: 1.9.0\n",
    "\n",
    "> - `axis` : int or None, optional. The axis to operate on. If None, ar will be flattened beforehand. Otherwise, duplicate items will be removed along the provided axis, with all the other axes belonging to the each of the unique elements. Object arrays or structured arrays that contain objects are not supported if the axis kwarg is used. .. versionadded:: 1.13.0\n"
   ]
  },
  {
   "cell_type": "code",
   "execution_count": 15,
   "metadata": {},
   "outputs": [
    {
     "name": "stdout",
     "output_type": "stream",
     "text": [
      "pos: [[1 0 0]]\n",
      "vel: [[-1  0  0]]\n"
     ]
    }
   ],
   "source": [
    "pos, vel, acc = load_input('input_test_part_2.txt')\n",
    "for i in range(2):\n",
    "    vel += acc\n",
    "    pos += vel\n",
    "    pos, ii, cc = np.unique(pos, return_index=True, return_counts=True, axis=0)\n",
    "    acc = acc[ii]\n",
    "    vel = vel[ii]\n",
    "    pos = pos[cc == 1]\n",
    "    acc = acc[cc == 1]\n",
    "    vel = vel[cc == 1]\n",
    "print('pos:', pos)\n",
    "print('vel:', vel)"
   ]
  },
  {
   "cell_type": "code",
   "execution_count": 16,
   "metadata": {},
   "outputs": [
    {
     "name": "stdout",
     "output_type": "stream",
     "text": [
      "Part two: 707\n"
     ]
    }
   ],
   "source": [
    "pos, vel, acc = load_input('input.txt')\n",
    "for i in range(40000):\n",
    "    vel += acc\n",
    "    pos += vel\n",
    "    pos, ii, cc = np.unique(pos, return_index=True, return_counts=True, axis=0)\n",
    "    acc = acc[ii]\n",
    "    vel = vel[ii]\n",
    "    pos = pos[cc == 1]\n",
    "    acc = acc[cc == 1]\n",
    "    vel = vel[cc == 1]\n",
    "print('Part two:', len(pos))"
   ]
  }
 ],
 "metadata": {
  "kernelspec": {
   "display_name": "Python 3",
   "language": "python",
   "name": "python3"
  },
  "language_info": {
   "codemirror_mode": {
    "name": "ipython",
    "version": 3
   },
   "file_extension": ".py",
   "mimetype": "text/x-python",
   "name": "python",
   "nbconvert_exporter": "python",
   "pygments_lexer": "ipython3",
   "version": "3.5.2"
  }
 },
 "nbformat": 4,
 "nbformat_minor": 2
}
