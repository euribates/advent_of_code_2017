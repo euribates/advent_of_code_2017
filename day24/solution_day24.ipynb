{
 "cells": [
  {
   "cell_type": "markdown",
   "metadata": {},
   "source": [
    "## Day 24: Electromagnetic Moat\n",
    "\n",
    "The CPU itself is a large, black building surrounded by a bottomless pit. Enormous metal tubes extend outward from the side of the building at regular intervals and descend down into the void. There's no way to cross, but you need to get inside.\n",
    "\n",
    "No way, of course, other than building a **bridge** out of the magnetic components strewn about nearby.\n",
    "\n",
    "### Part One\n",
    "\n",
    "Each component has two **ports**, one on each end. The ports come in all different types, and only matching types can be connected. You take an inventory of the components by their port types (your puzzle input). Each port is identified by the number of **pins** it uses; more pins mean a stronger connection for your bridge. A 3/7 component, for example, has a type-3 port on one side, and a type-7 port on the other.\n",
    "\n",
    "Your side of the pit is metallic; a perfect surface to connect a magnetic, **zero-pin port**. Because of this, the first port you use must be of type 0. It doesn't matter what type of port you end with; your goal is just to make the bridge as strong as possible.\n",
    "\n",
    "The **strength** of a bridge is the sum of the port types in each component. For example, if your bridge is made of components $0/3$, $3/7$, and $7/4$, your bridge has a strength of $0+3 + 3+7 + 7+4 = 24$.\n",
    "\n",
    "For example, suppose you had the following components:\n",
    "\n",
    "    0/2\n",
    "    2/2\n",
    "    2/3\n",
    "    3/4\n",
    "    3/5\n",
    "    0/1\n",
    "    10/1\n",
    "    9/10\n",
    "\n",
    "With them, you could make the following valid bridges:\n",
    "\n",
    "    0/1\n",
    "    0/1--10/1\n",
    "    0/1--10/1--9/10\n",
    "    0/2\n",
    "    0/2--2/3\n",
    "    0/2--2/3--3/4\n",
    "    0/2--2/3--3/5\n",
    "    0/2--2/2\n",
    "    0/2--2/2--2/3\n",
    "    0/2--2/2--2/3--3/4\n",
    "    0/2--2/2--2/3--3/5\n",
    "\n",
    "(Note how, as shown by 10/1, order of ports within a component doesn't matter. However, you may only use each port on a component once.)\n",
    "\n",
    "Of these bridges, the strongest one is 0/1--10/1--9/10; it has a strength of $0+1 + 1+10 + 10+9 = 31$.\n",
    "\n",
    "**What is the strength of the strongest bridge you can make with the components you have available?**"
   ]
  },
  {
   "cell_type": "code",
   "execution_count": 33,
   "metadata": {},
   "outputs": [
    {
     "name": "stdout",
     "output_type": "stream",
     "text": [
      "ok\n"
     ]
    }
   ],
   "source": [
    "class Component:\n",
    "    \n",
    "    def __init__(self, s):\n",
    "        (self.left, self.right) = [int(_) for _ in s.split('/')]\n",
    "        \n",
    "    def rotate(self):\n",
    "        self.left, self.right = self.right, self.left\n",
    "        \n",
    "    def __iter__(self):\n",
    "        return (_ for _ in [self.left, self.right])\n",
    "    \n",
    "    def __str__(self):\n",
    "        return '[{}, {}]'.format(self.left, self.right)\n",
    "    \n",
    "    def __repr__(self):\n",
    "        return 'Component(\"{}/{}\")'.format(self.left, self.right)\n",
    "        \n",
    "# tests\n",
    "\n",
    "p = Component('2/3')\n",
    "assert p.left == 2\n",
    "assert p.right == 3\n",
    "p.rotate()\n",
    "assert p.left == 3\n",
    "assert p.right == 2\n",
    "assert 2 in p\n",
    "assert 3 in p\n",
    "assert 4 not in p\n",
    "print('ok')"
   ]
  },
  {
   "cell_type": "code",
   "execution_count": 57,
   "metadata": {},
   "outputs": [
    {
     "name": "stdout",
     "output_type": "stream",
     "text": [
      "31 0/1--1/10--10/9\n",
      "19 0/2--2/2--2/3--3/5\n",
      "18 0/2--2/2--2/3--3/4\n",
      "15 0/2--2/3--3/5\n",
      "14 0/2--2/3--3/4\n"
     ]
    }
   ],
   "source": [
    "def load_components(filename):\n",
    "    with open(filename, 'r') as f:\n",
    "        lines = f.readlines()    \n",
    "    return [Component(_) for _ in lines]\n",
    "    \n",
    "def as_path(path):\n",
    "    return '--'.join([\n",
    "        '{}/{}'.format(n.left, n.right)\n",
    "        for n in path\n",
    "        ])\n",
    "    \n",
    "    \n",
    "def find_path(path, options):\n",
    "    global score\n",
    "    last_component = path[-1]\n",
    "    port = last_component.right\n",
    "    new_options = set([o for o in options if port in o])\n",
    "    if new_options:\n",
    "        for opt in new_options:\n",
    "            subset = set(options)\n",
    "            subset.discard(opt)\n",
    "            if last_component.right != opt.left:\n",
    "                opt.rotate()\n",
    "            find_path(path + [opt], subset)\n",
    "    else:\n",
    "        sum_all = sum([n.left+n.right for n in path])\n",
    "        score.append((sum_all, path))\n",
    "        return sum_all\n",
    "\n",
    "def start_find(components):\n",
    "    start_nodes = [p for p in components if 0 in p]\n",
    "    for node in start_nodes:\n",
    "        if node.right == 0:\n",
    "            node.rotate()        \n",
    "    for node in start_nodes:\n",
    "        path = [node]\n",
    "        options = set(components[:])\n",
    "        options.discard(node)\n",
    "        find_path(path, options)\n",
    "\n",
    "components = load_components('input_test.txt')\n",
    "score = []\n",
    "start_find(components)\n",
    "for w, p in sorted(score, reverse=True):\n",
    "    print(w, as_path(p))"
   ]
  },
  {
   "cell_type": "code",
   "execution_count": 69,
   "metadata": {},
   "outputs": [
    {
     "data": {
      "text/plain": [
       "194886"
      ]
     },
     "execution_count": 69,
     "metadata": {},
     "output_type": "execute_result"
    }
   ],
   "source": [
    "len(score)"
   ]
  },
  {
   "cell_type": "code",
   "execution_count": 58,
   "metadata": {},
   "outputs": [
    {
     "ename": "TypeError",
     "evalue": "unorderable types: Component() < Component()",
     "output_type": "error",
     "traceback": [
      "\u001b[0;31m---------------------------------------------------------------------------\u001b[0m",
      "\u001b[0;31mTypeError\u001b[0m                                 Traceback (most recent call last)",
      "\u001b[0;32m<ipython-input-58-5152e91d7f55>\u001b[0m in \u001b[0;36m<module>\u001b[0;34m()\u001b[0m\n\u001b[1;32m      2\u001b[0m \u001b[0mscore\u001b[0m \u001b[0;34m=\u001b[0m \u001b[0;34m[\u001b[0m\u001b[0;34m]\u001b[0m\u001b[0;34m\u001b[0m\u001b[0m\n\u001b[1;32m      3\u001b[0m \u001b[0mstart_find\u001b[0m\u001b[0;34m(\u001b[0m\u001b[0mcomponents\u001b[0m\u001b[0;34m)\u001b[0m\u001b[0;34m\u001b[0m\u001b[0m\n\u001b[0;32m----> 4\u001b[0;31m \u001b[0;32mfor\u001b[0m \u001b[0mw\u001b[0m\u001b[0;34m,\u001b[0m \u001b[0mp\u001b[0m \u001b[0;32min\u001b[0m \u001b[0msorted\u001b[0m\u001b[0;34m(\u001b[0m\u001b[0mscore\u001b[0m\u001b[0;34m,\u001b[0m \u001b[0mreverse\u001b[0m\u001b[0;34m=\u001b[0m\u001b[0;32mTrue\u001b[0m\u001b[0;34m)\u001b[0m\u001b[0;34m:\u001b[0m\u001b[0;34m\u001b[0m\u001b[0m\n\u001b[0m\u001b[1;32m      5\u001b[0m     \u001b[0mprint\u001b[0m\u001b[0;34m(\u001b[0m\u001b[0mw\u001b[0m\u001b[0;34m,\u001b[0m \u001b[0mp\u001b[0m\u001b[0;34m)\u001b[0m\u001b[0;34m\u001b[0m\u001b[0m\n",
      "\u001b[0;31mTypeError\u001b[0m: unorderable types: Component() < Component()"
     ]
    }
   ],
   "source": [
    "components = load_components('input.txt')\n",
    "score = []\n",
    "start_find(components)\n",
    "for w, p in sorted(score, reverse=True):\n",
    "    print(w, p)"
   ]
  },
  {
   "cell_type": "code",
   "execution_count": 73,
   "metadata": {},
   "outputs": [
    {
     "name": "stdout",
     "output_type": "stream",
     "text": [
      "Part one: 1859\n"
     ]
    }
   ],
   "source": [
    "local_max = 0\n",
    "for w, p in score:\n",
    "    if int(w) > local_max:\n",
    "        local_max = int(w)\n",
    "        local_path = p[:]\n",
    "        \n",
    "print('Part one:', local_max)"
   ]
  },
  {
   "cell_type": "markdown",
   "metadata": {},
   "source": [
    "### Part two:\n",
    "    \n",
    "The bridge you've built isn't long enough; you can't jump the rest of the way.\n",
    "\n",
    "In the example above, there are two longest bridges:\n",
    "\n",
    "    0/2--2/2--2/3--3/4\n",
    "    0/2--2/2--2/3--3/5\n",
    "\n",
    "Of them, the one which uses the 3/5 component is stronger; its strength is 0+2 + 2+2 + 2+3 + 3+5 = 19.\n",
    "\n",
    "What is the strength of the longest bridge you can make? If you can make multiple bridges of the longest length, pick the strongest one."
   ]
  },
  {
   "cell_type": "code",
   "execution_count": 82,
   "metadata": {},
   "outputs": [
    {
     "name": "stdout",
     "output_type": "stream",
     "text": [
      "Longest path is 35\n",
      "Part one: 1799 0/50--50/41--41/3--3/10--25/10--49/25--2/49--2/13--43/13--43/43--19/43--36/19--21/36--49/21--49/49--49/32--32/32--32/11--11/6--9/6--39/9--39/50--50/17--17/0--0/36--36/33--33/44--44/22--22/14--14/14--14/40--40/16--16/4--4/24--24/7\n",
      "\n",
      "1781 0/50--50/41--41/3--3/10--25/10--49/25--2/49--16/4--4/24--24/7\n",
      "1799 0/50--50/41--41/3--3/10--25/10--49/25--2/49--16/4--4/24--24/7\n",
      "1799 0/50--50/41--41/3--3/10--25/10--49/25--2/49--16/4--4/24--24/7\n",
      "1799 0/50--50/41--41/3--3/10--25/10--49/25--49/21--16/4--4/24--24/7\n",
      "1799 0/50--50/41--41/3--3/10--25/10--49/25--49/21--16/4--4/24--24/7\n",
      "1781 0/50--50/41--41/3--3/10--25/10--49/25--49/21--16/4--4/24--24/7\n",
      "1781 0/50--50/41--41/3--3/10--25/10--49/25--49/49--16/4--4/24--24/7\n",
      "1799 0/50--50/41--41/3--3/10--25/10--49/25--49/49--16/4--4/24--24/7\n",
      "1799 0/50--50/41--41/3--3/10--25/10--49/25--49/49--16/4--4/24--24/7\n",
      "1799 0/50--50/41--41/3--3/10--25/10--49/25--49/49--16/4--4/24--24/7\n",
      "1799 0/50--50/41--41/3--3/10--25/10--49/25--49/49--16/4--4/24--24/7\n",
      "1781 0/50--50/41--41/3--3/10--25/10--49/25--49/49--16/4--4/24--24/7\n",
      "1799 0/50--50/41--41/3--3/10--25/10--49/25--49/49--16/4--4/24--24/7\n",
      "1799 0/50--50/41--41/3--3/10--25/10--49/25--49/49--16/4--4/24--24/7\n",
      "1799 0/50--50/41--41/3--3/10--25/10--49/25--49/32--16/4--4/24--24/7\n",
      "1799 0/50--50/41--41/3--3/10--25/10--49/25--49/32--16/4--4/24--24/7\n",
      "1781 0/50--39/50--39/9--9/6--11/6--32/11--32/32--16/4--4/24--24/7\n",
      "1799 0/50--39/50--39/9--9/6--11/6--32/11--32/32--16/4--4/24--24/7\n",
      "1799 0/50--39/50--39/9--9/6--11/6--32/11--32/32--16/4--4/24--24/7\n",
      "1799 0/50--39/50--39/9--9/6--11/6--32/11--32/32--16/4--4/24--24/7\n",
      "1799 0/50--39/50--39/9--9/6--11/6--32/11--32/32--16/4--4/24--24/7\n",
      "1781 0/50--39/50--39/9--9/6--11/6--32/11--32/32--16/4--4/24--24/7\n",
      "1781 0/50--39/50--39/9--9/6--11/6--32/11--32/32--16/4--4/24--24/7\n",
      "1799 0/50--39/50--39/9--9/6--11/6--32/11--32/32--16/4--4/24--24/7\n",
      "1799 0/50--39/50--39/9--9/6--11/6--32/11--32/32--16/4--4/24--24/7\n",
      "1799 0/50--39/50--39/9--9/6--11/6--32/11--32/32--16/4--4/24--24/7\n",
      "1799 0/50--39/50--39/9--9/6--11/6--32/11--32/32--16/4--4/24--24/7\n",
      "1781 0/50--39/50--39/9--9/6--11/6--32/11--32/32--16/4--4/24--24/7\n",
      "1799 0/50--39/50--39/9--9/6--11/6--32/11--32/32--16/4--4/24--24/7\n",
      "1799 0/50--39/50--39/9--9/6--11/6--32/11--32/32--16/4--4/24--24/7\n",
      "1799 0/50--39/50--39/9--9/6--11/6--32/11--32/32--16/4--4/24--24/7\n",
      "1799 0/50--39/50--39/9--9/6--11/6--32/11--32/32--16/4--4/24--24/7\n",
      "1799 0/50--50/17--17/0--0/36--21/36--49/21--49/49--16/4--4/24--24/7\n",
      "1799 0/50--50/17--17/0--0/36--21/36--49/21--49/49--16/4--4/24--24/7\n",
      "1799 0/50--50/17--17/0--0/36--21/36--49/21--49/32--16/4--4/24--24/7\n",
      "1799 0/50--50/17--17/0--0/36--21/36--49/21--49/25--16/4--4/24--24/7\n",
      "1799 0/50--50/17--17/0--0/36--36/19--19/43--43/43--16/4--4/24--24/7\n",
      "1799 0/50--50/17--17/0--0/36--36/19--19/43--43/43--16/4--4/24--24/7\n",
      "1799 0/50--50/17--17/0--0/36--36/19--19/43--43/43--16/4--4/24--24/7\n",
      "1799 0/50--50/17--17/0--0/36--36/19--19/43--43/43--16/4--4/24--24/7\n",
      "1799 0/36--21/36--49/21--49/49--49/32--32/32--32/11--16/4--4/24--24/7\n",
      "1799 0/36--21/36--49/21--49/49--49/32--32/32--32/11--16/4--4/24--24/7\n",
      "1799 0/36--21/36--49/21--49/49--49/25--25/10--3/10--16/4--4/24--24/7\n",
      "1799 0/36--21/36--49/21--49/49--49/25--25/10--3/10--16/4--4/24--24/7\n",
      "1799 0/36--21/36--49/21--49/32--32/32--32/11--11/6--16/4--4/24--24/7\n",
      "1799 0/36--21/36--49/21--49/32--32/32--32/11--11/6--16/4--4/24--24/7\n",
      "1799 0/36--21/36--49/21--49/25--25/10--3/10--41/3--16/4--4/24--24/7\n",
      "1799 0/36--21/36--49/21--49/25--25/10--3/10--41/3--16/4--4/24--24/7\n",
      "1799 0/36--36/19--19/43--43/43--43/13--2/13--2/49--16/4--4/24--24/7\n",
      "1799 0/36--36/19--19/43--43/43--43/13--2/13--2/49--16/4--4/24--24/7\n",
      "1799 0/36--36/19--19/43--43/43--43/13--2/13--2/49--16/4--4/24--24/7\n",
      "1799 0/36--36/19--19/43--43/43--43/13--2/13--2/49--16/4--4/24--24/7\n",
      "1799 0/36--36/19--19/43--43/43--43/13--2/13--2/49--16/4--4/24--24/7\n",
      "1799 0/36--36/19--19/43--43/43--43/13--2/13--2/49--16/4--4/24--24/7\n",
      "1799 0/36--36/19--19/43--43/43--43/13--2/13--2/49--16/4--4/24--24/7\n",
      "1799 0/36--36/19--19/43--43/43--43/13--2/13--2/49--16/4--4/24--24/7\n"
     ]
    }
   ],
   "source": [
    "longets_path = max([len(p) for w, p in score])\n",
    "print('Longest path is {}'.format(longets_path))\n",
    "\n",
    "max_paths = [(w, p) for w, p in score if len(p) == longets_path]\n",
    "local_max = 0\n",
    "for w, p in max_paths:\n",
    "    if int(w) > local_max:\n",
    "        local_max = int(w)\n",
    "        local_path = p[:]\n",
    "print('Part one:', local_max, as_path(local_path))    \n",
    "print()\n",
    "for w, p in max_paths:\n",
    "    print(w, as_path(p[0:7] + p[-3:]))"
   ]
  },
  {
   "cell_type": "code",
   "execution_count": null,
   "metadata": {},
   "outputs": [],
   "source": []
  }
 ],
 "metadata": {
  "kernelspec": {
   "display_name": "Python 3",
   "language": "python",
   "name": "python3"
  },
  "language_info": {
   "codemirror_mode": {
    "name": "ipython",
    "version": 3
   },
   "file_extension": ".py",
   "mimetype": "text/x-python",
   "name": "python",
   "nbconvert_exporter": "python",
   "pygments_lexer": "ipython3",
   "version": "3.5.2"
  }
 },
 "nbformat": 4,
 "nbformat_minor": 2
}
