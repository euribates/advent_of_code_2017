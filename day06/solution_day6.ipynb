{
 "cells": [
  {
   "cell_type": "markdown",
   "metadata": {},
   "source": [
    "## Day 6: Memory Reallocation\n",
    "\n",
    "A debugger program here is having an issue: it is trying to repair a memory reallocation routine, but it keeps getting stuck in an infinite loop.\n",
    "\n",
    "### Part One\n",
    "\n",
    "In this area, there are sixteen memory banks; each memory bank can hold any number of **blocks**. The goal of the reallocation routine is to balance the blocks between the memory banks.\n",
    "\n",
    "The reallocation routine operates in cycles. In each cycle, it finds the memory bank with the most blocks (ties won by the lowest-numbered memory bank) and redistributes those blocks among the banks. To do this, it removes all of the blocks from the selected bank, then moves to the next (by index) memory bank and inserts one of the blocks. It continues doing this until it runs out of blocks; if it reaches the last memory bank, it wraps around to the first one.\n",
    "\n",
    "The debugger would like to know how many redistributions can be done before a blocks-in-banks configuration is produced that has been seen before.\n",
    "\n",
    "For example, imagine a scenario with only four memory banks:\n",
    "\n",
    " - The banks start with 0, 2, 7, and 0 blocks. The third bank has the most blocks, so it is chosen for redistribution.\n",
    " \n",
    " - Starting with the next bank (the fourth bank) and then continuing to the first bank, the second bank, and so on, the 7 blocks are spread out over the memory banks. The fourth, first, and second banks get two blocks each, and the third bank gets one back. The final result looks like this: 2 4 1 2.\n",
    " \n",
    " - Next, the second bank is chosen because it contains the most blocks (four). Because there are four memory banks, each gets one block. The result is: 3 1 2 3.\n",
    " \n",
    " - Now, there is a tie between the first and fourth memory banks, both of which have three blocks. The first bank wins the tie, and its three blocks are distributed evenly over the other three banks, leaving it with none: 0 2 3 4.\n",
    " \n",
    " - The fourth bank is chosen, and its four blocks are distributed such that each of the four banks receives one: 1 3 4 1.\n",
    " \n",
    " - The third bank is chosen, and the same thing happens: 2 4 1 2.\n",
    "\n",
    "At this point, we've reached a state we've seen before: 2 4 1 2 was already seen. The infinite loop is detected after the fifth block redistribution cycle, and so the answer in this example is 5."
   ]
  },
  {
   "cell_type": "code",
   "execution_count": 1,
   "metadata": {},
   "outputs": [
    {
     "name": "stdout",
     "output_type": "stream",
     "text": [
      "[0, 2, 7, 0]\n",
      "[2, 4, 1, 2]\n",
      "[3, 1, 2, 3]\n",
      "[0, 2, 3, 4]\n",
      "[1, 3, 4, 1]\n",
      "[2, 4, 1, 2]\n"
     ]
    }
   ],
   "source": [
    "\n",
    "def spread(banks, tron=False):\n",
    "    len_banks = len(banks)\n",
    "    max_bank = max(banks)\n",
    "    pos = banks.index(max_bank)\n",
    "    if tron:\n",
    "        print('Found in ', pos)\n",
    "    n_blocks = banks[pos]\n",
    "    banks[pos] = 0\n",
    "    for i in range(n_blocks):\n",
    "        pos = (pos + 1) % len(banks)\n",
    "        banks[pos] += 1\n",
    "    return banks\n",
    "\n",
    "banks = [0, 2, 7, 0]\n",
    "for i in range(5):\n",
    "    print(banks)\n",
    "    banks = spread(banks)\n",
    "print(banks)"
   ]
  },
  {
   "cell_type": "markdown",
   "metadata": {},
   "source": [
    "Given the initial block counts in your puzzle input, **how many redistribution cycles must be completed before a configuration is produced that has been seen before**?"
   ]
  },
  {
   "cell_type": "code",
   "execution_count": 2,
   "metadata": {},
   "outputs": [
    {
     "name": "stdout",
     "output_type": "stream",
     "text": [
      "[10, 3, 15, 10, 5, 15, 5, 15, 9, 2, 5, 8, 5, 2, 3, 6]\n"
     ]
    }
   ],
   "source": [
    "def load_banks(filename):\n",
    "    with open(filename, 'r') as f:\n",
    "        line = f.readline()\n",
    "    return [int(x) for x in line.split()]\n",
    "    \n",
    "banks = load_banks('input.txt')\n",
    "print(banks)"
   ]
  },
  {
   "cell_type": "code",
   "execution_count": 3,
   "metadata": {},
   "outputs": [
    {
     "name": "stdout",
     "output_type": "stream",
     "text": [
      "This configuration has been seen before: [2, 4, 1, 2]\n",
      "ok\n"
     ]
    }
   ],
   "source": [
    "# tests\n",
    "\n",
    "seen = set()\n",
    "banks = [0, 2, 7, 0]\n",
    "counter = 0\n",
    "while True:\n",
    "    if tuple(banks) in seen:\n",
    "        print('This configuration has been seen before:', banks)\n",
    "        break\n",
    "    else:\n",
    "        seen.add(tuple(banks))\n",
    "    banks = spread(banks)\n",
    "    counter += 1\n",
    "    \n",
    "assert counter == 5\n",
    "print('ok')"
   ]
  },
  {
   "cell_type": "code",
   "execution_count": 4,
   "metadata": {},
   "outputs": [
    {
     "name": "stdout",
     "output_type": "stream",
     "text": [
      "This configuration has been seen before: [1, 1, 0, 15, 14, 13, 12, 10, 10, 9, 8, 7, 6, 4, 3, 5]\n",
      "Part one: 14029\n"
     ]
    }
   ],
   "source": [
    "# The real thing\n",
    "\n",
    "seen = set()\n",
    "banks = load_banks('input.txt')\n",
    "counter = 0\n",
    "while True:\n",
    "    if tuple(banks) in seen:\n",
    "        print('This configuration has been seen before:', banks)\n",
    "        break\n",
    "    else:\n",
    "        seen.add(tuple(banks))\n",
    "    banks = spread(banks)\n",
    "    counter += 1\n",
    "\n",
    "print('Part one:', counter)"
   ]
  },
  {
   "cell_type": "markdown",
   "metadata": {},
   "source": [
    "### Part Two\n",
    "\n",
    "Out of curiosity, the debugger would also like to know the size of the loop: starting from a state that has already been seen, how many block redistribution cycles must be performed before that same state is seen again?\n",
    "\n",
    "In the example above, 2 4 1 2 is seen again after four cycles, and so the answer in that example would be 4.\n",
    "\n",
    "**How many cycles are in the infinite loop that arises from the configuration in your puzzle input?**"
   ]
  },
  {
   "cell_type": "code",
   "execution_count": 5,
   "metadata": {},
   "outputs": [
    {
     "name": "stdout",
     "output_type": "stream",
     "text": [
      "Part two: 2765\n"
     ]
    }
   ],
   "source": [
    "banks = [1, 1, 0, 15, 14, 13, 12, 10, 10, 9, 8, 7, 6, 4, 3, 5]\n",
    "target = banks[:]\n",
    "counter = 0\n",
    "while True:\n",
    "    banks = spread(banks)\n",
    "    counter += 1\n",
    "    if banks == target:\n",
    "        break\n",
    "print('Part two:', counter)"
   ]
  }
 ],
 "metadata": {
  "kernelspec": {
   "display_name": "Python 3",
   "language": "python",
   "name": "python3"
  },
  "language_info": {
   "codemirror_mode": {
    "name": "ipython",
    "version": 3
   },
   "file_extension": ".py",
   "mimetype": "text/x-python",
   "name": "python",
   "nbconvert_exporter": "python",
   "pygments_lexer": "ipython3",
   "version": "3.5.2"
  }
 },
 "nbformat": 4,
 "nbformat_minor": 2
}
