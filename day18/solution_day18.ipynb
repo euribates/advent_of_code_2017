{
 "cells": [
  {
   "cell_type": "markdown",
   "metadata": {},
   "source": [
    "## Day 18: Duet\n",
    "\n",
    "You discover a tablet containing some strange assembly code labeled simply \"Duet\". Rather than bother the sound card with it, you decide to run the code yourself. Unfortunately, you don't see any documentation, so you're left to figure out what the instructions mean on your own."
   ]
  },
  {
   "cell_type": "markdown",
   "metadata": {},
   "source": [
    "### Part One\n",
    "\n",
    "It seems like the assembly is meant to operate on a set of registers that are each named with a single letter and that can each hold a single integer. You suppose each register should start with a value of 0."
   ]
  },
  {
   "cell_type": "code",
   "execution_count": 1,
   "metadata": {},
   "outputs": [
    {
     "name": "stdout",
     "output_type": "stream",
     "text": [
      "ok\n"
     ]
    }
   ],
   "source": [
    "import re\n",
    "from collections import defaultdict\n",
    "\n",
    "# Just to simplify: each register defaults to zero and can be read as attributes\n",
    "\n",
    "class Registers(defaultdict):\n",
    "    pat_register = re.compile('[a-z]')\n",
    "    \n",
    "    def __getattr__(self, k):\n",
    "        if Registers.pat_register.match(k):\n",
    "            return self[k]\n",
    "        raise AttributeError('Register {} not found'.format(k))\n",
    "        \n",
    "# tests\n",
    "registers = Registers(int)\n",
    "registers['a'] = 23\n",
    "assert registers.a == 23\n",
    "print('ok')"
   ]
  },
  {
   "cell_type": "markdown",
   "metadata": {},
   "source": [
    "There aren't that many instructions, so it shouldn't be hard to figure out what they do. Here's what you determine:\n",
    "\n",
    " - `snd X` plays a sound with a frequency equal to the value of X.\n",
    " \n",
    " - `set X Y` sets register X to the value of Y.\n",
    " \n",
    " - `add X Y` increases register X by the value of Y.\n",
    " \n",
    " - `mul X Y` sets register X to the result of multiplying the value contained in register X by the value of Y.\n",
    " \n",
    " - `mod X Y` sets register X to the remainder of dividing the value contained in register X by the value of Y (that is, it sets X to the result of X modulo Y).\n",
    " \n",
    " - `rcv X` recovers the frequency of the last sound played, but only when the value of X is not zero. (If it is zero, \n",
    " the command does nothing.)\n",
    " \n",
    " - `jgz X Y` jumps with an offset of the value of Y, but only if the value of X is greater than zero. (An offset of 2 skips the next instruction, an offset of -1 jumps to the previous instruction, and so on.)\n",
    "\n",
    "Many of the instructions can take either a register (a single letter) or a number. The value of a register is the integer it contains; the value of a number is that number.\n",
    "\n",
    "After each jump instruction, the program continues with the instruction to which the jump jumped. After any other instruction, the program continues with the next instruction. Continuing (or jumping) off either end of the program terminates it."
   ]
  },
  {
   "cell_type": "markdown",
   "metadata": {},
   "source": [
    "> let's do somethig minimal"
   ]
  },
  {
   "cell_type": "code",
   "execution_count": 2,
   "metadata": {},
   "outputs": [
    {
     "name": "stdout",
     "output_type": "stream",
     "text": [
      "ok\n"
     ]
    }
   ],
   "source": [
    "class Proc:\n",
    "    \n",
    "    def __init__(self):\n",
    "        self.registers = Registers(int)\n",
    "        self.pc = 0\n",
    "        self.code = []\n",
    "        self.kernel = {\n",
    "            'set': self.op_set\n",
    "            }\n",
    "        \n",
    "    def op_set(self, register, value):\n",
    "        self.registers[register] = int(value)\n",
    "        \n",
    "    def exec(self, line):\n",
    "        cod_op, *args = line.split(' ')\n",
    "        method = self.kernel[cod_op]\n",
    "        method(*args)\n",
    "        \n",
    "p = Proc()\n",
    "assert p.registers.a == 0\n",
    "p.exec('set a 23')\n",
    "assert p.registers.a == 23\n",
    "print('ok')"
   ]
  },
  {
   "cell_type": "markdown",
   "metadata": {},
   "source": [
    "> Problem is that value in operation can be a constant (number) or another register. Let's fix that."
   ]
  },
  {
   "cell_type": "code",
   "execution_count": 3,
   "metadata": {
    "scrolled": true
   },
   "outputs": [
    {
     "name": "stdout",
     "output_type": "stream",
     "text": [
      "ok\n"
     ]
    }
   ],
   "source": [
    "class Proc:\n",
    "    \n",
    "    def __init__(self):\n",
    "        self.registers = Registers(int)\n",
    "        self.pc = 0\n",
    "        self.code = []\n",
    "        self.kernel = {\n",
    "            'set': self.op_set\n",
    "            }\n",
    "        \n",
    "    def get_value(self, s):\n",
    "        return self.registers[s] if self.registers.pat_register.match(s) else int(s)\n",
    "        \n",
    "    def op_set(self, register, value):\n",
    "        self.registers[register] = self.get_value(value)\n",
    "        return 1  # Next line\n",
    "        \n",
    "    def exec(self, line):\n",
    "        cod_op, *args = line.split(' ')\n",
    "        method = self.kernel[cod_op]\n",
    "        return method(*args)\n",
    "        \n",
    "p = Proc()\n",
    "p.exec('set b 11')\n",
    "p.exec('set a b')\n",
    "assert p.registers.b == 11\n",
    "assert p.registers.a == 11\n",
    "print('ok')"
   ]
  },
  {
   "cell_type": "markdown",
   "metadata": {},
   "source": [
    "> Ok, let's go with the rest of operations."
   ]
  },
  {
   "cell_type": "code",
   "execution_count": 4,
   "metadata": {},
   "outputs": [
    {
     "name": "stdout",
     "output_type": "stream",
     "text": [
      "ok\n"
     ]
    }
   ],
   "source": [
    "class Proc:\n",
    "    \n",
    "    def __init__(self):\n",
    "        self.registers = Registers(int)\n",
    "        self.pc = 0\n",
    "        self.code = []\n",
    "        self._clock = 0\n",
    "        self.freq = None\n",
    "        self.end_flag = False\n",
    "        self.kernel = {\n",
    "            'set': self.op_set,\n",
    "            'snd': self.op_snd,\n",
    "            'add': self.op_add,\n",
    "            'mul': self.op_mul,\n",
    "            'mod': self.op_mod,\n",
    "            'rcv': self.op_rcv,\n",
    "            'jgz': self.op_jgz,\n",
    "            }\n",
    "        \n",
    "    \n",
    "    def get_value(self, s):\n",
    "        return self.registers[s] if self.registers.pat_register.match(s) else int(s)\n",
    "\n",
    "    def op_snd(self, register_or_value):\n",
    "        self.freq = self.get_value(register_or_value)\n",
    "        print('<<Play note on freq {}>>'.format(self.freq), end=' ')\n",
    "        return 1\n",
    "        \n",
    "    def op_set(self, register, value):\n",
    "        self.registers[register] = self.get_value(value)\n",
    "        return 1\n",
    "        \n",
    "    def op_add(self, register, value):\n",
    "        self.registers[register] += self.get_value(value)\n",
    "        return 1\n",
    "        \n",
    "    def op_mul(self, register, value):\n",
    "        self.registers[register] *= self.get_value(value)\n",
    "        return 1\n",
    "        \n",
    "    def op_mod(self, register, value):\n",
    "        self.registers[register] = self.registers[register] % self.get_value(value)\n",
    "        return 1\n",
    "        \n",
    "    def op_rcv(self, register):\n",
    "        if self.registers[register] != 0:\n",
    "            print('<<recover freq: {}>>'.format(self.freq), end=' ')\n",
    "            self.end_flag = True\n",
    "        return 1\n",
    "                \n",
    "    def op_jgz(self, register, value):\n",
    "        flag = self.get_value(register)\n",
    "        return self.get_value(value) if flag > 0 else 1\n",
    "        \n",
    "                \n",
    "    def exec(self, line):\n",
    "        cod_op, *args = line.split(' ')\n",
    "        method = self.kernel[cod_op]\n",
    "        return method(*args)\n",
    "        \n",
    "    def must_exit(self):\n",
    "        return any([\n",
    "            self.pc >= len(self.code),\n",
    "            self.end_flag,\n",
    "        ])\n",
    "    \n",
    "    def run(self, lines, tron=False):\n",
    "        self.code = [_ for _ in lines]\n",
    "        self.pc = 0\n",
    "        while True:\n",
    "            line = self.code[self.pc]\n",
    "            if tron:\n",
    "                print('{:>8} PC: {} | {} [{}]'.format(\n",
    "                    self._clock,\n",
    "                    self.pc,\n",
    "                    self.code[self.pc],\n",
    "                    self.dump()\n",
    "                    ),\n",
    "                    end=' -> '\n",
    "                )\n",
    "            self.pc += self.exec(line)\n",
    "            self._clock += 1\n",
    "            if tron:\n",
    "                print(self.dump())\n",
    "            if self.must_exit():\n",
    "                break\n",
    "        print('{:>8} PC: {} | end execution'.format(\n",
    "            self._clock,\n",
    "            self.pc,\n",
    "        ))\n",
    "        \n",
    "    def dump(self):\n",
    "        buff = [\n",
    "            '{}={}'.format(k, self.registers[k])\n",
    "            for k in self.registers\n",
    "            ]\n",
    "        return ':'.join(buff)\n",
    "        \n",
    "p = Proc()\n",
    "p.exec('set b 11')\n",
    "p.exec('set a 3')\n",
    "p.exec('add a b')\n",
    "assert p.registers.b == 11\n",
    "assert p.registers.a == 14\n",
    "p.exec('add a -2')\n",
    "assert p.registers.a == 12\n",
    "print('ok')"
   ]
  },
  {
   "cell_type": "markdown",
   "metadata": {},
   "source": [
    "For example:\n",
    "\n",
    "    set a 1\n",
    "    add a 2\n",
    "    mul a a\n",
    "    mod a 5\n",
    "    snd a\n",
    "    set a 0\n",
    "    rcv a\n",
    "    jgz a -1\n",
    "    set a 1\n",
    "    jgz a -2\n",
    "\n",
    " - The first four instructions set a to 1, add 2 to it, square it, and then set it to itself modulo 5, resulting in a value of 4.\n",
    " \n",
    " - Then, a sound with frequency 4 (the value of a) is played.\n",
    " \n",
    " - After that, a is set to 0, causing the subsequent rcv and jgz instructions to both be skipped (rcv because a is 0, and jgz because a is not greater than 0).\n",
    " \n",
    "- Finally, a is set to 1, causing the next jgz instruction to activate, jumping back two instructions to another jump, which jumps again to the rcv, which ultimately triggers the recover operation.\n",
    "\n",
    "At the time the recover operation is executed, the frequency of the last sound played is 4."
   ]
  },
  {
   "cell_type": "markdown",
   "metadata": {},
   "source": [
    "> It works with the example?"
   ]
  },
  {
   "cell_type": "code",
   "execution_count": 5,
   "metadata": {},
   "outputs": [
    {
     "name": "stdout",
     "output_type": "stream",
     "text": [
      "       0 PC: 0 | set a 1 [] -> a=1\n",
      "       1 PC: 1 | add a 2 [a=1] -> a=3\n",
      "       2 PC: 2 | mul a a [a=3] -> a=9\n",
      "       3 PC: 3 | mod a 5 [a=9] -> a=4\n",
      "       4 PC: 4 | snd a [a=4] -> <<Play note on freq 4>> a=4\n",
      "       5 PC: 5 | set a 0 [a=4] -> a=0\n",
      "       6 PC: 6 | rcv a [a=0] -> a=0\n",
      "       7 PC: 7 | jgz a -1 [a=0] -> a=0\n",
      "       8 PC: 8 | set a 1 [a=0] -> a=1\n",
      "       9 PC: 9 | jgz a -2 [a=1] -> a=1\n",
      "      10 PC: 7 | jgz a -1 [a=1] -> a=1\n",
      "      11 PC: 6 | rcv a [a=1] -> <<recover freq: 4>> a=1\n",
      "      12 PC: 7 | end execution\n",
      "ok\n"
     ]
    }
   ],
   "source": [
    "p = Proc()\n",
    "p.run([\n",
    "    'set a 1',\n",
    "    'add a 2',\n",
    "    'mul a a',\n",
    "    'mod a 5',\n",
    "    'snd a',\n",
    "    'set a 0',\n",
    "    'rcv a',\n",
    "    'jgz a -1',\n",
    "    'set a 1',\n",
    "    'jgz a -2',\n",
    "], tron=True)\n",
    "assert p.freq == 4\n",
    "print('ok')"
   ]
  },
  {
   "cell_type": "markdown",
   "metadata": {},
   "source": [
    "> It works with the example"
   ]
  },
  {
   "cell_type": "markdown",
   "metadata": {},
   "source": [
    "What is the value of the recovered frequency (the value of the most recently played sound) the first time a rcv instruction is executed with a non-zero value?"
   ]
  },
  {
   "cell_type": "markdown",
   "metadata": {},
   "source": [
    "> Load the code"
   ]
  },
  {
   "cell_type": "code",
   "execution_count": 6,
   "metadata": {},
   "outputs": [
    {
     "name": "stdout",
     "output_type": "stream",
     "text": [
      "set i 31\n",
      "set a 1\n",
      "mul p 17\n",
      "jgz p p\n",
      "mul a 2\n"
     ]
    }
   ],
   "source": [
    "with open('input.txt', 'r') as f:\n",
    "    program = [_.strip() for _ in f.readlines() if _.strip()]\n",
    "\n",
    "for line in program[0:5]:\n",
    "    print(line)"
   ]
  },
  {
   "cell_type": "code",
   "execution_count": 7,
   "metadata": {},
   "outputs": [
    {
     "name": "stdout",
     "output_type": "stream",
     "text": [
      "<<Play note on freq 7656>> <<Play note on freq 8238>> <<Play note on freq 6004>> <<Play note on freq 8332>> <<Play note on freq 1278>> <<Play note on freq 4390>> <<Play note on freq 2853>> <<Play note on freq 5192>> <<Play note on freq 3260>> <<Play note on freq 2145>> <<Play note on freq 619>> <<Play note on freq 2038>> <<Play note on freq 577>> <<Play note on freq 5482>> <<Play note on freq 6474>> <<Play note on freq 2518>> <<Play note on freq 6607>> <<Play note on freq 4679>> <<Play note on freq 9367>> <<Play note on freq 6571>> <<Play note on freq 7217>> <<Play note on freq 2333>> <<Play note on freq 5752>> <<Play note on freq 7305>> <<Play note on freq 7346>> <<Play note on freq 803>> <<Play note on freq 2055>> <<Play note on freq 3604>> <<Play note on freq 8625>> <<Play note on freq 1120>> <<Play note on freq 8340>> <<Play note on freq 7345>> <<Play note on freq 693>> <<Play note on freq 9212>> <<Play note on freq 1898>> <<Play note on freq 9469>> <<Play note on freq 2218>> <<Play note on freq 7166>> <<Play note on freq 2298>> <<Play note on freq 4500>> <<Play note on freq 5664>> <<Play note on freq 8205>> <<Play note on freq 450>> <<Play note on freq 6271>> <<Play note on freq 4027>> <<Play note on freq 3714>> <<Play note on freq 9388>> <<Play note on freq 6652>> <<Play note on freq 4675>> <<Play note on freq 716>> <<Play note on freq 448>> <<Play note on freq 743>> <<Play note on freq 1857>> <<Play note on freq 8850>> <<Play note on freq 576>> <<Play note on freq 9586>> <<Play note on freq 2674>> <<Play note on freq 5999>> <<Play note on freq 9722>> <<Play note on freq 4318>> <<Play note on freq 1967>> <<Play note on freq 7717>> <<Play note on freq 8219>> <<Play note on freq 3599>> <<Play note on freq 2916>> <<Play note on freq 624>> <<Play note on freq 8765>> <<Play note on freq 7973>> <<Play note on freq 1658>> <<Play note on freq 6219>> <<Play note on freq 3443>> <<Play note on freq 8053>> <<Play note on freq 732>> <<Play note on freq 1156>> <<Play note on freq 6339>> <<Play note on freq 2101>> <<Play note on freq 1821>> <<Play note on freq 9715>> <<Play note on freq 7456>> <<Play note on freq 3153>> <<Play note on freq 4638>> <<Play note on freq 395>> <<Play note on freq 7782>> <<Play note on freq 8023>> <<Play note on freq 396>> <<Play note on freq 7242>> <<Play note on freq 6664>> <<Play note on freq 2584>> <<Play note on freq 105>> <<Play note on freq 2294>> <<Play note on freq 440>> <<Play note on freq 1776>> <<Play note on freq 1880>> <<Play note on freq 8377>> <<Play note on freq 3372>> <<Play note on freq 8348>> <<Play note on freq 4648>> <<Play note on freq 4950>> <<Play note on freq 7569>> <<Play note on freq 6385>> <<Play note on freq 6536>> <<Play note on freq 1822>> <<Play note on freq 7991>> <<Play note on freq 1488>> <<Play note on freq 1485>> <<Play note on freq 7711>> <<Play note on freq 5699>> <<Play note on freq 1101>> <<Play note on freq 3197>> <<Play note on freq 2520>> <<Play note on freq 2802>> <<Play note on freq 1952>> <<Play note on freq 1650>> <<Play note on freq 1838>> <<Play note on freq 4257>> <<Play note on freq 3383>> <<Play note on freq 9888>> <<Play note on freq 7352>> <<Play note on freq 3883>> <<Play note on freq 6080>> <<Play note on freq 3580>> <<Play note on freq 3146>> <<Play note on freq 3723>> <<Play note on freq 5112>> <<Play note on freq 5628>> <<Play note on freq 3236>> <<Play note on freq 3423>> <<recover freq: 3423>>     1374 PC: 26 | end execution\n",
      "\n",
      "Part one: 3423\n"
     ]
    }
   ],
   "source": [
    "p = Proc()\n",
    "p.run(program, tron=False)\n",
    "print()\n",
    "print('Part one:', p.freq)"
   ]
  },
  {
   "cell_type": "markdown",
   "metadata": {},
   "source": [
    "### Part Two\n",
    "\n",
    "As you congratulate yourself for a job well done, you notice that the documentation has been on the back of the tablet this entire time. While you actually got most of the instructions correct, there are a few key differences. This assembly code isn't about sound at all - it's meant to be run twice at the same time.\n",
    "\n",
    "Each running copy of the program has its own set of registers and follows the code independently - in fact, the programs don't even necessarily run at the same speed. To coordinate, they use the send (snd) and receive (rcv) instructions:\n",
    "\n",
    " - `snd X` sends the value of X to the other program. These values wait in a queue until that program is ready to receive them. Each program has its own message queue, so a program can never receive a message it sent.\n",
    "\n",
    " - `rcv X` receives the next value and stores it in register X. If no values are in the queue, the program waits for a value to be sent to it. Programs do not continue to the next instruction until they have received a value. Values are received in the order they are sent.\n",
    "\n",
    "Each program also has its own program ID (one 0 and the other 1); the register p should begin with this value.\n",
    "\n",
    "For example:\n",
    "\n",
    "    snd 1\n",
    "    snd 2\n",
    "    snd p\n",
    "    rcv a\n",
    "    rcv b\n",
    "    rcv c\n",
    "    rcv d\n",
    "\n",
    "Both programs begin by sending three values to the other. Program 0 sends 1, 2, 0; program 1 sends 1, 2, 1. Then, each program receives a value (both 1) and stores it in a, receives another value (both 2) and stores it in b, and then each receives the program ID of the other program (program 0 receives 1; program 1 receives 0) and stores it in c. Each program now sees a different value in its own copy of register c.\n",
    "\n",
    "Finally, both programs try to rcv a fourth time, but no data is waiting for either of them, and they reach a deadlock. When this happens, both programs terminate.\n",
    "\n",
    "It should be noted that it would be equally valid for the programs to run at different speeds; for example, program 0 might have sent all three values and then stopped at the first rcv before program 1 executed even its first instruction.\n",
    "\n",
    "Once both of your programs have terminated (regardless of what caused them to do so), how many times did program 1 send a value?"
   ]
  },
  {
   "cell_type": "markdown",
   "metadata": {},
   "source": [
    "> Ok, almost all code in Proc can be used, we need to rewrite the `op_snd` and `op_rcv`, add a queue and an identifier. Also, we have another case to end the program: All the process are in blocked state (deadlock)."
   ]
  },
  {
   "cell_type": "code",
   "execution_count": 8,
   "metadata": {},
   "outputs": [],
   "source": [
    "from queue import Queue, Empty\n",
    "from copy import copy\n",
    "\n",
    "class Proc2(Proc):\n",
    "    \n",
    "    all_procs = set([])\n",
    "    \n",
    "    @classmethod\n",
    "    def reset(cls):\n",
    "        cls.all_procs = set([])\n",
    "\n",
    "    def __init__(self, _id):\n",
    "        super().__init__()\n",
    "        self.blocked = False\n",
    "        self.killed = False\n",
    "        self.pc = 0\n",
    "        self._q = Queue()\n",
    "        self.halt = False\n",
    "        self._id = _id\n",
    "        self.registers['p'] = _id\n",
    "        self.stats = defaultdict(int)\n",
    "        Proc2.all_procs.add(self)\n",
    "\n",
    "    def __str__(self):\n",
    "        return '<P{} {} {} Q:{} pc:{} [{}]>'.format(\n",
    "            self._id,\n",
    "            '✖' if self.blocked else '✓',\n",
    "            '⛨' if self.killed else '≡',\n",
    "            self._q.qsize(),\n",
    "            self.pc,\n",
    "            self.dump(),\n",
    "        )\n",
    "           \n",
    "    __repr__ = __str__\n",
    "        \n",
    "    def op_snd(self, register_or_value):\n",
    "        other_procs = [p for p in Proc2.all_procs if p._id != self._id]\n",
    "        for p in other_procs:\n",
    "            p._q.put(self.get_value(register_or_value))\n",
    "        self.halt = True\n",
    "        return 1\n",
    "        \n",
    "    def op_rcv(self, register):\n",
    "        self.blocked = True\n",
    "        try:\n",
    "            v = self._q.get_nowait()\n",
    "            self.blocked = False\n",
    "            self.registers[register] = v\n",
    "            self.halt = False\n",
    "            return 1\n",
    "        except Empty:\n",
    "            self.halt = True\n",
    "            return 0\n",
    "        \n",
    "    def must_exit(self):\n",
    "        self.killed = any([\n",
    "            self.pc >= len(self.code),\n",
    "            self.pc < 0,\n",
    "            all([p.blocked for p in Proc2.all_procs]),\n",
    "            ])  \n",
    "        return self.killed\n",
    "    \n",
    "    def load_program(self, lines, tron=False):\n",
    "        self.stats = defaultdict(int)\n",
    "        self.code = [_ for _ in lines]\n",
    "        self.pc = 0\n",
    "        self.blocked = False\n",
    "        self.Killed = False\n",
    "        self.halt = False\n",
    "        self.tron = tron\n",
    "\n",
    "    def exec(self, line):\n",
    "        cod_op, *args = line.split(' ')\n",
    "        method = self.kernel[cod_op]\n",
    "        flag = method(*args)\n",
    "        if flag != 0:\n",
    "            self.stats[cod_op] = self.stats.setdefault(cod_op, 0) + 1\n",
    "        return flag\n",
    "    \n",
    "    def step(self, tron=False):\n",
    "        self.halt = False    \n",
    "        if not self.must_exit():\n",
    "            line = self.code[self.pc]\n",
    "            if tron:\n",
    "                print(line, self, end='')\n",
    "            delta = self.exec(line)\n",
    "            self.pc += delta\n",
    "            self._clock += 1\n",
    "            return True\n",
    "        else:\n",
    "            return False\n",
    "            "
   ]
  },
  {
   "cell_type": "code",
   "execution_count": 9,
   "metadata": {},
   "outputs": [
    {
     "name": "stdout",
     "output_type": "stream",
     "text": [
      "<P1 ✓ ≡ Q:0 pc:0 [p=1]> False\n",
      "rcv z <P1 ✓ ≡ Q:0 pc:0 [p=1]><P1 ✖ ≡ Q:0 pc:0 [p=1]> True\n",
      "<P0 ✓ ≡ Q:0 pc:0 [p=0]> <P1 ✖ ≡ Q:0 pc:0 [p=1]>\n",
      "snd 23 <P0 ✓ ≡ Q:0 pc:0 [p=0]>True\n",
      "<P0 ✓ ≡ Q:0 pc:1 [p=0]> <P1 ✖ ≡ Q:1 pc:0 [p=1]>\n",
      "rcv z <P1 ✖ ≡ Q:1 pc:0 [p=1]>True\n"
     ]
    }
   ],
   "source": [
    "Proc2.reset()\n",
    "\n",
    "p0 = Proc2(0)\n",
    "p1 = Proc2(1)\n",
    "\n",
    "p0.load_program([\n",
    "    'snd 23'\n",
    "    ])\n",
    "\n",
    "p1.load_program([\n",
    "    'rcv z'\n",
    "    ])\n",
    "\n",
    "print(p1, p1.halt)\n",
    "p1.step(tron=True)\n",
    "print(p1, p1.halt)\n",
    "print(p0, p1)\n",
    "print(p0.step(tron=True))\n",
    "\n",
    "print(p0, p1)\n",
    "print(p1.step(tron=True))\n"
   ]
  },
  {
   "cell_type": "code",
   "execution_count": 10,
   "metadata": {},
   "outputs": [
    {
     "name": "stdout",
     "output_type": "stream",
     "text": [
      "len(kernel): 2\n",
      "\n",
      "Switch to process 0:\n",
      "snd 23 <P0 ✓ ≡ Q:0 pc:0 [p=0]>\n",
      "Switch to process 1:\n",
      "set a -1 <P1 ✓ ≡ Q:1 pc:0 [p=1]>\n",
      "add a 1 <P1 ✓ ≡ Q:1 pc:1 [a=-1:p=1]>\n",
      "jgz 1 3 <P1 ✓ ≡ Q:1 pc:2 [a=0:p=1]>\n",
      "set a 9 <P1 ✓ ≡ Q:1 pc:5 [a=0:p=1]>\n",
      "mod a 7 <P1 ✓ ≡ Q:1 pc:6 [a=9:p=1]>\n",
      "set a -1 <P1 ✓ ≡ Q:1 pc:7 [a=2:p=1]>\n",
      "add a -2 <P1 ✓ ≡ Q:1 pc:8 [a=-1:p=1]>\n",
      "mul a -5 <P1 ✓ ≡ Q:1 pc:9 [a=-3:p=1]>\n",
      "rcv z <P1 ✓ ≡ Q:1 pc:10 [a=15:p=1]>\n",
      "x Proc <P1 ✓ ⛨ Q:0 pc:11 [z=23:a=15:p=1]> ends\n",
      "\n",
      "Switch to process 0:\n",
      "x Proc <P0 ✓ ⛨ Q:0 pc:1 [p=0]> ends\n",
      "<P0 ✓ ⛨ Q:0 pc:1 [p=0]> <P1 ✓ ⛨ Q:0 pc:11 [z=23:a=15:p=1]>\n",
      "ok\n"
     ]
    }
   ],
   "source": [
    "from collections import deque\n",
    "\n",
    "Proc2.reset()\n",
    "\n",
    "p0 = Proc2(0)\n",
    "p1 = Proc2(1)\n",
    "\n",
    "p0.load_program([\n",
    "    'snd 23'\n",
    "    ])\n",
    "\n",
    "p1.load_program([\n",
    "    'set a -1',\n",
    "    'add a 1',\n",
    "    'jgz 1 3',\n",
    "    'set a 1',\n",
    "    'set a 2',\n",
    "    'set a 9',\n",
    "    'mod a 7',\n",
    "    'set a -1',\n",
    "    'add a -2',\n",
    "    'mul a -5',\n",
    "    'rcv z'\n",
    "    ])\n",
    "\n",
    "def run(*procs, tron=False):\n",
    "    kernel = deque([p for p in procs if not p.killed])\n",
    "    if tron:\n",
    "        print('len(kernel):', len(kernel))\n",
    "    while kernel:\n",
    "        p = kernel.popleft()\n",
    "        if tron:\n",
    "            print('\\nSwitch to process {}'.format(p._id), end=':\\n')\n",
    "        cont = p.step(tron=tron)\n",
    "        while cont and not p.halt:\n",
    "            if tron:\n",
    "                print()\n",
    "            cont = p.step(tron=tron)\n",
    "        if p.killed:\n",
    "            if tron:\n",
    "                print('x Proc {} ends'.format(p))\n",
    "        else:\n",
    "            kernel.append(p)\n",
    "        \n",
    "run(p0, p1, tron=True)\n",
    "           \n",
    "assert p1.registers.a == 15\n",
    "assert p1.registers.z == 23\n",
    "assert p0.stats['snd'] == 1\n",
    "assert p1.stats['jgz'] == 1\n",
    "assert p1.stats['add'] == 2\n",
    "assert p1.stats['set'] == 3\n",
    "assert p1.stats['mod'] == 1\n",
    "assert p1.stats['mul'] == 1\n",
    "assert p1.stats['rcv'] == 1\n",
    "print(p0, p1)\n",
    "print('ok')"
   ]
  },
  {
   "cell_type": "markdown",
   "metadata": {},
   "source": [
    "> Lets go with the example:"
   ]
  },
  {
   "cell_type": "code",
   "execution_count": 11,
   "metadata": {},
   "outputs": [
    {
     "name": "stdout",
     "output_type": "stream",
     "text": [
      "len(kernel): 2\n",
      "\n",
      "Switch to process 1:\n",
      "snd 1 <P1 ✓ ≡ Q:0 pc:0 [p=1]>\n",
      "Switch to process 0:\n",
      "snd 1 <P0 ✓ ≡ Q:1 pc:0 [p=0]>\n",
      "Switch to process 1:\n",
      "snd 2 <P1 ✓ ≡ Q:1 pc:1 [p=1]>\n",
      "Switch to process 0:\n",
      "snd 2 <P0 ✓ ≡ Q:2 pc:1 [p=0]>\n",
      "Switch to process 1:\n",
      "snd p <P1 ✓ ≡ Q:2 pc:2 [p=1]>\n",
      "Switch to process 0:\n",
      "snd p <P0 ✓ ≡ Q:3 pc:2 [p=0]>\n",
      "Switch to process 1:\n",
      "rcv a <P1 ✓ ≡ Q:3 pc:3 [p=1]>\n",
      "rcv b <P1 ✓ ≡ Q:2 pc:4 [a=1:p=1]>\n",
      "rcv c <P1 ✓ ≡ Q:1 pc:5 [b=2:a=1:p=1]>\n",
      "rcv d <P1 ✓ ≡ Q:0 pc:6 [b=2:a=1:p=1:c=0]>\n",
      "Switch to process 0:\n",
      "rcv a <P0 ✓ ≡ Q:3 pc:3 [p=0]>\n",
      "rcv b <P0 ✓ ≡ Q:2 pc:4 [a=1:p=0]>\n",
      "rcv c <P0 ✓ ≡ Q:1 pc:5 [b=2:a=1:p=0]>\n",
      "rcv d <P0 ✓ ≡ Q:0 pc:6 [b=2:a=1:p=0:c=1]>\n",
      "Switch to process 1:\n",
      "x Proc <P1 ✖ ⛨ Q:0 pc:6 [b=2:a=1:p=1:c=0]> ends\n",
      "\n",
      "Switch to process 0:\n",
      "x Proc <P0 ✖ ⛨ Q:0 pc:6 [b=2:a=1:p=0:c=1]> ends\n",
      "OK\n"
     ]
    }
   ],
   "source": [
    "import random\n",
    "\n",
    "program = [\n",
    "    'snd 1',\n",
    "    'snd 2',\n",
    "    'snd p',\n",
    "    'rcv a',\n",
    "    'rcv b',\n",
    "    'rcv c',\n",
    "    'rcv d',\n",
    "    ]\n",
    "Proc2.reset()\n",
    "p0 = Proc2(0)\n",
    "p1 = Proc2(1)\n",
    "\n",
    "p0.load_program(program)\n",
    "p1.load_program(program)\n",
    "assert Proc2.all_procs == set([p0, p1])\n",
    "assert p0.code == p1.code\n",
    "\n",
    "run(p1, p0, tron=not False)\n",
    "\n",
    "assert p0.killed\n",
    "assert p1.killed\n",
    "assert p0._q.empty(), 'Cola de {} no vacia:'.format(p0._id)\n",
    "assert p1._q.empty(), 'Cola de {} no vacia:'.format(p1._id)\n",
    "assert p0.stats['snd'] == 3\n",
    "assert p1.stats['snd'] == 3\n",
    "assert p0.stats['rcv'] == 3\n",
    "assert p1.stats['rcv'] == 3\n",
    "print('OK')\n"
   ]
  },
  {
   "cell_type": "markdown",
   "metadata": {},
   "source": [
    "> Ok, let's go try it with the real code"
   ]
  },
  {
   "cell_type": "code",
   "execution_count": 12,
   "metadata": {},
   "outputs": [
    {
     "name": "stdout",
     "output_type": "stream",
     "text": [
      "\n",
      "Part two: 7493\n"
     ]
    }
   ],
   "source": [
    "with open('input.txt', 'r') as f:\n",
    "    program = [_.strip() for _ in f.readlines() if _.strip()]\n",
    "\n",
    "Proc2.reset()\n",
    "p0 = Proc2(0)\n",
    "p1 = Proc2(1)\n",
    "\n",
    "p0.load_program(program)\n",
    "p1.load_program(program)\n",
    "\n",
    "assert Proc2.all_procs == set([p0, p1])\n",
    "assert p0.code == p1.code\n",
    "\n",
    "run(p0, p1, tron=False)\n",
    "print()\n",
    "print('Part two:', p1.stats['snd'])"
   ]
  }
 ],
 "metadata": {
  "kernelspec": {
   "display_name": "Python 3",
   "language": "python",
   "name": "python3"
  },
  "language_info": {
   "codemirror_mode": {
    "name": "ipython",
    "version": 3
   },
   "file_extension": ".py",
   "mimetype": "text/x-python",
   "name": "python",
   "nbconvert_exporter": "python",
   "pygments_lexer": "ipython3",
   "version": "3.5.2"
  }
 },
 "nbformat": 4,
 "nbformat_minor": 2
}
