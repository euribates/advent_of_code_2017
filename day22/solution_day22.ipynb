{
 "cells": [
  {
   "cell_type": "markdown",
   "metadata": {},
   "source": [
    "## Day 22: Sporifica Virus \n",
    "\n",
    "Diagnostics indicate that the local **grid computing cluster** has been contaminated with the **Sporifica Virus**. The grid computing cluster is a seemingly-infinite two-dimensional grid of compute nodes. Each node is either **clean** or **infected** by the virus.\n",
    "\n",
    "### Part One\n",
    "\n",
    "To [prevent overloading](https://en.wikipedia.org/wiki/Morris_worm#The_mistake) the nodes (which would render them useless to the virus) or detection by system administrators, exactly one virus carrier moves through the network, infecting or cleaning nodes as it moves. The virus carrier is always located on a single node in the network (the current node) and keeps track of the direction it is facing."
   ]
  },
  {
   "cell_type": "code",
   "execution_count": 3,
   "metadata": {},
   "outputs": [],
   "source": [
    "from enum import Enum\n",
    "# Reused form Day 19\n",
    "\n",
    "class Direction(Enum):\n",
    "\n",
    "    NORTH = 1\n",
    "    EAST = 2\n",
    "    SOUTH = 4\n",
    "    WEST = 8\n",
    "\n",
    "    def __neg__(self):  # So -NORTH == SOUTH. Pretty cool!\n",
    "        map_oposites = {\n",
    "            Direction.NORTH: Direction.SOUTH,\n",
    "            Direction.SOUTH: Direction.NORTH,\n",
    "            Direction.EAST: Direction.WEST,\n",
    "            Direction.WEST: Direction.EAST,\n",
    "            }\n",
    "        return map_oposites[self]\n",
    "    \n",
    "    def __str__(self):\n",
    "        if self == Direction.NORTH:\n",
    "            return '▲'\n",
    "        elif self == Direction.SOUTH:\n",
    "            return '▼'\n",
    "        elif self == Direction.WEST:\n",
    "            return '◄'\n",
    "        else:\n",
    "            return '►'\n",
    "    \n",
    "def rotate_left(direction):\n",
    "    return {\n",
    "        Direction.NORTH: Direction.WEST,\n",
    "        Direction.WEST: Direction.SOUTH,\n",
    "        Direction.SOUTH: Direction.EAST,\n",
    "        Direction.EAST: Direction.NORTH,\n",
    "    }.get(direction)\n",
    "\n",
    "# tests\n",
    "assert rotate_left(Direction.NORTH) == Direction.WEST\n",
    "assert rotate_left(Direction.WEST) == Direction.SOUTH\n",
    "assert rotate_left(Direction.SOUTH) == Direction.EAST\n",
    "assert rotate_left(Direction.EAST) == Direction.NORTH\n",
    "for d in Direction:\n",
    "    assert rotate_left(rotate_left(rotate_left(rotate_left(d)))) == d\n",
    "\n",
    "def rotate_right(direction):\n",
    "    return {\n",
    "        Direction.NORTH: Direction.EAST,\n",
    "        Direction.EAST: Direction.SOUTH,\n",
    "        Direction.SOUTH: Direction.WEST,\n",
    "        Direction.WEST: Direction.NORTH,\n",
    "    }.get(direction)\n",
    "\n",
    "# tests\n",
    "assert rotate_right(Direction.NORTH) == Direction.EAST\n",
    "assert rotate_right(Direction.EAST) == Direction.SOUTH\n",
    "assert rotate_right(Direction.SOUTH) == Direction.WEST\n",
    "assert rotate_right(Direction.WEST) == Direction.NORTH\n",
    "for d in Direction:\n",
    "    assert rotate_right(rotate_right(rotate_right(rotate_right(d)))) == d"
   ]
  },
  {
   "cell_type": "code",
   "execution_count": 5,
   "metadata": {},
   "outputs": [
    {
     "name": "stdout",
     "output_type": "stream",
     "text": [
      "Virus(x=0, y=0, direction='▲')\n"
     ]
    }
   ],
   "source": [
    "class Virus:\n",
    "    \n",
    "    def __init__(self):\n",
    "        self.x = 0\n",
    "        self.y = 0\n",
    "        self.direction = Direction.NORTH\n",
    "        \n",
    "    def __str__(self):\n",
    "        return \"Virus(x={}, y={}, direction='{}')\".format(\n",
    "            self.x,\n",
    "            self.y,\n",
    "            self.direction,\n",
    "            )\n",
    "    \n",
    "    def move(self):\n",
    "        if self.direction == Direction.NORTH:\n",
    "            self.y -= 1\n",
    "        elif self.direction == Direction.WEST:\n",
    "            self.x -= 1\n",
    "        elif self.direction == Direction.SOUTH:\n",
    "            self.y += 1\n",
    "        elif self.direction == Direction.EAST:\n",
    "            self.x += 1\n",
    "            \n",
    "        \n",
    "v = Virus()\n",
    "print(v)\n",
    "v.move()\n",
    "assert v.y == -1\n",
    "assert v.x == 0"
   ]
  },
  {
   "cell_type": "markdown",
   "metadata": {},
   "source": [
    "To avoid detection, the virus carrier works in bursts; in each burst, it wakes up, does some work, and goes back to sleep. The following steps are all executed in order one time each burst:\n",
    "\n",
    " - If the **.current node** is infected, it turns to its **right**. Otherwise, it turns to its **left** (Turning is done in-place; the **current node** does not change.)\n",
    " \n",
    " - If the **current node** is clean, it becomes **infected**. Otherwise, it becomes cleaned. (This is done after the node is considered for the purposes of changing direction.)\n",
    " \n",
    " - The virus carrier **moves** forward one node in the direction it is facing."
   ]
  },
  {
   "cell_type": "code",
   "execution_count": 9,
   "metadata": {},
   "outputs": [],
   "source": [
    "def burst(grid, virus):\n",
    "    infected = grid.get(virus.x, virus.y)\n",
    "    if infected:\n",
    "        virus.direction = rotate_right(virus.direction)\n",
    "    else:\n",
    "        virus.direction = rotate_left(virus.direction)\n",
    "    grid.put(virus.x, virus.y, not infected)\n",
    "    virus.move()\n",
    "    return not infected"
   ]
  },
  {
   "cell_type": "markdown",
   "metadata": {},
   "source": [
    "> We will need a Grid map:"
   ]
  },
  {
   "cell_type": "code",
   "execution_count": 33,
   "metadata": {},
   "outputs": [
    {
     "name": "stdout",
     "output_type": "stream",
     "text": [
      "▢▢▢▢\n",
      "▢▢▢▢\n",
      "▢▢◇▢\n",
      "▢▢▢▣\n"
     ]
    }
   ],
   "source": [
    "from collections import defaultdict\n",
    "\n",
    "class Grid:\n",
    "    \n",
    "    def __init__(self, default_function=bool):\n",
    "        self.kernel = defaultdict(default_function)\n",
    "        self.bound_min_x = 0\n",
    "        self.bound_max_x = 0\n",
    "        self.bound_min_y = 0\n",
    "        self.bound_max_y = 0\n",
    "        \n",
    "    def recalc_bounds(self, x, y):\n",
    "        self.bound_min_x = min(x, self.bound_min_x)\n",
    "        self.bound_max_x = max(x, self.bound_max_x)\n",
    "        self.bound_min_y = min(y, self.bound_min_y)\n",
    "        self.bound_max_y = max(y, self.bound_max_y)\n",
    "        \n",
    "    def get(self, x, y):\n",
    "        self.recalc_bounds(x, y)\n",
    "        pos = (x, y)\n",
    "        return self.kernel[pos]\n",
    "    \n",
    "    def put(self, x, y, value):\n",
    "        self.recalc_bounds(x, y)\n",
    "        pos = (x, y)\n",
    "        self.kernel[pos] = value\n",
    "        \n",
    "    def __str__(self):\n",
    "        rows = []\n",
    "        for y in range(self.bound_min_y, self.bound_max_y+1):\n",
    "            cols = []\n",
    "            for x in range(self.bound_min_x, self.bound_max_x+1):\n",
    "                if x == 0 and y == 0:\n",
    "                    cols.append('◈' if self.kernel[x,y] else '◇')\n",
    "                else:\n",
    "                    cols.append('▣' if self.kernel[x,y] else '▢')\n",
    "            rows.append(''.join(cols))\n",
    "        return '\\n'.join(rows)\n",
    "            \n",
    "    \n",
    "grid = Grid()\n",
    "grid.get(0, 0) == False\n",
    "assert grid.get(-2, -2) == False\n",
    "grid.put(1,1, True)\n",
    "print(grid)\n"
   ]
  },
  {
   "cell_type": "markdown",
   "metadata": {},
   "source": [
    "Diagnostics have also provided a map of the node infection status (your puzzle input). Clean nodes are shown as .; infected nodes are shown as #. This map only shows the center of the grid; there are many more nodes beyond those shown, but none of them are currently infected."
   ]
  },
  {
   "cell_type": "code",
   "execution_count": 11,
   "metadata": {},
   "outputs": [
    {
     "name": "stdout",
     "output_type": "stream",
     "text": [
      "▣▣▢▣▣▣▢▢▢▢▢▣▣▢▢▣▢▣▣▣▣▢▢▢▢\n",
      "▣▣▢▢▢▣▢▣▢▣▢▢▣▣▢▣▢▢▢▢▣▢▣▢▢\n",
      "▢▢▢▣▢▢▣▢▣▣▣▢▣▢▣▣▣▢▣▣▢▣▣▣▣\n",
      "▢▢▣▣▢▢▣▣▣▢▢▢▢▣▢▣▣▢▣▢▢▣▣▢▣\n",
      "▣▣▣▢▢▢▢▣▣▣▣▣▢▢▣▣▣▢▣▢▢▣▢▢▣\n",
      "▢▢▢▢▢▣▢▣▢▢▢▣▢▢▣▣▢▢▣▢▣▣▢▢▢\n",
      "▢▣▣▢▣▢▣▣▣▢▣▢▣▢▢▢▣▣▢▣▢▣▣▢▣\n",
      "▢▢▢▢▢▢▣▣▣▣▣▣▢▣▣▣▢▢▢▢▢▢▣▣▣\n",
      "▣▢▢▢▢▢▣▣▢▣▢▢▢▢▣▢▢▢▣▢▢▢▢▢▢\n",
      "▢▢▢▢▣▢▢▣▣▣▢▣▢▣▢▣▣▣▣▢▣▣▢▣▢\n",
      "▢▣▢▣▢▣▣▢▢▢▣▣▣▢▣▣▣▣▣▣▢▣▣▣▣\n",
      "▣▣▣▣▢▢▢▢▢▢▣▢▢▢▣▢▢▢▣▢▢▣▢▣▢\n",
      "▣▣▣▢▣▣▢▣▣▢▢▣◈▢▢▢▢▣▢▢▣▣▢▣▢\n",
      "▢▢▣▢▣▣▣▢▣▣▢▢▣▢▢▢▣▣▣▣▣▣▣▢▢\n",
      "▢▢▢▣▣▣▣▢▣▢▢▢▣▣▣▢▢▣▢▢▣▣▣▢▣\n",
      "▢▢▣▢▣▢▢▢▢▢▢▢▣▢▣▣▣▣▢▣▢▢▢▢▢\n",
      "▢▢▣▣▢▢▣▣▣▣▢▣▣▣▣▣▣▢▢▣▣▢▣▣▣\n",
      "▢▢▣▢▢▣▢▢▣▣▢▢▢▣▢▣▣▣▣▢▢▢▢▣▢\n",
      "▢▣▢▢▣▢▣▣▣▣▢▣▢▢▣▣▢▢▣▢▢▣▣▢▢\n",
      "▢▢▢▢▢▢▣▣▣▣▣▢▢▢▣▢▣▣▢▣▢▢▢▢▣\n",
      "▣▣▣▢▢▣▢▢▢▣▢▣▢▢▢▣▢▣▢▢▣▢▣▢▣\n",
      "▢▣▢▣▣▣▢▣▢▢▢▢▣▣▢▢▣▣▣▣▣▣▢▣▣\n",
      "▣▣▢▣▣▣▣▣▣▢▢▢▢▢▣▣▢▣▢▣▢▣▢▢▣\n",
      "▢▢▣▢▢▣▣▢▣▣▢▢▣▢▣▢▢▣▣▣▢▣▣▢▢\n",
      "▣▢▣▣▢▣▣▢▢▣▣▢▣▢▣▣▣▢▢▢▢▢▢▢▣\n"
     ]
    }
   ],
   "source": [
    "def load_grid(filename):\n",
    "    grid = Grid()\n",
    "    with open(filename, 'r') as f:\n",
    "        lines = [l.strip() for l in f]\n",
    "    offset_x = len(lines[0]) // 2\n",
    "    offset_y = len(lines) // 2\n",
    "    for y, line in enumerate(lines):\n",
    "        for x, c in enumerate(list(line)):\n",
    "            grid.put(x - offset_x, y - offset_y, c == '#')\n",
    "    return grid\n",
    "    \n",
    "grid = load_grid('input.txt')\n",
    "print(grid)"
   ]
  },
  {
   "cell_type": "markdown",
   "metadata": {},
   "source": [
    "The virus carrier begins in the middle of the map facing up.\n",
    "\n",
    "For example, suppose you are given a map like this:\n",
    "\n",
    "    ..#\n",
    "    #..\n",
    "    ...\n",
    "\n",
    "Then, the middle of the infinite grid looks like this, with the virus carrier's position marked with [ ]:\n",
    "\n",
    "    . . . . . . . . .\n",
    "    . . . . . . . . .\n",
    "    . . . . . . . . .\n",
    "    . . . . . # . . .\n",
    "    . . . #[.]. . . .\n",
    "    . . . . . . . . .\n",
    "    . . . . . . . . .\n",
    "    . . . . . . . . .\n",
    "\n",
    "The virus carrier is on a clean node, so it turns left, infects the node, and moves left:\n",
    "\n",
    "    . . . . . . . . .\n",
    "    . . . . . . . . .\n",
    "    . . . . . . . . .\n",
    "    . . . . . # . . .\n",
    "    . . .[#]# . . . .\n",
    "    . . . . . . . . .\n",
    "    . . . . . . . . .\n",
    "    . . . . . . . . .\n",
    "\n",
    "The virus carrier is on an infected node, so it turns right, cleans the node, and moves up:\n",
    "\n",
    "    . . . . . . . . .\n",
    "    . . . . . . . . .\n",
    "    . . . . . . . . .\n",
    "    . . .[.]. # . . .\n",
    "    . . . . # . . . .\n",
    "    . . . . . . . . .\n",
    "    . . . . . . . . .\n",
    "    . . . . . . . . .\n",
    "\n",
    "Four times in a row, the virus carrier finds a clean, infects it, turns left, and moves forward, ending in the same place and still facing up:\n",
    "\n",
    "    . . . . . . . . .\n",
    "    . . . . . . . . .\n",
    "    . . . . . . . . .\n",
    "    . . #[#]. # . . .\n",
    "    . . # # # . . . .\n",
    "    . . . . . . . . .\n",
    "    . . . . . . . . .\n",
    "    . . . . . . . . .\n",
    "\n",
    "Now on the same node as before, it sees an infection, which causes it to turn right, clean the node, and move forward:\n",
    "\n",
    "    . . . . . . . . .\n",
    "    . . . . . . . . .\n",
    "    . . . . . . . . .\n",
    "    . . # .[.]# . . .\n",
    "    . . # # # . . . .\n",
    "    . . . . . . . . .\n",
    "    . . . . . . . . .\n",
    "    . . . . . . . . .\n",
    "\n",
    "After the above actions, a total of 7 bursts of activity had taken place. Of them, 5 bursts of activity caused an infection.\n",
    "\n",
    "After a total of 70, the grid looks like this, with the virus carrier facing up:\n",
    "\n",
    "    . . . . . # # . .\n",
    "    . . . . # . . # .\n",
    "    . . . # . . . . #\n",
    "    . . # . #[.]. . #\n",
    "    . . # . # . . # .\n",
    "    . . . . . # # . .\n",
    "    . . . . . . . . .\n",
    "    . . . . . . . . ."
   ]
  },
  {
   "cell_type": "code",
   "execution_count": 12,
   "metadata": {},
   "outputs": [
    {
     "name": "stdout",
     "output_type": "stream",
     "text": [
      "▢▢▢▣▣▢▢\n",
      "▢▢▣▢▢▣▢\n",
      "▢▣▢▢▢▢▣\n",
      "▣▢▣▢▢▢▣\n",
      "▣▢◈▢▢▣▢\n",
      "▢▢▢▣▣▢▢\n",
      "41\n"
     ]
    }
   ],
   "source": [
    "grid = load_grid('input_test.txt')\n",
    "virus = Virus()\n",
    "count = 0\n",
    "for _ in range(70):\n",
    "    count += burst(grid, virus)\n",
    "print(grid)\n",
    "print(count)"
   ]
  },
  {
   "cell_type": "markdown",
   "metadata": {},
   "source": [
    "By this time, 41 bursts of activity caused an infection (though most of those nodes have since been cleaned)."
   ]
  },
  {
   "cell_type": "markdown",
   "metadata": {},
   "source": [
    "After a total of 10000 bursts of activity, 5587 bursts will have caused an infection."
   ]
  },
  {
   "cell_type": "code",
   "execution_count": 13,
   "metadata": {},
   "outputs": [
    {
     "name": "stdout",
     "output_type": "stream",
     "text": [
      "Part one: 5587\n"
     ]
    }
   ],
   "source": [
    "grid = load_grid('input_test.txt')\n",
    "virus = Virus()\n",
    "count = 0\n",
    "for _ in range(10000):\n",
    "    count += burst(grid, virus)\n",
    "print('Part one:', count)"
   ]
  },
  {
   "cell_type": "markdown",
   "metadata": {},
   "source": [
    "Given your actual map, **after 10000 bursts of activity, how many bursts cause a node to become infected**? (Do not count nodes that begin infected.)"
   ]
  },
  {
   "cell_type": "code",
   "execution_count": 15,
   "metadata": {},
   "outputs": [
    {
     "name": "stdout",
     "output_type": "stream",
     "text": [
      "Part one: 5552\n"
     ]
    }
   ],
   "source": [
    "grid = load_grid('input.txt')\n",
    "virus = Virus()\n",
    "count = 0\n",
    "for _ in range(10000):\n",
    "    count += burst(grid, virus)\n",
    "print('Part one:', count)"
   ]
  },
  {
   "cell_type": "markdown",
   "metadata": {},
   "source": [
    "### Part Two\n",
    "\n",
    "As you go to remove the virus from the infected nodes, it evolves to resist your attempt.\n",
    "\n",
    "Now, before it infects a clean node, it will weaken it to disable your defenses. If it encounters an infected node, it will instead flag the node to be cleaned in the future. So:\n",
    "\n",
    "- Clean nodes become weakened.\n",
    "- Weakened nodes become infected.\n",
    "- Infected nodes become flagged.\n",
    "- Flagged nodes become clean.\n",
    "\n",
    "Every node is always in exactly one of the above states."
   ]
  },
  {
   "cell_type": "code",
   "execution_count": 70,
   "metadata": {},
   "outputs": [
    {
     "name": "stdout",
     "output_type": "stream",
     "text": [
      "ok\n",
      "W···\n",
      "··Ⓒ·\n",
      "····\n",
      "▩··F\n"
     ]
    }
   ],
   "source": [
    "from enum import Enum\n",
    "\n",
    "class State(Enum):\n",
    "    \n",
    "    CLEAN = 1\n",
    "    WEAKENED = 2\n",
    "    INFECTED = 4\n",
    "    FLAGGED = 8\n",
    "    \n",
    "    def next(self):\n",
    "        return {\n",
    "            State.CLEAN: State.WEAKENED,\n",
    "            State.WEAKENED: State.INFECTED,\n",
    "            State.INFECTED: State.FLAGGED,\n",
    "            State.FLAGGED: State.CLEAN,\n",
    "        }.get(self)\n",
    "    \n",
    "    def __str__(self):\n",
    "        if self == State.CLEAN:\n",
    "            return '·'\n",
    "        elif self == State.WEAKENED:\n",
    "            return 'W'\n",
    "        elif self == State.INFECTED:\n",
    "            return '▩'\n",
    "        else:\n",
    "            return 'F'\n",
    "        \n",
    "    \n",
    "# tests\n",
    "\n",
    "assert State.CLEAN.next() == State.WEAKENED\n",
    "assert State.WEAKENED.next() == State.INFECTED\n",
    "assert State.INFECTED.next() == State.FLAGGED\n",
    "assert State.FLAGGED.next() == State.CLEAN\n",
    "for state in State:\n",
    "    state.next().next().next().next == state\n",
    "print('ok')\n",
    "\n",
    "def clean_state():\n",
    "    return State.CLEAN\n",
    "\n",
    "def home(state):\n",
    "    if state == State.CLEAN:\n",
    "        return 'Ⓒ'\n",
    "    elif state == State.WEAKENED:\n",
    "        return 'Ⓦ'\n",
    "    elif state == State.INFECTED:\n",
    "        return 'Ⓘ'\n",
    "    else:\n",
    "        return 'Ⓕ'\n",
    "    \n",
    "\n",
    "    \n",
    "class GridTwo(Grid):\n",
    "            \n",
    "    def __str__(self):\n",
    "        rows = []\n",
    "        for y in range(self.bound_min_y, self.bound_max_y+1):\n",
    "            cols = []\n",
    "            for x in range(self.bound_min_x, self.bound_max_x+1):\n",
    "                if x == 0 and y == 0:\n",
    "                    cols.append(home(self.kernel[x,y]))\n",
    "                else:\n",
    "                    cols.append(str(self.kernel[x,y]))\n",
    "            rows.append(''.join(cols))\n",
    "        return '\\n'.join(rows)\n",
    "    \n",
    "grid = GridTwo(clean_state)\n",
    "grid.put(-2, -1, State.WEAKENED)\n",
    "grid.put(1, 2, State.FLAGGED)\n",
    "grid.put(-2, 2, State.INFECTED)\n",
    "print(grid)"
   ]
  },
  {
   "cell_type": "code",
   "execution_count": 91,
   "metadata": {},
   "outputs": [],
   "source": [
    "def load_grid_two(filename):\n",
    "    grid = GridTwo(clean_state)\n",
    "    with open(filename, 'r') as f:\n",
    "        lines = [l.strip() for l in f]\n",
    "    offset_x = len(lines[0]) // 2\n",
    "    offset_y = len(lines) // 2\n",
    "    for y, line in enumerate(lines):\n",
    "        for x, c in enumerate(list(line)):\n",
    "            grid.put(x - offset_x, y - offset_y, State.INFECTED if c == '#' else State.CLEAN)\n",
    "    return grid"
   ]
  },
  {
   "cell_type": "markdown",
   "metadata": {},
   "source": [
    "The virus carrier still functions in a similar way, but now uses the following logic during its bursts of action:\n",
    "\n",
    " - Decide which way to turn based on the current node:\n",
    "    - If it is clean, it turns left.\n",
    "    - If it is weakened, it does not turn, and will continue moving in the same direction.\n",
    "    - If it is infected, it turns right.\n",
    "    - If it is flagged, it reverses direction, and will go back the way it came.\n",
    " - Modify the state of the current node, as described above.\n",
    " - The virus carrier moves forward one node in the direction it is facing."
   ]
  },
  {
   "cell_type": "code",
   "execution_count": 92,
   "metadata": {},
   "outputs": [],
   "source": [
    "def burst_two(grid, virus):\n",
    "    s = grid.get(virus.x, virus.y)\n",
    "    if s == State.CLEAN:\n",
    "        virus.direction = rotate_left(virus.direction)\n",
    "    elif s == State.WEAKENED:\n",
    "        pass\n",
    "    elif s == State.INFECTED:\n",
    "        virus.direction = rotate_right(virus.direction)\n",
    "    else:\n",
    "        virus.direction = - virus.direction\n",
    "    grid.put(virus.x, virus.y, s.next())\n",
    "    virus.move()\n",
    "    return 1 if s == State.WEAKENED else 0\n"
   ]
  },
  {
   "cell_type": "markdown",
   "metadata": {},
   "source": [
    "Start with the same map (still using . for clean and # for infected) and still with the virus carrier starting in the middle and facing up.\n",
    "\n",
    "Using the same initial state as the previous example, and drawing weakened as W and flagged as F, the middle of the infinite grid looks like this, with the virus carrier's position again marked with [ ]:\n",
    "\n",
    "    . . . . . . . . .\n",
    "    . . . . . . . . .\n",
    "    . . . . . . . . .\n",
    "    . . . . . # . . .\n",
    "    . . . #[.]. . . .\n",
    "    . . . . . . . . .\n",
    "    . . . . . . . . .\n",
    "    . . . . . . . . ."
   ]
  },
  {
   "cell_type": "code",
   "execution_count": 103,
   "metadata": {},
   "outputs": [
    {
     "name": "stdout",
     "output_type": "stream",
     "text": [
      "··▩\n",
      "▩Ⓒ·\n",
      "···\n"
     ]
    }
   ],
   "source": [
    "grid = load_grid_two('input_test.txt')\n",
    "virus = Virus()\n",
    "print(grid)"
   ]
  },
  {
   "cell_type": "markdown",
   "metadata": {},
   "source": [
    "This is the same as before, since no initial nodes are weakened or flagged. The virus carrier is on a clean node, so it still turns left, instead weakens the node, and moves left:\n",
    "\n",
    "    . . . . . . . . .\n",
    "    . . . . . . . . .\n",
    "    . . . . . . . . .\n",
    "    . . . . . # . . .\n",
    "    . . .[#]W . . . .\n",
    "    . . . . . . . . .\n",
    "    . . . . . . . . .\n",
    "    . . . . . . . . ."
   ]
  },
  {
   "cell_type": "code",
   "execution_count": 104,
   "metadata": {},
   "outputs": [
    {
     "name": "stdout",
     "output_type": "stream",
     "text": [
      "··▩\n",
      "▩Ⓦ·\n",
      "···\n"
     ]
    }
   ],
   "source": [
    "burst_two(grid, virus)\n",
    "print(grid)"
   ]
  },
  {
   "cell_type": "markdown",
   "metadata": {},
   "source": [
    "The virus carrier is on an infected node, so it still turns right, instead flags the node, and moves up:\n",
    "\n",
    "    . . . . . . . . .\n",
    "    . . . . . . . . .\n",
    "    . . . . . . . . .\n",
    "    . . .[.]. # . . .\n",
    "    . . . F W . . . .\n",
    "    . . . . . . . . .\n",
    "    . . . . . . . . .\n",
    "    . . . . . . . . ."
   ]
  },
  {
   "cell_type": "code",
   "execution_count": 105,
   "metadata": {
    "scrolled": true
   },
   "outputs": [
    {
     "name": "stdout",
     "output_type": "stream",
     "text": [
      "··▩\n",
      "FⓌ·\n",
      "···\n"
     ]
    }
   ],
   "source": [
    "burst_two(grid, virus)\n",
    "print(grid)"
   ]
  },
  {
   "cell_type": "markdown",
   "metadata": {},
   "source": [
    "This process repeats three more times, ending on the previously-flagged node and facing right:\n",
    "\n",
    "    . . . . . . . . .\n",
    "    . . . . . . . . .\n",
    "    . . . . . . . . .\n",
    "    . . W W . # . . .\n",
    "    . . W[F]W . . . .\n",
    "    . . . . . . . . .\n",
    "    . . . . . . . . .\n",
    "    . . . . . . . . ."
   ]
  },
  {
   "cell_type": "code",
   "execution_count": 106,
   "metadata": {},
   "outputs": [
    {
     "name": "stdout",
     "output_type": "stream",
     "text": [
      "WW·▩\n",
      "WFⓌ·\n",
      "····\n"
     ]
    }
   ],
   "source": [
    "for _ in range(3):\n",
    "    burst_two(grid, virus)\n",
    "print(grid)\n"
   ]
  },
  {
   "cell_type": "markdown",
   "metadata": {},
   "source": [
    "Finding a flagged node, it reverses direction and cleans the node:\n",
    "\n",
    "    . . . . . . . . .\n",
    "    . . . . . . . . .\n",
    "    . . . . . . . . .\n",
    "    . . W W . # . . .\n",
    "    . .[W]. W . . . .\n",
    "    . . . . . . . . .\n",
    "    . . . . . . . . .\n",
    "    . . . . . . . . ."
   ]
  },
  {
   "cell_type": "code",
   "execution_count": 107,
   "metadata": {},
   "outputs": [
    {
     "name": "stdout",
     "output_type": "stream",
     "text": [
      "WW·▩\n",
      "W·Ⓦ·\n",
      "····\n"
     ]
    }
   ],
   "source": [
    "burst_two(grid, virus)\n",
    "print(grid)"
   ]
  },
  {
   "cell_type": "markdown",
   "metadata": {},
   "source": [
    "The weakened node becomes infected, and it continues in the same direction:\n",
    "\n",
    "    . . . . . . . . .\n",
    "    . . . . . . . . .\n",
    "    . . . . . . . . .\n",
    "    . . W W . # . . .\n",
    "    .[.]# . W . . . .\n",
    "    . . . . . . . . .\n",
    "    . . . . . . . . .\n",
    "    . . . . . . . . .\n",
    "    "
   ]
  },
  {
   "cell_type": "code",
   "execution_count": 108,
   "metadata": {},
   "outputs": [
    {
     "name": "stdout",
     "output_type": "stream",
     "text": [
      "WW·▩\n",
      "▩·Ⓦ·\n",
      "····\n"
     ]
    }
   ],
   "source": [
    "burst_two(grid, virus)\n",
    "print(grid)"
   ]
  },
  {
   "cell_type": "markdown",
   "metadata": {},
   "source": [
    "Of the first 100 bursts, 26 will result in infection. Unfortunately, another feature of this evolved virus is speed; of the first 10000000 bursts, 2511944 will result in infection."
   ]
  },
  {
   "cell_type": "code",
   "execution_count": 109,
   "metadata": {},
   "outputs": [
    {
     "name": "stdout",
     "output_type": "stream",
     "text": [
      "26\n"
     ]
    }
   ],
   "source": [
    "grid = load_grid_two('input_test.txt')\n",
    "virus = Virus()\n",
    "counter = 0\n",
    "for _ in range(100):\n",
    "    counter += burst_two(grid, virus)\n",
    "print(counter)"
   ]
  },
  {
   "cell_type": "code",
   "execution_count": 110,
   "metadata": {},
   "outputs": [
    {
     "name": "stdout",
     "output_type": "stream",
     "text": [
      "2511944\n"
     ]
    }
   ],
   "source": [
    "grid = load_grid_two('input_test.txt')\n",
    "virus = Virus()\n",
    "counter = 0\n",
    "for _ in range(10000000):\n",
    "    counter += burst_two(grid, virus)\n",
    "print(counter)"
   ]
  },
  {
   "cell_type": "markdown",
   "metadata": {},
   "source": [
    "Given your actual map, **after 10000000 bursts of activity, how many bursts cause a node to become infected?** (Do not count nodes that begin infected.)"
   ]
  },
  {
   "cell_type": "code",
   "execution_count": 111,
   "metadata": {},
   "outputs": [
    {
     "name": "stdout",
     "output_type": "stream",
     "text": [
      "####################################################################################################\n",
      "2511527\n"
     ]
    }
   ],
   "source": [
    "grid = load_grid_two('input.txt')\n",
    "virus = Virus()\n",
    "counter = 0\n",
    "for _ in range(10000000):\n",
    "    if _ % 100000 == 0:\n",
    "        print('#', end='')\n",
    "    counter += burst_two(grid, virus)\n",
    "print()\n",
    "print(counter)"
   ]
  },
  {
   "cell_type": "code",
   "execution_count": null,
   "metadata": {},
   "outputs": [],
   "source": []
  }
 ],
 "metadata": {
  "kernelspec": {
   "display_name": "Python 3",
   "language": "python",
   "name": "python3"
  },
  "language_info": {
   "codemirror_mode": {
    "name": "ipython",
    "version": 3
   },
   "file_extension": ".py",
   "mimetype": "text/x-python",
   "name": "python",
   "nbconvert_exporter": "python",
   "pygments_lexer": "ipython3",
   "version": "3.5.2"
  }
 },
 "nbformat": 4,
 "nbformat_minor": 2
}
