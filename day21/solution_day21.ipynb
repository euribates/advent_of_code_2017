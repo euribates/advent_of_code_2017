{
 "cells": [
  {
   "cell_type": "code",
   "execution_count": 48,
   "metadata": {},
   "outputs": [
    {
     "name": "stdout",
     "output_type": "stream",
     "text": [
      ".#.\n",
      "..#\n",
      "###\n",
      "\n"
     ]
    }
   ],
   "source": [
    "from copy import copy\n",
    "\n",
    "class Cell:\n",
    "    \n",
    "    def __init__(self, pattern='.#./..#/###'):\n",
    "        self.pattern = pattern\n",
    "        rows = self.pattern.split('/')\n",
    "        self.size = len(rows)\n",
    "        self.kernel = [\n",
    "            [1 if _ == '#' else 0 for _ in s]\n",
    "            for s in rows\n",
    "            ]\n",
    "        \n",
    "    def __str__(self):\n",
    "        buff = []\n",
    "        for row in range(self.size):\n",
    "            for col in range(self.size):\n",
    "                if self.kernel[row][col] == 1:\n",
    "                    buff.append('#')\n",
    "                else:\n",
    "                    buff.append('.')\n",
    "            buff.append('\\n')\n",
    "        return ''.join(buff)\n",
    "    \n",
    "def expand(cell, rule=''):\n",
    "    if cell.size == 2:  # Multiplo de dos\n",
    "        new_size = (cell.size // 2) * 3\n",
    "    else:\n",
    "        new_size = (cell.size // 3) * 4\n",
    "    new_pattern = cell.pattern + '.......'\n",
    "    return Cell(new_pattern)\n",
    "        \n",
    "c = Cell()\n",
    "print(c)"
   ]
  },
  {
   "cell_type": "code",
   "execution_count": 49,
   "metadata": {},
   "outputs": [
    {
     "ename": "IndexError",
     "evalue": "list index out of range",
     "output_type": "error",
     "traceback": [
      "\u001b[0;31m---------------------------------------------------------------------------\u001b[0m",
      "\u001b[0;31mIndexError\u001b[0m                                Traceback (most recent call last)",
      "\u001b[0;32m<ipython-input-49-1d639321c732>\u001b[0m in \u001b[0;36m<module>\u001b[0;34m()\u001b[0m\n\u001b[1;32m      1\u001b[0m \u001b[0mc2\u001b[0m \u001b[0;34m=\u001b[0m \u001b[0mexpand\u001b[0m\u001b[0;34m(\u001b[0m\u001b[0mc\u001b[0m\u001b[0;34m)\u001b[0m\u001b[0;34m\u001b[0m\u001b[0m\n\u001b[0;32m----> 2\u001b[0;31m \u001b[0mprint\u001b[0m\u001b[0;34m(\u001b[0m\u001b[0mc\u001b[0m\u001b[0;34m)\u001b[0m\u001b[0;34m\u001b[0m\u001b[0m\n\u001b[0m",
      "\u001b[0;32m<ipython-input-48-a7cf5fec12e0>\u001b[0m in \u001b[0;36m__str__\u001b[0;34m(self)\u001b[0m\n\u001b[1;32m     16\u001b[0m         \u001b[0;32mfor\u001b[0m \u001b[0mrow\u001b[0m \u001b[0;32min\u001b[0m \u001b[0mrange\u001b[0m\u001b[0;34m(\u001b[0m\u001b[0mself\u001b[0m\u001b[0;34m.\u001b[0m\u001b[0msize\u001b[0m\u001b[0;34m)\u001b[0m\u001b[0;34m:\u001b[0m\u001b[0;34m\u001b[0m\u001b[0m\n\u001b[1;32m     17\u001b[0m             \u001b[0;32mfor\u001b[0m \u001b[0mcol\u001b[0m \u001b[0;32min\u001b[0m \u001b[0mrange\u001b[0m\u001b[0;34m(\u001b[0m\u001b[0mself\u001b[0m\u001b[0;34m.\u001b[0m\u001b[0msize\u001b[0m\u001b[0;34m)\u001b[0m\u001b[0;34m:\u001b[0m\u001b[0;34m\u001b[0m\u001b[0m\n\u001b[0;32m---> 18\u001b[0;31m                 \u001b[0;32mif\u001b[0m \u001b[0mself\u001b[0m\u001b[0;34m.\u001b[0m\u001b[0mkernel\u001b[0m\u001b[0;34m[\u001b[0m\u001b[0mrow\u001b[0m\u001b[0;34m]\u001b[0m\u001b[0;34m[\u001b[0m\u001b[0mcol\u001b[0m\u001b[0;34m]\u001b[0m \u001b[0;34m==\u001b[0m \u001b[0;36m1\u001b[0m\u001b[0;34m:\u001b[0m\u001b[0;34m\u001b[0m\u001b[0m\n\u001b[0m\u001b[1;32m     19\u001b[0m                     \u001b[0mbuff\u001b[0m\u001b[0;34m.\u001b[0m\u001b[0mappend\u001b[0m\u001b[0;34m(\u001b[0m\u001b[0;34m'#'\u001b[0m\u001b[0;34m)\u001b[0m\u001b[0;34m\u001b[0m\u001b[0m\n\u001b[1;32m     20\u001b[0m                 \u001b[0;32melse\u001b[0m\u001b[0;34m:\u001b[0m\u001b[0;34m\u001b[0m\u001b[0m\n",
      "\u001b[0;31mIndexError\u001b[0m: list index out of range"
     ]
    }
   ],
   "source": [
    "c2 = expand(c)\n",
    "print(c)"
   ]
  },
  {
   "cell_type": "code",
   "execution_count": 28,
   "metadata": {},
   "outputs": [],
   "source": [
    "class MapOfMaps:\n",
    "    \n",
    "    def __init__(self):\n",
    "        self.size = 3\n",
    "        self.kernel = [\n",
    "            [0,1,0],\n",
    "            [0,0,1],\n",
    "            [1,1,1],\n",
    "            ]\n",
    "        \n",
    "    def __str__(self):\n",
    "        buff = []\n",
    "        for row in range(self.size):\n",
    "            for col in range(self.size):\n",
    "                if self.kernel[row][col] == 1:\n",
    "                    buff.append('#')\n",
    "                else:\n",
    "                    buff.append('.')\n",
    "            buff.append('\\n')\n",
    "        return ''.join(buff)\n",
    "    \n",
    "    def expand(self):\n",
    "        if self.size % 2 == 0:  # Multiplo de dos\n",
    "            self.size = (self.size // 2) * 3\n",
    "        else:\n",
    "            self.size = (self.size // 3) * 4\n",
    "        \n",
    "    "
   ]
  },
  {
   "cell_type": "code",
   "execution_count": 29,
   "metadata": {},
   "outputs": [],
   "source": [
    "mm = MapOfMaps()"
   ]
  },
  {
   "cell_type": "code",
   "execution_count": 30,
   "metadata": {},
   "outputs": [
    {
     "name": "stdout",
     "output_type": "stream",
     "text": [
      ".#.\n",
      "..#\n",
      "###\n",
      "\n"
     ]
    }
   ],
   "source": [
    "print(mm)"
   ]
  },
  {
   "cell_type": "code",
   "execution_count": 31,
   "metadata": {},
   "outputs": [
    {
     "name": "stdout",
     "output_type": "stream",
     "text": [
      "0 3 -> 4\n",
      "1 4 -> 6\n",
      "2 6 -> 9\n",
      "3 9 -> 12\n",
      "4 12 -> 18\n",
      "5 18 -> 27\n",
      "6 27 -> 36\n",
      "7 36 -> 54\n",
      "8 54 -> 81\n",
      "9 81 -> 108\n"
     ]
    }
   ],
   "source": [
    "for i in range(10):\n",
    "    print(i, mm.size, end=' -> ')\n",
    "    mm.expand()\n",
    "    print(mm.size)"
   ]
  },
  {
   "cell_type": "code",
   "execution_count": null,
   "metadata": {},
   "outputs": [],
   "source": []
  }
 ],
 "metadata": {
  "kernelspec": {
   "display_name": "Python 3",
   "language": "python",
   "name": "python3"
  },
  "language_info": {
   "codemirror_mode": {
    "name": "ipython",
    "version": 3
   },
   "file_extension": ".py",
   "mimetype": "text/x-python",
   "name": "python",
   "nbconvert_exporter": "python",
   "pygments_lexer": "ipython3",
   "version": "3.5.2"
  }
 },
 "nbformat": 4,
 "nbformat_minor": 2
}
