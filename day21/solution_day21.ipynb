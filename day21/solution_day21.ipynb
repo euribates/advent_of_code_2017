{
 "cells": [
  {
   "cell_type": "markdown",
   "metadata": {},
   "source": [
    "## Day 21: Fractal Art\n",
    "\n",
    "You find a program trying to generate some art. It uses a strange process that involves repeatedly enhancing the detail of an image through a set of rules.\n",
    "\n",
    "\n",
    "### Part One\n",
    "\n",
    "The image consists of a two-dimensional square grid of pixels that are either on (#) or off (.). The program always begins with this pattern:\n",
    "\n",
    "    .#.\n",
    "    ..#\n",
    "    ###\n",
    "\n",
    "Because the pattern is both 3 pixels wide and 3 pixels tall, it is said to have a size of 3.\n",
    "\n",
    "Then, the program repeats the following process:\n",
    "\n",
    " - If the size is evenly divisible by 2, break the pixels up into 2x2 squares, and convert each 2x2 square into a 3x3 square by following the corresponding enhancement rule.\n",
    " \n",
    " - Otherwise, the size is evenly divisible by 3; break the pixels up into 3x3 squares, and convert each 3x3 square into a 4x4 square by following the corresponding enhancement rule.\n",
    "\n",
    "Because each square of pixels is replaced by a larger one, the image gains pixels and so its size increases.\n",
    "\n"
   ]
  },
  {
   "cell_type": "code",
   "execution_count": 123,
   "metadata": {},
   "outputs": [],
   "source": [
    "# usual imports\n",
    "\n",
    "import math\n",
    "import numpy as np\n",
    "from copy import copy"
   ]
  },
  {
   "cell_type": "markdown",
   "metadata": {},
   "source": [
    "> let's define a cell, and a constructor based on a pattern."
   ]
  },
  {
   "cell_type": "code",
   "execution_count": 124,
   "metadata": {},
   "outputs": [],
   "source": [
    "class Cell:\n",
    "    \n",
    "    def __init__(self, dimension=2, x=0, y=0):\n",
    "        assert dimension in (2, 3, 4)\n",
    "        self.dimension = dimension\n",
    "        size = (dimension, dimension)\n",
    "        self.kernel = np.zeros(size, dtype=int)\n",
    "        self.x = x\n",
    "        self.y = y\n",
    "        \n",
    "    @property\n",
    "    def pattern(self):\n",
    "        buff = []\n",
    "        for row in range(self.dimension):\n",
    "            subuff = [\n",
    "                '#' if self.kernel[row][col] == 1 else '.'\n",
    "                for col in range(self.dimension)\n",
    "                ]\n",
    "            buff.append(''.join(subuff))\n",
    "        return '/'.join(buff)        \n",
    "        \n",
    "    @property\n",
    "    def signature(self):\n",
    "        return ''.join([\n",
    "            '#' if self.kernel[row][col] == 1 else '.'\n",
    "            for row in range(self.dimension) \n",
    "            for col in range(self.dimension)\n",
    "        ])\n",
    "        \n",
    "    @property\n",
    "    def sum(self):\n",
    "        return np.sum(self.kernel)\n",
    "        \n",
    "    def __str__(self):\n",
    "        buff = []\n",
    "        for row in range(self.dimension):\n",
    "            for col in range(self.dimension):\n",
    "                if self.kernel[row][col] == 1:\n",
    "                    buff.append('#')\n",
    "                else:\n",
    "                    buff.append('.')\n",
    "            buff.append('\\n')\n",
    "        buff = buff[0:-1]  # remove last new line\n",
    "        return ''.join(buff)\n",
    "    \n",
    "    def __repr__(self):\n",
    "        return self.signature\n",
    "    \n",
    "    def get(self, x, y):\n",
    "        return self.kernel[y][x]\n",
    "    "
   ]
  },
  {
   "cell_type": "code",
   "execution_count": 125,
   "metadata": {},
   "outputs": [
    {
     "name": "stdout",
     "output_type": "stream",
     "text": [
      "ok\n"
     ]
    }
   ],
   "source": [
    "c = Cell()\n",
    "assert c.x == 0\n",
    "assert c.y == 0\n",
    "assert c.kernel[0][0] == 0\n",
    "assert c.kernel[0][1] == 0\n",
    "assert c.kernel[1][0] == 0\n",
    "assert c.kernel[1][1] == 0\n",
    "assert c.pattern == '../..'\n",
    "assert c.signature == '....'\n",
    "assert c.sum == 0\n",
    "print('ok')"
   ]
  },
  {
   "cell_type": "code",
   "execution_count": 126,
   "metadata": {},
   "outputs": [
    {
     "name": "stdout",
     "output_type": "stream",
     "text": [
      "ok\n"
     ]
    }
   ],
   "source": [
    "def new_cell(pattern='.#./..#/###', x=0, y=0):\n",
    "    l = len(pattern)\n",
    "    assert l in (5, 11, 19)  # include separators\n",
    "    dimension = 2 if l == 5 else 3 if l == 11 else 4\n",
    "    cell = Cell(dimension, x, y)\n",
    "    cell.kernel = np.array([\n",
    "        [1 if _ == '#' else 0 for _ in s]\n",
    "        for s in pattern.split('/')\n",
    "        ])\n",
    "    return cell\n",
    "    \n",
    "# tests\n",
    "        \n",
    "c2 = new_cell('.#/..')\n",
    "assert c2.dimension == 2\n",
    "assert all([\n",
    "    c2.get(0,0) == 0,\n",
    "    c2.get(1,0) == 1,\n",
    "    c2.get(0,1) == 0,\n",
    "    c2.get(1,1) == 0,\n",
    "])\n",
    "assert str(c2) == '.#\\n..'\n",
    "assert c2.pattern == '.#/..'\n",
    "assert c2.signature == '.#..'\n",
    "assert c2.sum == 1\n",
    "\n",
    "c3 = new_cell('.#./..#/###')\n",
    "assert str(c3) == '.#.\\n..#\\n###'\n",
    "assert c3.dimension == 3\n",
    "assert c3.signature == '.#...####'\n",
    "assert c3.sum == 5\n",
    "\n",
    "c4 = new_cell('#.../.##./...#/#.#.')\n",
    "assert c4.dimension == 4\n",
    "assert str(c4) == '#...\\n.##.\\n...#\\n#.#.'\n",
    "assert c4.signature == '#....##....##.#.'\n",
    "assert c4.sum == 6\n",
    "print('ok')"
   ]
  },
  {
   "cell_type": "markdown",
   "metadata": {},
   "source": [
    "The artist's book of enhancement rules is nearby (your puzzle input); however, it seems to be missing rules. The artist explains that sometimes, one must rotate or flip the input pattern to find a match. (Never rotate or flip the output pattern, though.) Each pattern is written concisely: rows are listed as single units, ordered top-down, and separated by slashes. For example, the following rules correspond to the adjacent patterns:\n",
    "\n",
    "    ../.#  =  ..\n",
    "              .#\n",
    "\n",
    "                    .#.\n",
    "    .#./..#/###  =  ..#\n",
    "                    ###\n",
    "\n",
    "                            #..#\n",
    "    #..#/..../#..#/.##.  =  ....\n",
    "                            #..#\n",
    "                            .##.\n",
    "\n",
    "When searching for a rule to use, rotate and flip the pattern as necessary. For example, all of the following patterns match the same rule:\n",
    "\n",
    "    .#.   .#.   #..   ###\n",
    "    ..#   #..   #.#   ..#\n",
    "    ###   ###   ##.   .#.\n"
   ]
  },
  {
   "cell_type": "markdown",
   "metadata": {},
   "source": [
    "> Rules must be tested again rotations and vertical/horizontal flips. Let's write some\n",
    "> helper functions"
   ]
  },
  {
   "cell_type": "code",
   "execution_count": 127,
   "metadata": {},
   "outputs": [
    {
     "name": "stdout",
     "output_type": "stream",
     "text": [
      "ok\n"
     ]
    }
   ],
   "source": [
    "def rot90(s):\n",
    "    l = list(s)\n",
    "    if len(l) == 4:\n",
    "        l0, l1, l2 ,l3 = l\n",
    "        return ''.join([l2, l0, l3, l1])\n",
    "    elif len(l) == 9:\n",
    "        l0, l1, l2 ,l3, l4, l5, l6, l7, l8 = l\n",
    "        return ''.join([l6, l3, l0, l7, l4, l1, l8, l5, l2])\n",
    "        \n",
    "assert rot90('012345678') == '630741852'\n",
    "assert rot90('0123') == '2031'\n",
    "assert rot90('.#...####') == '#..#.###.'\n",
    "print('ok')"
   ]
  },
  {
   "cell_type": "code",
   "execution_count": 104,
   "metadata": {},
   "outputs": [
    {
     "name": "stdout",
     "output_type": "stream",
     "text": [
      "ok\n"
     ]
    }
   ],
   "source": [
    "def rot180(s):\n",
    "    l = list(s)\n",
    "    if len(l) == 4:\n",
    "        l0, l1, l2 ,l3 = l\n",
    "        return ''.join([l3, l2, l1, l0])\n",
    "    elif len(l) == 9:\n",
    "        l0, l1, l2 ,l3, l4, l5, l6, l7, l8 = l\n",
    "        return ''.join([l8, l7, l6, l5, l4, l3, l2, l1, l0])\n",
    "        \n",
    "assert rot180('012345678') == '876543210'\n",
    "assert rot180('0123') == '3210'\n",
    "assert rot180('.#...####') == '####...#.'\n",
    "print('ok')"
   ]
  },
  {
   "cell_type": "code",
   "execution_count": 105,
   "metadata": {},
   "outputs": [
    {
     "name": "stdout",
     "output_type": "stream",
     "text": [
      "ok\n"
     ]
    }
   ],
   "source": [
    "def rot270(s):\n",
    "    l = list(s)\n",
    "    if len(l) == 4:\n",
    "        l0, l1, l2 ,l3 = l\n",
    "        return ''.join([l1, l3, l0, l2])\n",
    "    elif len(l) == 9:\n",
    "        l0, l1, l2 ,l3, l4, l5, l6, l7, l8 = l\n",
    "        return ''.join([l2, l5, l8, l1, l4, l7, l0, l3, l6])\n",
    "        \n",
    "assert rot270('012345678') == '258147036'\n",
    "assert rot270('0123') == '1302'\n",
    "assert rot270('.#...####') == '.###.#..#'\n",
    "print('ok')"
   ]
  },
  {
   "cell_type": "code",
   "execution_count": 106,
   "metadata": {},
   "outputs": [
    {
     "name": "stdout",
     "output_type": "stream",
     "text": [
      "ok\n"
     ]
    }
   ],
   "source": [
    "def hflip(s):\n",
    "    l = list(s)\n",
    "    if len(l) == 4:\n",
    "        l0, l1, l2 ,l3 = l\n",
    "        return ''.join([l2, l3, l0, l1])\n",
    "    elif len(l) == 9:\n",
    "        l0, l1, l2 ,l3, l4, l5, l6, l7, l8 = l\n",
    "        return ''.join([l6, l7, l8, l3, l4, l5, l0, l1, l2])\n",
    "        \n",
    "assert hflip('012345678') == '678345012'\n",
    "assert hflip('0123') == '2301'\n",
    "assert hflip('.#...####') == '###..#.#.'\n",
    "print('ok')"
   ]
  },
  {
   "cell_type": "code",
   "execution_count": 107,
   "metadata": {},
   "outputs": [
    {
     "name": "stdout",
     "output_type": "stream",
     "text": [
      "ok\n"
     ]
    }
   ],
   "source": [
    "def vflip(s):\n",
    "    l = list(s)\n",
    "    if len(l) == 4:\n",
    "        l0, l1, l2 ,l3 = l\n",
    "        return ''.join([l1, l0, l3, l2])\n",
    "    elif len(l) == 9:\n",
    "        l0, l1, l2 ,l3, l4, l5, l6, l7, l8 = l\n",
    "        return ''.join([l2, l1, l0, l5, l4, l3, l8, l7, l6])\n",
    "        \n",
    "assert vflip('012345678') == '210543876'\n",
    "assert vflip('0123') == '1032'\n",
    "assert vflip('.#...####') == '.#.#..###'\n",
    "print('ok')"
   ]
  },
  {
   "cell_type": "markdown",
   "metadata": {},
   "source": [
    "> Now we can write uor Rule Class:"
   ]
  },
  {
   "cell_type": "code",
   "execution_count": 108,
   "metadata": {},
   "outputs": [],
   "source": [
    "class Rule:\n",
    "    \n",
    "    def __init__(self, pattern, production):\n",
    "        assert len(pattern), len(production) in [(5, 11), (11, 19)]  # include separators\n",
    "        self.pattern = pattern\n",
    "        self.dimension = 2 if len(self.pattern) == 5 else 3\n",
    "        self.production = production\n",
    "        \n",
    "    def __str__(self):\n",
    "        return '{} => {}'.format(self.pattern, self.production)\n",
    "        \n",
    "    def __repr__(self):\n",
    "        return 'Rule(\"{}\", \"{}\")'.format(self.pattern, self.production)\n",
    "        \n",
    "    def __eq__(self, o):\n",
    "        return self.pattern, self.production == o.pattern, o.production\n",
    "        \n",
    "    @property\n",
    "    def signature(self):\n",
    "        return self.pattern.replace('/', '')\n",
    "    \n",
    "    def match(self, cell, tron=False):\n",
    "        if self.dimension != cell.dimension:\n",
    "            return False\n",
    "        source = self.signature\n",
    "        target = cell.signature\n",
    "        if tron:\n",
    "            print('- rot90', rot90(source), target, rot90(source) == target)\n",
    "            print('- rot180', rot180(source), target, rot180(source) == target)\n",
    "            print('- rot270', rot270(source), target, rot270(source) == target)\n",
    "            print('- hflip', hflip(source), target, hflip(source) == target)\n",
    "            print('- vflip', vflip(source), target, vflip(source) == target)\n",
    "            # Compose vflip and rots\n",
    "            print('- vflip ∘ rot90:', vflip(rot90(source)), target, vflip(rot90(source)) == target)\n",
    "            print('- vflip ∘ rot180:', vflip(rot180(source)), target, vflip(rot180(source)) == target)\n",
    "            print('- vflip ∘ rot270:', vflip(rot270(source)), target, vflip(rot270(source)) == target)\n",
    "            # Compose hflip and rots\n",
    "            print('- hflip ∘ rot90:', hflip(rot90(source)), target, hflip(rot90(source)) == target)\n",
    "            print('- hflip ∘ rot180:', hflip(rot180(source)), target, hflip(rot180(source)) == target)\n",
    "            print('- hflip ∘ rot270:', hflip(rot270(source)), target, hflip(rot270(source)) == target)\n",
    "            \n",
    "        return any([\n",
    "            source == target,\n",
    "            rot90(source) == target,\n",
    "            rot180(source) == target,\n",
    "            rot270(source) == target,\n",
    "            hflip(source) == target,\n",
    "            vflip(source) == target,\n",
    "            vflip(rot90(source)) == target,\n",
    "            vflip(rot180(source)) == target,\n",
    "            vflip(rot270(source)) == target,\n",
    "            hflip(rot90(source)) == target,\n",
    "            hflip(rot180(source)) == target,\n",
    "            hflip(rot270(source)) == target, \n",
    "        ])\n",
    "    \n",
    "    def apply(self, cell):\n",
    "        return new_cell(self.production)\n",
    "        "
   ]
  },
  {
   "cell_type": "code",
   "execution_count": 109,
   "metadata": {},
   "outputs": [
    {
     "name": "stdout",
     "output_type": "stream",
     "text": [
      "ok\n"
     ]
    }
   ],
   "source": [
    "r3 = Rule('#./.#', '##./##./.##')\n",
    "assert r3.match(new_cell('.#/#.')) == True\n",
    "r4 = Rule('##/..', '##./##./.##')\n",
    "assert r4.match(new_cell('.#/.#')) == True\n",
    "print('ok')"
   ]
  },
  {
   "cell_type": "code",
   "execution_count": 110,
   "metadata": {},
   "outputs": [
    {
     "name": "stdout",
     "output_type": "stream",
     "text": [
      "ok\n"
     ]
    }
   ],
   "source": [
    "r1 = Rule('../..', '##./##./.##')\n",
    "assert r1.match(new_cell('../..')) == True\n",
    "assert r1.match(new_cell('../.#')) == False\n",
    "print('ok')"
   ]
  },
  {
   "cell_type": "code",
   "execution_count": 111,
   "metadata": {},
   "outputs": [
    {
     "name": "stdout",
     "output_type": "stream",
     "text": [
      "ok\n"
     ]
    }
   ],
   "source": [
    "def load_rules(filename):\n",
    "    rules = []\n",
    "    with open(filename, 'r') as f:\n",
    "        lines = [l.strip() for l in f.readlines()]\n",
    "    for line in lines:\n",
    "        pattern, production = line.split(' => ')\n",
    "        rules.append(Rule(pattern, production))\n",
    "    return rules\n",
    "        \n",
    "rules = load_rules('input.txt')\n",
    "assert rules[0] == Rule(\"../..\", \"##./##./.##\")\n",
    "assert rules[1] == Rule(\"#./..\", \".../.#./##.\")\n",
    "assert rules[3] == Rule(\"##/..\", \".../.##/#.#\")\n",
    "...\n",
    "assert rules[-3] == Rule(\"###/###/#.#\", \".#../.#.#/.###/.#.#\")\n",
    "assert rules[-2] == Rule(\"###/#.#/###\", \"##../####/###./...#\")\n",
    "assert rules[-1] == Rule(\"###/###/###\", \"###./#..#/##../.##.\")\n",
    "print('ok')"
   ]
  },
  {
   "cell_type": "code",
   "execution_count": 112,
   "metadata": {
    "scrolled": false
   },
   "outputs": [
    {
     "name": "stdout",
     "output_type": "stream",
     "text": [
      "- rot90 ......... ......... True\n",
      "- rot180 ......... ......... True\n",
      "- rot270 ......... ......... True\n",
      "- hflip ......... ......... True\n",
      "- vflip ......... ......... True\n",
      "- vflip ∘ rot90: ......... ......... True\n",
      "- vflip ∘ rot180: ......... ......... True\n",
      "- vflip ∘ rot270: ......... ......... True\n",
      "- hflip ∘ rot90: ......... ......... True\n",
      "- hflip ∘ rot180: ......... ......... True\n",
      "- hflip ∘ rot270: ......... ......... True\n",
      "ok\n"
     ]
    }
   ],
   "source": [
    "rules = load_rules('input.txt')\n",
    "r = Rule('.../.#./...', '#.../.##./...#/#...')\n",
    "assert r.match(new_cell('.../.#./...'))\n",
    "r6 = rules[6]\n",
    "assert r == rules[6]\n",
    "assert r6.match(new_cell('.../.../...'), tron=True)\n",
    "print('ok')"
   ]
  },
  {
   "cell_type": "markdown",
   "metadata": {},
   "source": [
    "> And finally our workhorse class, MapofMaps. This will evolve using the rules to bigger sizes, eventualy being reduced when possible."
   ]
  },
  {
   "cell_type": "code",
   "execution_count": 113,
   "metadata": {},
   "outputs": [],
   "source": [
    "class MapOfMaps:\n",
    "    \n",
    "    def __init__(self, *cells):\n",
    "        num_cells = len(cells)\n",
    "        self.size = int(math.sqrt(num_cells))\n",
    "        assert num_cells == self.size ** 2\n",
    "        self.kernel = np.reshape(np.array(cells), (self.size, self.size))\n",
    "        for x in range(0, self.size):\n",
    "            for y in range(0, self.size):\n",
    "                c = self.kernel[y][x]\n",
    "                c.x = x\n",
    "                c.y = y\n",
    "        self.dimension = self.kernel[0][0].dimension\n",
    "        assert self.dimension in (2,3,4), 'Incorrect dimension {}'.format(self.size)\n",
    "        \n",
    "    def get(self, x, y, tron=False):\n",
    "        if tron:\n",
    "            print('size: ', self.size)\n",
    "            print('dimension: ', self.dimension)\n",
    "            print('x:', x, 'y:', y)\n",
    "        col = x // self.dimension\n",
    "        row = y // self.dimension\n",
    "        if tron:\n",
    "            print('col:', col)\n",
    "            print('row:', row)\n",
    "        cell = self.kernel[row][col]\n",
    "        if tron:\n",
    "            print('cell:', cell)\n",
    "        offset_x = x % self.dimension\n",
    "        offset_y = y % self.dimension\n",
    "        if tron:\n",
    "            print('offset_x:', offset_x)\n",
    "            print('offset_y:', offset_y)       \n",
    "        return cell.get(offset_x, offset_y)\n",
    "        \n",
    "    def __str__(self):\n",
    "        buff = []\n",
    "        for y in range(self.size * self.dimension):\n",
    "            if y > 0 and (y % self.dimension) == 0:\n",
    "                buff.append('-'*(self.dimension*self.size) + '-'*(self.size-1)+ '\\n')   \n",
    "            for x in range(self.size * self.dimension):\n",
    "                if x > 0 and (x % self.dimension) == 0:\n",
    "                    buff.append('|')\n",
    "                buff.append('#' if self.get(x, y) == 1 else '.')\n",
    "            buff.append('\\n')\n",
    "        return ''.join(buff)\n",
    "    \n",
    "    def get_subcell(self, x, y):\n",
    "        subcell = Cell(dimension=2, x=x//2, y=y//2)\n",
    "        subcell.kernel[0][0] = self.get(x,y)\n",
    "        subcell.kernel[0][1] = self.get(x+1,y)\n",
    "        subcell.kernel[1][0] = self.get(x,y+1)\n",
    "        subcell.kernel[1][1] = self.get(x+1,y+1)\n",
    "        return subcell\n",
    "        \n",
    "    def check(self):\n",
    "        for c in self:\n",
    "            assert c.dimension == self.dimension\n",
    "        \n",
    "    def reduce(self, tron=False):\n",
    "        if ((self.size * self.dimension) % 2 == 0) and (self.dimension > 2):\n",
    "            if tron:\n",
    "                print('We can reduce!')\n",
    "                print('- self.size [{}] * self.dimension[{}] == {} is even'.format(\n",
    "                    self.size,\n",
    "                    self.dimension,\n",
    "                    self.size*self.dimension,\n",
    "                    ))\n",
    "                print('- and self.dimmension [{}] > 2'.format(self.dimension))\n",
    "            rows = []\n",
    "            for y in range(0, self.size * self.dimension, 2):\n",
    "                cols = []\n",
    "                for x in range(0, self.size * self.dimension, 2):\n",
    "                    if tron:\n",
    "                        print('Try to get subcell ar x[{}], y[{}]'.format(\n",
    "                            x, y))\n",
    "                    cell = self.get_subcell(x, y)\n",
    "                    assert cell.dimension == 2\n",
    "                    cols.append(cell)\n",
    "                rows.append(cols)\n",
    "            self.size = self.size * self.dimension // 2\n",
    "            self.dimension = 2\n",
    "            self.kernel = np.array(rows)\n",
    "            return True\n",
    "        return False\n",
    "            \n",
    "    def __iter__(self):\n",
    "        return (self.kernel[r][c] for r in range(self.size) for c in range(self.size))\n",
    "        \n",
    "    "
   ]
  },
  {
   "cell_type": "code",
   "execution_count": 114,
   "metadata": {},
   "outputs": [
    {
     "name": "stdout",
     "output_type": "stream",
     "text": [
      "ok\n"
     ]
    }
   ],
   "source": [
    "mm = MapOfMaps(\n",
    "    new_cell('.#./.#./.#.'),\n",
    "    new_cell('###/.#./###'),\n",
    "    new_cell('###/..#/###'),\n",
    "    new_cell('#.#/#.#/###'),\n",
    "    )\n",
    "\n",
    "assert mm.size == 2\n",
    "assert mm.dimension == 3\n",
    "mm.reduce()\n",
    "assert mm.size == 3\n",
    "assert mm.dimension == 2\n",
    "print('ok')"
   ]
  },
  {
   "cell_type": "code",
   "execution_count": 115,
   "metadata": {},
   "outputs": [
    {
     "name": "stdout",
     "output_type": "stream",
     "text": [
      "ok\n"
     ]
    }
   ],
   "source": [
    "mm = MapOfMaps(\n",
    "    new_cell('.#./.#./.#.'),\n",
    "    new_cell('###/.#./###'),\n",
    "    new_cell('###/..#/###'),\n",
    "    new_cell('#.#/#.#/###'),\n",
    "    )\n",
    "\n",
    "assert mm.size == 2\n",
    "assert mm.dimension == 3\n",
    "c00 = mm.kernel[0][0]\n",
    "assert (c00.x, c00.y) == (0, 0), '{}, {} must be equal to 0,0'.format(c00.x, c00.y)\n",
    "c01 = mm.kernel[0][1]\n",
    "assert (c01.x, c01.y) == (1, 0), '{}, {} must be equal to 1,0'.format(c01.x, c01.y)\n",
    "c10= mm.kernel[1][0]\n",
    "assert (c10.x, c10.y) == (0, 1), '{}, {} must be equal to 0,0'.format(c10.x, c10.y)\n",
    "c11 = mm.kernel[1][1]\n",
    "assert (c11.x, c11.y) == (1, 1), '{}, {} must be equal to 0,0'.format(c11.x, c11.y)\n",
    "\n",
    "mm.reduce()\n",
    "assert mm.size == 3\n",
    "assert mm.dimension == 2\n",
    "print('ok')"
   ]
  },
  {
   "cell_type": "code",
   "execution_count": 116,
   "metadata": {},
   "outputs": [
    {
     "name": "stdout",
     "output_type": "stream",
     "text": [
      "ok\n"
     ]
    }
   ],
   "source": [
    "mm = MapOfMaps(\n",
    "    new_cell('.#./.../#..'), new_cell('###/.#./###'), new_cell('###/..#/###'),\n",
    "    new_cell('#.#/#.#/###'), new_cell('..#/.##/.#.'), new_cell('..#/.#./..#'),\n",
    "    new_cell('.#./.#./...'), new_cell('##./#../#.#'), new_cell('##./#../#.#'),\n",
    ")\n",
    "\n",
    "assert mm.size == 3\n",
    "assert mm.dimension == 3\n",
    "assert mm.reduce() == False\n",
    "assert mm.size == 3\n",
    "assert mm.dimension == 3\n",
    "print('ok')"
   ]
  },
  {
   "cell_type": "code",
   "execution_count": 117,
   "metadata": {},
   "outputs": [
    {
     "name": "stdout",
     "output_type": "stream",
     "text": [
      ".#.\n",
      "..#\n",
      "###\n",
      "\n",
      ".#...####\n"
     ]
    }
   ],
   "source": [
    "mm = MapOfMaps(new_cell('.#./..#/###'))\n",
    "assert mm.size == 1\n",
    "assert mm.dimension == 3\n",
    "assert mm.reduce() == False\n",
    "print(mm)\n",
    "print(mm.kernel[0][0].signature)"
   ]
  },
  {
   "cell_type": "code",
   "execution_count": 118,
   "metadata": {},
   "outputs": [
    {
     "name": "stdout",
     "output_type": "stream",
     "text": [
      "..#.\n",
      "..#.\n",
      "##.#\n",
      "##..\n",
      "\n",
      "We can reduce!\n",
      "- self.size [1] * self.dimension[4] == 4 is even\n",
      "- and self.dimmension [4] > 2\n",
      "Try to get subcell ar x[0], y[0]\n",
      "Try to get subcell ar x[2], y[0]\n",
      "Try to get subcell ar x[0], y[2]\n",
      "Try to get subcell ar x[2], y[2]\n",
      "..|#.\n",
      "..|#.\n",
      "-----\n",
      "##|.#\n",
      "##|..\n",
      "\n"
     ]
    }
   ],
   "source": [
    "mm = MapOfMaps(new_cell('.#./..#/###'))\n",
    "r2 = Rule('.#./..#/###','..#./..#./##.#/##..')\n",
    "for c in mm:\n",
    "    if r2.match(c):\n",
    "        mm.kernel[c.y][c.x] = r2.apply(c)\n",
    "mm.dimension += 1\n",
    "print(mm)\n",
    "assert mm.dimension == 4\n",
    "assert mm.size == 1\n",
    "\n",
    "assert mm.reduce(tron=True) == True\n",
    "assert mm.dimension == 2\n",
    "assert mm.size == 2\n",
    "print(mm)"
   ]
  },
  {
   "cell_type": "code",
   "execution_count": null,
   "metadata": {},
   "outputs": [],
   "source": [
    "def expand(mom, rules, try_reduce=True, tron=False):\n",
    "    mom.check()\n",
    "    if tron:\n",
    "        print(mom)\n",
    "    for c in mom:\n",
    "        if tron:\n",
    "            print('Checking cell', c, end=' --> ')\n",
    "        for rule in rules:\n",
    "            if rule.match(c):\n",
    "                break\n",
    "        else:\n",
    "            raise ValueError(\"con't find a rule to apply\")\n",
    "                \n",
    "        if tron:\n",
    "            print('- rule {} match cell {},{}'.format(rule, c.x, c.y))\n",
    "        new_cell = rule.apply(c)\n",
    "        new_cell.x = c.x\n",
    "        new_cell.y = c.y\n",
    "        mom.kernel[c.y][c.x] = new_cell\n",
    "    print('Dimension goes from {}'.format(mm.dimension), end=' -> ')\n",
    "    mom.dimension += 1\n",
    "    print('to {}'.format(mm.dimension))\n",
    "    if try_reduce:\n",
    "        flag = mom.reduce(tron)\n",
    "        if tron:\n",
    "            if flag:\n",
    "                print('dimension now is {}'.format(mm.dimension))\n",
    "            else:\n",
    "                print(\"can't reduce\")\n",
    "    return mom\n",
    "\n",
    "# tests"
   ]
  },
  {
   "cell_type": "markdown",
   "metadata": {},
   "source": [
    "Suppose the book contained the following two rules:\n",
    "\n",
    "    ../.# => ##./#../...\n",
    "    .#./..#/### => #..#/..../..../#..#\n",
    "\n",
    "As before, the program begins with this pattern:\n",
    "\n",
    "    .#.\n",
    "    ..#\n",
    "    ###\n",
    "\n",
    "The size of the grid (3) is not divisible by 2, but it is divisible by 3. It divides evenly into a single square; the square matches the second rule, which produces:\n",
    "\n",
    "    #..#\n",
    "    ....\n",
    "    ....\n",
    "    #..#\n",
    "\n",
    "The size of this enhanced grid (4) is evenly divisible by 2, so that rule is used. It divides evenly into four squares:\n",
    "\n",
    "    #.|.#\n",
    "    ..|..\n",
    "    --+--\n",
    "    ..|..\n",
    "    #.|.#\n",
    "\n",
    "Each of these squares matches the same rule (../.# => ##./#../...), three of which require some flipping and rotation to line up with the rule. The output for the rule is the same in all four cases:\n",
    "\n",
    "    ##.|##.\n",
    "    #..|#..\n",
    "    ...|...\n",
    "    ---+---\n",
    "    ##.|##.\n",
    "    #..|#..\n",
    "    ...|...\n",
    "\n",
    "Finally, the squares are joined into a new grid:\n",
    "\n",
    "    ##.##.\n",
    "    #..#..\n",
    "    ......\n",
    "    ##.##.\n",
    "    #..#..\n",
    "    ......\n",
    "\n",
    "Thus, after 2 iterations, the grid contains 12 pixels that are on."
   ]
  },
  {
   "cell_type": "code",
   "execution_count": 130,
   "metadata": {},
   "outputs": [
    {
     "name": "stdout",
     "output_type": "stream",
     "text": [
      "Estado inicial:\n",
      ".#.\n",
      "..#\n",
      "###\n",
      "\n",
      "Primera expansion\n",
      "Dimension goes from 3 -> to 4\n",
      "#.|.#\n",
      "..|..\n",
      "-----\n",
      "..|..\n",
      "#.|.#\n",
      "\n",
      "Segunda expansion\n",
      "Dimension goes from 2 -> to 3\n",
      "##|.#|#.\n",
      "#.|.#|..\n",
      "--------\n",
      "..|..|..\n",
      "##|.#|#.\n",
      "--------\n",
      "#.|.#|..\n",
      "..|..|..\n",
      "\n",
      "Num of active cells: 12\n"
     ]
    }
   ],
   "source": [
    "rules = load_rules('input_test.txt')\n",
    "mm = MapOfMaps(new_cell('.#./..#/###'))\n",
    "\n",
    "print('Estado inicial:')\n",
    "print(mm)\n",
    "assert mm.size == 1\n",
    "assert mm.dimension == 3\n",
    "\n",
    "print('Primera expansion')\n",
    "mm = expand(mm, rules)\n",
    "print(mm)\n",
    "assert mm.size == 2\n",
    "assert mm.dimension == 2\n",
    "\n",
    "print('Segunda expansion')\n",
    "mm = expand(mm, rules)\n",
    "print(mm)\n",
    "assert mm.size == 3\n",
    "assert mm.dimension == 2\n",
    "\n",
    "print('Num of active cells:', sum(c.sum for c in mm))"
   ]
  },
  {
   "cell_type": "code",
   "execution_count": 131,
   "metadata": {},
   "outputs": [
    {
     "name": "stdout",
     "output_type": "stream",
     "text": [
      ".#.\n",
      "..#\n",
      "###\n",
      "\n",
      "Expand phase 1\n",
      "Dimension goes from 3 -> to 4\n",
      "Expand phase 2\n",
      "Dimension goes from 2 -> to 3\n",
      "Expand phase 3\n",
      "Dimension goes from 2 -> to 3\n",
      "Final map\n",
      "...|.##|...\n",
      ".#.|#.#|.#.\n",
      "##.|#..|##.\n",
      "-----------\n",
      "...|.##|...\n",
      ".#.|#.#|.#.\n",
      "##.|#..|##.\n",
      "-----------\n",
      ".##|...|##.\n",
      "#.#|.##|##.\n",
      "#..|#.#|.##\n",
      "\n",
      "Expand phase 4\n",
      "Dimension goes from 3 -> to 4\n",
      "Expand phase 5\n",
      "Dimension goes from 2 -> to 3\n",
      "□▣▣▣▣□□□□□□□□▣▣▣▣□\n",
      "▣□▣▣□□□▣□□▣▣▣□▣▣□□\n",
      "▣□□▣□□▣▣□▣□▣▣□□▣□□\n",
      "□□□□□□□▣▣□□□□□□□□□\n",
      "□▣□□▣▣▣□▣□▣□□▣□□▣▣\n",
      "▣▣□▣□▣▣□□▣▣□▣▣□▣□▣\n",
      "□▣▣▣▣□□□□□□□□▣▣▣▣□\n",
      "▣□▣▣□□□▣□□▣▣▣□▣▣□□\n",
      "▣□□▣□□▣▣□▣□▣▣□□▣□□\n",
      "□□□□□□□▣▣□□□□□□□□□\n",
      "□▣□□▣▣▣□▣□▣□□▣□□▣▣\n",
      "▣▣□▣□▣▣□□▣▣□▣▣□▣□▣\n",
      "□□□□□□□□▣□□□▣▣□□□▣\n",
      "□▣□□▣▣□▣□□▣▣▣□□□▣□\n",
      "▣▣□▣□▣□▣▣▣□▣▣□□□▣▣\n",
      "□▣▣□□□▣▣□□□▣▣▣□□▣▣\n",
      "▣□▣□▣□▣▣□□▣□▣□□▣□▣\n",
      "▣□□▣▣□□▣▣□▣▣▣□□▣□□\n"
     ]
    }
   ],
   "source": [
    "# The real thing\n",
    "\n",
    "rules = load_rules('input.txt')\n",
    "mm = MapOfMaps(new_cell('.#./..#/###'))\n",
    "\n",
    "print(mm)\n",
    "assert mm.size == 1\n",
    "assert mm.dimension == 3\n",
    "for i in range(3):\n",
    "    print('Expand phase {}'.format(i+1))\n",
    "    mm = expand(mm, rules)\n",
    "print('Final map')\n",
    "print(mm)\n",
    "\n",
    "print('Expand phase 4')\n",
    "assert mm.size == 3\n",
    "assert mm.dimension == 3\n",
    "mm = expand(mm, rules)\n",
    "assert mm.size == 6\n",
    "assert mm.dimension == 2\n",
    "\n",
    "print('Expand phase 5')\n",
    "assert mm.size == 6\n",
    "assert mm.dimension == 2\n",
    "mm = expand(mm, rules)\n",
    "assert mm.size == 9\n",
    "assert mm.dimension == 2\n",
    "\n",
    "def  show_map(mm):\n",
    "    for y in range(mm.size*mm.dimension):\n",
    "        for x in range(mm.size*mm.dimension):\n",
    "            try:\n",
    "                v = mm.get(x, y)\n",
    "                print('□' if v == 0 else '▣', end='')\n",
    "            except IndexError:\n",
    "                print('☠', end='')\n",
    "        print()\n",
    "        \n",
    "show_map(mm)"
   ]
  },
  {
   "cell_type": "markdown",
   "metadata": {},
   "source": [
    "**How many pixels stay on after 5 iterations?**"
   ]
  },
  {
   "cell_type": "code",
   "execution_count": 132,
   "metadata": {},
   "outputs": [
    {
     "name": "stdout",
     "output_type": "stream",
     "text": [
      "Part one: 144\n"
     ]
    }
   ],
   "source": [
    "print('Part one:', sum(c.sum for c in mm))"
   ]
  },
  {
   "cell_type": "markdown",
   "metadata": {},
   "source": [
    "### Part Two\n",
    "\n",
    "**How many pixels stay on after 18 iterations?**"
   ]
  },
  {
   "cell_type": "code",
   "execution_count": 133,
   "metadata": {},
   "outputs": [
    {
     "name": "stdout",
     "output_type": "stream",
     "text": [
      "Dimension goes from 3 -> to 4\n",
      "Dimension goes from 2 -> to 3\n",
      "Dimension goes from 2 -> to 3\n",
      "Dimension goes from 3 -> to 4\n",
      "Dimension goes from 2 -> to 3\n",
      "Dimension goes from 2 -> to 3\n",
      "Dimension goes from 3 -> to 4\n",
      "Dimension goes from 2 -> to 3\n",
      "Dimension goes from 2 -> to 3\n",
      "Dimension goes from 3 -> to 4\n",
      "Dimension goes from 2 -> to 3\n",
      "Dimension goes from 2 -> to 3\n",
      "Dimension goes from 3 -> to 4\n",
      "Dimension goes from 2 -> to 3\n",
      "Dimension goes from 2 -> to 3\n",
      "Dimension goes from 3 -> to 4\n",
      "Dimension goes from 2 -> to 3\n",
      "Dimension goes from 2 -> to 3\n",
      "Part two: 2169301\n"
     ]
    }
   ],
   "source": [
    "rules = load_rules('input.txt')\n",
    "mm = MapOfMaps(new_cell('.#./..#/###'))\n",
    "for _ in range(18):\n",
    "    mm = expand(mm, rules)\n",
    "print('Part two:', sum(c.sum for c in mm))"
   ]
  },
  {
   "cell_type": "code",
   "execution_count": null,
   "metadata": {},
   "outputs": [],
   "source": []
  }
 ],
 "metadata": {
  "kernelspec": {
   "display_name": "Python 3",
   "language": "python",
   "name": "python3"
  },
  "language_info": {
   "codemirror_mode": {
    "name": "ipython",
    "version": 3
   },
   "file_extension": ".py",
   "mimetype": "text/x-python",
   "name": "python",
   "nbconvert_exporter": "python",
   "pygments_lexer": "ipython3",
   "version": "3.5.2"
  }
 },
 "nbformat": 4,
 "nbformat_minor": 2
}
