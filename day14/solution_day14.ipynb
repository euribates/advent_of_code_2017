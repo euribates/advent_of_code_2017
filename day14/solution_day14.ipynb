{
 "cells": [
  {
   "cell_type": "markdown",
   "metadata": {
    "toc": true
   },
   "source": [
    "<h1>Table of Contents<span class=\"tocSkip\"></span></h1>\n",
    "<div class=\"toc\"><ul class=\"toc-item\"><li><span><a href=\"#Day-14-:-Disk-defragmentation\" data-toc-modified-id=\"Day-14-:-Disk-defragmentation-1\"><span class=\"toc-item-num\">1&nbsp;&nbsp;</span>Day 14 : Disk defragmentation</a></span><ul class=\"toc-item\"><li><span><a href=\"#Part-One\" data-toc-modified-id=\"Part-One-1.1\"><span class=\"toc-item-num\">1.1&nbsp;&nbsp;</span>Part One</a></span></li><li><span><a href=\"#Part-Two:\" data-toc-modified-id=\"Part-Two:-1.2\"><span class=\"toc-item-num\">1.2&nbsp;&nbsp;</span>Part Two:</a></span></li></ul></li></ul></div>"
   ]
  },
  {
   "cell_type": "markdown",
   "metadata": {},
   "source": [
    "## Day 14 : Disk defragmentation"
   ]
  },
  {
   "cell_type": "markdown",
   "metadata": {},
   "source": [
    "A few imports..."
   ]
  },
  {
   "cell_type": "code",
   "execution_count": 1,
   "metadata": {},
   "outputs": [],
   "source": [
    "from knothash import hash_as_hexa\n",
    "import numpy as np\n",
    "import PIL\n",
    "from PIL import Image, ImageDraw\n",
    "from queue import Queue\n",
    "from IPython import display\n",
    "import random"
   ]
  },
  {
   "cell_type": "markdown",
   "metadata": {},
   "source": [
    "### Part One"
   ]
  },
  {
   "cell_type": "code",
   "execution_count": 2,
   "metadata": {},
   "outputs": [],
   "source": [
    "assert hash_as_hexa('AoC 2017') == '33efeb34ea91902bb2f59c9920caa6cd'"
   ]
  },
  {
   "cell_type": "code",
   "execution_count": 3,
   "metadata": {},
   "outputs": [],
   "source": [
    "def hash_to_bin_array(h):\n",
    "    b = int(h, 16)\n",
    "    s = bin(b)[2:]  # remove the binary prefix\n",
    "    if len(s) < 128:\n",
    "        s = '0' * (128-len(s)) + s\n",
    "    return np.array([\n",
    "        int(c) for c in s\n",
    "        ])\n",
    "    "
   ]
  },
  {
   "cell_type": "code",
   "execution_count": 4,
   "metadata": {},
   "outputs": [
    {
     "name": "stdout",
     "output_type": "stream",
     "text": [
      "[[1 1 0 ..., 1 1 0]\n",
      " [0 1 0 ..., 1 0 0]\n",
      " [0 0 0 ..., 0 0 1]\n",
      " ..., \n",
      " [1 1 1 ..., 1 0 0]\n",
      " [1 1 0 ..., 1 0 1]\n",
      " [0 0 1 ..., 1 1 0]]\n"
     ]
    }
   ],
   "source": [
    "def get_rows(key):\n",
    "    result = []\n",
    "    for i in range(128):\n",
    "        k = '{}-{}'.format(key, i)\n",
    "        h = hash_as_hexa(k) \n",
    "        result.append(hash_to_bin_array(h))\n",
    "    return np.array(result)\n",
    "\n",
    "rows = get_rows('flqrgnkx')\n",
    "print(rows)"
   ]
  },
  {
   "cell_type": "code",
   "execution_count": 5,
   "metadata": {},
   "outputs": [
    {
     "name": "stdout",
     "output_type": "stream",
     "text": [
      "##.#.#..####\n",
      ".#.#.#.####.\n",
      "....#.#.##.#\n",
      "#.#.##.#..##\n",
      ".##.#.....#.\n",
      "##..#..#####\n",
      ".#...#..##..\n",
      "##.#.##..###\n",
      "####.######.\n",
      "##.#.####...\n",
      "...#....#.##\n",
      ".###########\n",
      "\n"
     ]
    }
   ],
   "source": [
    "def show_memory(mm):\n",
    "    rows, cols = mm.shape\n",
    "    buff = []\n",
    "    for row in range(rows):\n",
    "        for col in range(cols):\n",
    "            buff.append('.' if mm[row][col] == 0 else '#')\n",
    "        buff.append('\\n')\n",
    "    return ''.join(buff)\n",
    "\n",
    "print(show_memory(rows[0:12,0:12]))"
   ]
  },
  {
   "cell_type": "code",
   "execution_count": 6,
   "metadata": {},
   "outputs": [
    {
     "name": "stdout",
     "output_type": "stream",
     "text": [
      "Part one: 8204\n"
     ]
    }
   ],
   "source": [
    "rows = get_rows('xlqgujun')\n",
    "print('Part one:', sum(sum(rows)))"
   ]
  },
  {
   "cell_type": "markdown",
   "metadata": {},
   "source": [
    "### Part Two:"
   ]
  },
  {
   "cell_type": "code",
   "execution_count": 7,
   "metadata": {},
   "outputs": [],
   "source": [
    "def draw_map(m):\n",
    "    rows, cols = m.shape\n",
    "    size = (cols*6+1, rows*6+1)\n",
    "    im = Image.new('RGB', size, color='#336699')\n",
    "    draw = ImageDraw.Draw(im)\n",
    "    for row, data in enumerate(m):\n",
    "        for col, bit in enumerate(data):\n",
    "            x = col * 6 + 1\n",
    "            y = row * 6 + 1\n",
    "            rect = (x, y, x+4, y+4)\n",
    "            if bit == 1:\n",
    "                draw.rectangle(rect, fill='red')\n",
    "            elif bit == 0:\n",
    "                draw.rectangle(rect, fill='#6699cc')\n",
    "            else:\n",
    "                draw.rectangle(rect, fill='green')\n",
    "    del draw\n",
    "    return im"
   ]
  },
  {
   "cell_type": "code",
   "execution_count": 8,
   "metadata": {},
   "outputs": [
    {
     "data": {
      "image/png": "[encoded data removed]",
      "text/plain": [
       "<PIL.Image.Image image mode=RGB size=25x31 at 0x7F20D008EC18>"
      ]
     },
     "execution_count": 8,
     "metadata": {},
     "output_type": "execute_result"
    }
   ],
   "source": [
    "test_map = np.array([\n",
    "    [1, 1, 0, 1],\n",
    "    [1, 0, 0, 0],\n",
    "    [0, 0, 1, 0],\n",
    "    [0, 0, 1, 0],\n",
    "    [1, 1, 1, 0],\n",
    "])\n",
    "\n",
    "draw_map(test_map)"
   ]
  },
  {
   "cell_type": "code",
   "execution_count": 9,
   "metadata": {},
   "outputs": [
    {
     "data": {
      "image/png": "[encoded data removed]",
      "text/plain": [
       "<PIL.Image.Image image mode=RGB size=769x769 at 0x7F20D008E240>"
      ]
     },
     "execution_count": 9,
     "metadata": {},
     "output_type": "execute_result"
    }
   ],
   "source": [
    "draw_map(rows)"
   ]
  },
  {
   "cell_type": "code",
   "execution_count": 10,
   "metadata": {},
   "outputs": [],
   "source": [
    "def filter_sector(rows, row, col):\n",
    "    max_rows, max_cols = rows.shape\n",
    "    if all([ 0 <= row < max_rows, 0 <= col < max_cols]):\n",
    "        return (row, col)\n",
    "    else:\n",
    "        return None\n",
    "    \n",
    "\n",
    "def adjacents(rows, row, col):\n",
    "    all = [\n",
    "        filter_sector(rows, row,   col-1),\n",
    "        filter_sector(rows, row-1, col),\n",
    "        filter_sector(rows, row+1, col),\n",
    "        filter_sector(rows, row,   col+1),\n",
    "        ]\n",
    "    return set([v for v in all if v is not None])\n",
    "\n",
    "\n",
    "def get_values(rows, list_of_coords):\n",
    "    return set([rows[row][col] for (row, col) in list_of_coords])\n",
    "\n",
    "# tests\n",
    "\n",
    "test_map = np.array([\n",
    "    [1,2,3],\n",
    "    [4,5,6],\n",
    "    [7,8,9]\n",
    "    ])\n",
    "\n",
    "assert get_values(test_map, adjacents(test_map, 0, 0)) == set([2,4])\n",
    "assert get_values(test_map, adjacents(test_map, 0, 1)) == set([1, 3, 5])\n",
    "assert get_values(test_map, adjacents(test_map, 0, 2)) == set([2, 6])\n",
    "\n",
    "assert get_values(test_map, adjacents(test_map, 1, 0)) == set([1, 5, 7])\n",
    "assert get_values(test_map, adjacents(test_map, 1, 1)) == set([2, 4, 6, 8])\n",
    "assert get_values(test_map, adjacents(test_map, 1, 2)) == set([3, 5, 9])\n",
    "\n",
    "assert get_values(test_map, adjacents(test_map, 2, 0)) == set([4, 8])\n",
    "assert get_values(test_map, adjacents(test_map, 2, 1)) == set([5, 7, 9])\n",
    "assert get_values(test_map, adjacents(test_map, 2, 2)) == set([8, 6])\n"
   ]
  },
  {
   "cell_type": "code",
   "execution_count": 11,
   "metadata": {},
   "outputs": [
    {
     "name": "stdout",
     "output_type": "stream",
     "text": [
      "[(0, 1), (0, 2), (0, 3), (0, 5), (1, 2), (1, 5), (1, 6), (1, 7), (2, 2), (2, 3), (2, 5), (2, 7), (2, 8), (3, 2), (3, 3), (3, 4), (3, 5), (3, 8), (4, 2), (4, 3), (4, 4), (4, 8), (5, 1), (5, 2), (5, 3), (5, 4), (5, 5), (5, 6), (5, 7)] 29\n"
     ]
    }
   ],
   "source": [
    "test_map = np.array([\n",
    "    [0, 1, 1, 1, 0, 1, 0, 0, 0],\n",
    "    [0, 0, 1, 0, 0, 1, 1, 1, 0],\n",
    "    [0, 0, 1, 1, 0, 1, 0, 1, 1],\n",
    "    [0, 0, 1, 1, 1, 1, 0, 0, 1],\n",
    "    [1, 0, 1, 1, 1, 0, 0, 0, 1],\n",
    "    [0, 1, 1, 1, 1, 1, 1, 1, 0]\n",
    "    ])\n",
    "\n",
    "def find_group(m, row, col):\n",
    "    value = m[row][col]\n",
    "    if value == 0:\n",
    "        return None\n",
    "    start = (row, col)\n",
    "    frontier = Queue()\n",
    "    frontier.put(start)\n",
    "    group = set()\n",
    "    while not frontier.empty():\n",
    "        r, c = frontier.get()\n",
    "        group.add((r, c))\n",
    "        for rn, cn in adjacents(m, r, c):\n",
    "            value = m[rn][cn]\n",
    "            if value == 1:\n",
    "                if (rn,cn) not in group:\n",
    "                    frontier.put((rn,cn))\n",
    "                group.add((rn,cn))\n",
    "    return (start, group)\n",
    "    \n",
    "id_group, nodes = find_group(test_map, 0, 1)\n",
    "\n",
    "assert id_group == (0, 1)\n",
    "assert len(nodes) == 29\n",
    "print(sorted(nodes), len(nodes))"
   ]
  },
  {
   "cell_type": "code",
   "execution_count": 12,
   "metadata": {},
   "outputs": [
    {
     "data": {
      "text/plain": [
       "{(0, 0): {(0, 0), (0, 1), (1, 0)},\n",
       " (0, 3): {(0, 3), (1, 3)},\n",
       " (2, 2): {(2, 2), (3, 2), (4, 0), (4, 1), (4, 2)}}"
      ]
     },
     "execution_count": 12,
     "metadata": {},
     "output_type": "execute_result"
    }
   ],
   "source": [
    "test_map = np.array([\n",
    "    [1, 1, 0, 1],\n",
    "    [1, 0, 0, 1],\n",
    "    [0, 0, 1, 0],\n",
    "    [0, 0, 1, 0],\n",
    "    [1, 1, 1, 0],\n",
    "])\n",
    "\n",
    "\n",
    "def find_groups(m):\n",
    "    rows, cols = m.shape\n",
    "    seen = set()\n",
    "    result = dict()\n",
    "    for row in range(rows):\n",
    "        for col in range(cols):\n",
    "            if (row, col) in seen:\n",
    "                continue\n",
    "            g = find_group(m, row, col)\n",
    "            if g:\n",
    "                (id_group, nodes) = g\n",
    "                result[id_group] = nodes\n",
    "                seen.update(nodes)\n",
    "    return result\n",
    "\n",
    "find_groups(test_map)"
   ]
  },
  {
   "cell_type": "code",
   "execution_count": 13,
   "metadata": {},
   "outputs": [],
   "source": [
    "def get_random_color():\n",
    "    red = '00{:x}'.format(random.randrange(32, 256))[-2:]\n",
    "    green = '00{:x}'.format(random.randrange(32, 256))[-2:]\n",
    "    blue = '00{:x}'.format(random.randrange(32, 256))[-2:]\n",
    "    \n",
    "    return '#{}{}{}'.format(red, green, blue)\n",
    "\n",
    "def draw_color_map(m):\n",
    "    rows, cols = m.shape\n",
    "    size = (cols*6+1, rows*6+1)\n",
    "    im = Image.new('RGB', size, color='#336699')\n",
    "    draw = ImageDraw.Draw(im)\n",
    "    for row, data in enumerate(m):\n",
    "        for col, bit in enumerate(data):\n",
    "            x = col * 6 + 1\n",
    "            y = row * 6 + 1\n",
    "            rect = (x, y, x+4, y+4)\n",
    "            color = str(m[row][col])\n",
    "            draw.rectangle(rect, fill=color or '#000000')\n",
    "    del draw\n",
    "    return im"
   ]
  },
  {
   "cell_type": "code",
   "execution_count": 14,
   "metadata": {},
   "outputs": [
    {
     "data": {
      "image/png": "[encoded data removed]",
      "text/plain": [
       "<PIL.Image.Image image mode=RGB size=55x37 at 0x7F20B11CEC50>"
      ]
     },
     "metadata": {},
     "output_type": "display_data"
    },
    {
     "data": {
      "image/png": "[encoded data removed]",
      "text/plain": [
       "<PIL.Image.Image image mode=RGB size=55x37 at 0x7F20B11CEBE0>"
      ]
     },
     "metadata": {},
     "output_type": "display_data"
    }
   ],
   "source": [
    "test_map = np.array([\n",
    "    [0, 1, 1, 1, 0, 1, 0, 0, 0],\n",
    "    [0, 0, 1, 0, 0, 1, 1, 1, 0],\n",
    "    [0, 0, 1, 1, 0, 1, 0, 1, 1],\n",
    "    [0, 0, 1, 1, 1, 1, 0, 0, 1],\n",
    "    [1, 0, 1, 1, 1, 0, 0, 0, 1],\n",
    "    [0, 1, 1, 1, 1, 1, 1, 1, 0]\n",
    "    ])\n",
    "\n",
    "group = find_group(test_map, 0, 1)\n",
    "color_map = np.empty_like(test_map, dtype='U7')\n",
    "k, nodes = group\n",
    "color = get_random_color()\n",
    "for (r, c) in nodes:\n",
    "    color_map[r][c] = color\n",
    "display.display(draw_color_map(color_map))\n",
    "display.display(draw_map(test_map))\n",
    "\n"
   ]
  },
  {
   "cell_type": "code",
   "execution_count": 15,
   "metadata": {},
   "outputs": [
    {
     "data": {
      "image/png": "[encoded data removed]",
      "text/plain": [
       "<PIL.Image.Image image mode=RGB size=769x769 at 0x7F20D0093A58>"
      ]
     },
     "execution_count": 15,
     "metadata": {},
     "output_type": "execute_result"
    }
   ],
   "source": [
    "rows = get_rows('xlqgujun')\n",
    "color_map = np.empty_like(rows, dtype='U7')\n",
    "groups = find_groups(rows)\n",
    "for k in groups:\n",
    "    color = get_random_color()\n",
    "    for (r, c) in groups[k]:\n",
    "        color_map[r][c] = color\n",
    "draw_color_map(color_map)        "
   ]
  },
  {
   "cell_type": "code",
   "execution_count": 16,
   "metadata": {},
   "outputs": [
    {
     "name": "stdout",
     "output_type": "stream",
     "text": [
      "Part 2: 1089\n"
     ]
    }
   ],
   "source": [
    "print('Part 2:', len(groups))"
   ]
  }
 ],
 "metadata": {
  "kernelspec": {
   "display_name": "Python 3",
   "language": "python",
   "name": "python3"
  },
  "language_info": {
   "codemirror_mode": {
    "name": "ipython",
    "version": 3
   },
   "file_extension": ".py",
   "mimetype": "text/x-python",
   "name": "python",
   "nbconvert_exporter": "python",
   "pygments_lexer": "ipython3",
   "version": "3.5.2"
  },
  "toc": {
   "nav_menu": {},
   "number_sections": true,
   "sideBar": true,
   "skip_h1_title": false,
   "title_cell": "Table of Contents",
   "title_sidebar": "Contents",
   "toc_cell": true,
   "toc_position": {},
   "toc_section_display": true,
   "toc_window_display": false
  }
 },
 "nbformat": 4,
 "nbformat_minor": 2
}
