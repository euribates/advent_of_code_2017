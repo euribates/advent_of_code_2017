{
 "cells": [
  {
   "cell_type": "markdown",
   "metadata": {},
   "source": [
    "### Day 17: Spinlock\n",
    "\n",
    "Suddenly, whirling in the distance, you notice what looks like a massive, pixelated hurricane: a deadly [spinlock](https://en.wikipedia.org/wiki/Spinlock). This spinlock isn't just consuming computing power, but memory, too; vast, digital mountains are being ripped from the ground and consumed by the vortex.\n",
    "\n",
    "If you don't move quickly, fixing that printer will be the least of your problems."
   ]
  },
  {
   "cell_type": "code",
   "execution_count": 1,
   "metadata": {},
   "outputs": [],
   "source": [
    " # Usual imports\n",
    "    \n",
    "%matplotlib inline\n",
    "import matplotlib.pyplot as plt\n",
    "import numpy as np\n",
    "from collections import deque"
   ]
  },
  {
   "cell_type": "markdown",
   "metadata": {},
   "source": [
    "### Part One\n",
    "\n",
    "This spinlock's algorithm is simple but efficient, quickly consuming everything in its path. It starts with a circular buffer containing only the value 0, which it marks as the **current position**. It then steps forward through the circular buffer some number of steps (your puzzle input) before inserting the first new value, 1, after the value it stopped on. The inserted value becomes the **current position**. Then, it steps forward from there the same number of steps, and wherever it stops, inserts after it the second new value, 2, and uses that as the new current position again.\n",
    "\n",
    "It repeats this process of **stepping forward, inserting a new value**, and using the location of the inserted value as the new current position a total of **2017 times**, inserting 2017 as its final operation, and ending with a total of 2018 values (including 0) in the circular buffer.\n",
    "\n",
    "For example, if the spinlock were to step 3 times per insert, the circular buffer would begin to evolve like this (using parentheses to mark the current position after each iteration of the algorithm):\n",
    "\n",
    " - `(0)`, the initial state before any insertions.\n",
    " \n",
    " - `0 (1)`: the spinlock steps forward three times (0, 0, 0), and then inserts the first value, 1, after it. 1 becomes the current position.\n",
    " \n",
    " - `0 (2) 1`: the spinlock steps forward three times (0, 1, 0), and then inserts the second value, 2, after it. 2 becomes the current position.\n",
    " \n",
    " - `0  2 (3) 1`: the spinlock steps forward three times (1, 0, 2), and then inserts the third value, 3, after it. 3 becomes the current position.\n",
    "\n",
    "And so on:\n",
    "\n",
    "    0  2 (4) 3  1\n",
    "    0 (5) 2  4  3  1\n",
    "    0  5  2  4  3 (6) 1\n",
    "    0  5 (7) 2  4  3  6  1\n",
    "    0  5  7  2  4  3 (8) 6  1\n",
    "    0 (9) 5  7  2  4  3  8  6  1"
   ]
  },
  {
   "cell_type": "code",
   "execution_count": 2,
   "metadata": {},
   "outputs": [
    {
     "name": "stdout",
     "output_type": "stream",
     "text": [
      "(0)\n",
      " 0 (1)\n",
      " 0 (2) 1 \n",
      " 0  2 (3) 1 \n",
      " 0  2 (4) 3  1 \n",
      " 0 (5) 2  4  3  1 \n",
      " 0  5  2  4  3 (6) 1 \n",
      " 0  5 (7) 2  4  3  6  1 \n",
      " 0  5  7  2  4  3 (8) 6  1 \n",
      " 0 (9) 5  7  2  4  3  8  6  1 \n"
     ]
    }
   ],
   "source": [
    "buffer = deque([0])\n",
    "cur_pos = 0\n",
    "\n",
    "def round(steps=3):\n",
    "    global buffer, cur_pos\n",
    "    last_value = buffer[cur_pos]\n",
    "    cur_pos = ((cur_pos + steps) % len(buffer)) + 1\n",
    "    buffer.insert(cur_pos, last_value+1)\n",
    "    \n",
    "def print_buffer():\n",
    "    global buffer, cur_ops\n",
    "    if len(buffer) < 20:\n",
    "        for (i, v) in enumerate(buffer):\n",
    "            if i == cur_pos:\n",
    "                s = '({})'.format(v)\n",
    "                print('{:^3}'.format(s), end='')\n",
    "            else:\n",
    "                print('{:^3}'.format(v),end='')\n",
    "    else:\n",
    "        for i in range(10):\n",
    "            v = buffer[i]\n",
    "            if i == cur_pos:\n",
    "                s = '({})'.format(v)\n",
    "                print('{:^3}'.format(s), end='')\n",
    "            else:\n",
    "                print('{:^3}'.format(v),end='')\n",
    "        print('...', end=' ')\n",
    "        for i in range(-10, 1):\n",
    "            v = buffer[i]\n",
    "            if len(buffer) + i == cur_pos:\n",
    "                s = '({})'.format(v)\n",
    "                print('{:^3}'.format(s), end='')\n",
    "            else:\n",
    "                print('{:^3}'.format(v),end='')\n",
    "    print()\n",
    "    \n",
    "for i in range(9):\n",
    "    print_buffer()\n",
    "    round(3)\n",
    "print_buffer()"
   ]
  },
  {
   "cell_type": "markdown",
   "metadata": {},
   "source": [
    "Eventually, after 2017 insertions, the section of the circular buffer near the last insertion looks like this:\n",
    "\n",
    "1512  1134  151 (2017) 638  1513  851"
   ]
  },
  {
   "cell_type": "code",
   "execution_count": 3,
   "metadata": {},
   "outputs": [
    {
     "name": "stdout",
     "output_type": "stream",
     "text": [
      "1512 1134 151 (2017) 638 1513 851 "
     ]
    }
   ],
   "source": [
    "buffer = deque([0])\n",
    "cur_pos = 0\n",
    "for _ in range(2017):\n",
    "    round(3)\n",
    "pos = buffer.index(2017)\n",
    "for i in range(pos-3, pos+4):\n",
    "    if i == pos:\n",
    "        print('({})'.format(buffer[i]), end=' ')\n",
    "    else:\n",
    "        print(buffer[i], end=' ')"
   ]
  },
  {
   "cell_type": "markdown",
   "metadata": {},
   "source": [
    "Perhaps, if you can identify the value that will ultimately be after the last value written (2017), you can short-circuit the spinlock. In this example, that would be 638.\n",
    "\n",
    "**What is the value after 2017 in your completed circular buffer?**\n",
    "\n",
    "Your puzzle input is **377**."
   ]
  },
  {
   "cell_type": "code",
   "execution_count": 4,
   "metadata": {},
   "outputs": [
    {
     "name": "stdout",
     "output_type": "stream",
     "text": [
      "477 1120 1320 (2017) 596 1065 363 "
     ]
    }
   ],
   "source": [
    "buffer = deque([0])\n",
    "cur_pos = 0\n",
    "for _ in range(2017):\n",
    "    round(377)\n",
    "pos = buffer.index(2017)\n",
    "for i in range(pos-3, pos+4):\n",
    "    if i == pos:\n",
    "        print('({})'.format(buffer[i]), end=' ')\n",
    "    else:\n",
    "        print(buffer[i], end=' ')"
   ]
  },
  {
   "cell_type": "code",
   "execution_count": 5,
   "metadata": {},
   "outputs": [
    {
     "name": "stdout",
     "output_type": "stream",
     "text": [
      "Part one: 596\n"
     ]
    }
   ],
   "source": [
    "print('Part one:', buffer[pos+1])"
   ]
  },
  {
   "cell_type": "markdown",
   "metadata": {},
   "source": [
    "### Part Two\n",
    "\n",
    "The spinlock does not short-circuit. Instead, it gets more angry. At least, you assume that's what happened; it's spinning significantly faster than it was a moment ago.\n",
    "\n",
    "You have good news and bad news.\n",
    "\n",
    "The good news is that you have improved calculations for how to stop the spinlock. They indicate that you actually need to identify the value after 0 in the current state of the circular buffer.\n",
    "\n",
    "The bad news is that while you were determining this, the spinlock has just finished inserting its fifty millionth value (50000000).\n",
    "\n",
    "What is the value after 0 the moment 50000000 is inserted?\n"
   ]
  },
  {
   "cell_type": "markdown",
   "metadata": {},
   "source": [
    "let's see the data:"
   ]
  },
  {
   "cell_type": "code",
   "execution_count": 6,
   "metadata": {},
   "outputs": [
    {
     "name": "stdout",
     "output_type": "stream",
     "text": [
      "(0)\n",
      " 0 (1)\n",
      " 0 (2) 1 \n",
      " 0 (3) 2  1 \n",
      " 0  3  2 (4) 1 \n",
      " 0 (5) 3  2  4  1 \n",
      " 0 (6) 5  3  2  4  1 \n",
      " 0 (7) 6  5  3  2  4  1 \n",
      " 0  7  6 (8) 5  3  2  4  1 \n",
      " 0  7  6 (9) 8  5  3  2  4  1 \n",
      " 0 (10) 7  6  9  8  5  3  2  4  1 \n",
      " 0 10  7  6  9 (11) 8  5  3  2  4  1 \n",
      " 0 10  7  6  9 11  8  5  3  2  4 (12) 1 \n",
      " 0 10  7  6  9 11  8  5  3  2  4 12 (13) 1 \n",
      " 0 10  7  6  9 11  8  5  3  2  4 12 (14)13  1 \n",
      " 0 10  7  6  9 11  8  5  3  2  4 12 14 13  1 (15)\n",
      " 0 10  7  6  9 11  8  5  3 (16) 2  4 12 14 13  1 15 \n",
      " 0 10  7  6  9 11  8  5  3 16  2  4 12 (17)14 13  1 15 \n",
      " 0 10  7  6  9 11  8  5  3 16  2  4 12 (18)17 14 13  1 15 \n",
      " 0 10  7  6  9 11  8  5  3 16 ...  2 (19) 4 12 18 17 14 13  1 15  0 \n"
     ]
    }
   ],
   "source": [
    "buffer = deque([0])\n",
    "cur_pos = 0\n",
    "print_buffer()\n",
    "for i in range(19):\n",
    "    round(377)\n",
    "    print_buffer()"
   ]
  },
  {
   "cell_type": "markdown",
   "metadata": {},
   "source": [
    "If we are interested only in the second value (index 1), we can forget about the buffer. We can just remenber the value at the second position when `cur_pos` is $1$ again:"
   ]
  },
  {
   "cell_type": "code",
   "execution_count": 7,
   "metadata": {},
   "outputs": [
    {
     "name": "stdout",
     "output_type": "stream",
     "text": [
      "1 1 ✓\n",
      "1 2 ✓\n",
      "1 3 ✓\n",
      "3 4 \n",
      "1 5 ✓\n",
      "1 6 ✓\n",
      "1 7 ✓\n",
      "3 8 \n",
      "3 9 \n",
      "1 10 ✓\n",
      "5 11 \n",
      "11 12 \n",
      "12 13 \n",
      "12 14 \n",
      "15 15 \n",
      "9 16 \n",
      "13 17 \n",
      "13 18 \n",
      "11 19 \n"
     ]
    }
   ],
   "source": [
    "def round2(buff_size, cur_pos, steps=3):\n",
    "    next_value = buff_size+1\n",
    "    cur_pos = ((cur_pos + steps) % buff_size) + 1\n",
    "    return cur_pos\n",
    "  \n",
    "index = cur_pos = 0\n",
    "for index in range(19):\n",
    "    cur_pos = round2(index+1, cur_pos, steps=377)\n",
    "    print(cur_pos, index+1, '✓' if cur_pos == 1 else '')\n"
   ]
  },
  {
   "cell_type": "markdown",
   "metadata": {},
   "source": [
    "Let's try it:"
   ]
  },
  {
   "cell_type": "code",
   "execution_count": 8,
   "metadata": {},
   "outputs": [
    {
     "name": "stdout",
     "output_type": "stream",
     "text": [
      "0 1\n",
      "1 2\n",
      "2 3\n",
      "4 4\n",
      "5 6\n",
      "6 7\n",
      "9 8\n",
      "81 11\n",
      "475 83\n",
      "2422 477\n",
      "2817 2424\n",
      "3711 2819\n",
      "4181 3713\n",
      "35656 4183\n",
      "583276 35658\n",
      "626522 583278\n",
      "1760404 626524\n",
      "4842664 1760406\n",
      "9440559 4842666\n",
      "10357703 9440561\n",
      "22036450 10357705\n",
      "39051594 22036452\n",
      "Part two: 39051595\n"
     ]
    }
   ],
   "source": [
    "index = cur_pos = 0\n",
    "value = 0\n",
    "for index in range(50000000):\n",
    "    cur_pos = round2(index+1, cur_pos, steps=377)\n",
    "    if cur_pos == 1:\n",
    "        print(index, value+1)\n",
    "        value = index+1\n",
    "print('Part two:', value)"
   ]
  },
  {
   "cell_type": "markdown",
   "metadata": {},
   "source": [
    "### Extra"
   ]
  },
  {
   "cell_type": "markdown",
   "metadata": {},
   "source": [
    "List versus deque ¿What is better if we are working with a lot of values and just want to append/pop/insert at 0)?"
   ]
  },
  {
   "cell_type": "code",
   "execution_count": 9,
   "metadata": {},
   "outputs": [
    {
     "data": {
      "image/png": "[encoded data removed]",
      "text/plain": [
       "<matplotlib.figure.Figure at 0x7f039e40dc18>"
      ]
     },
     "metadata": {},
     "output_type": "display_data"
    }
   ],
   "source": [
    "from collections import deque\n",
    "import timeit\n",
    "\n",
    "sizes = list(range(1, 50001, 100))\n",
    "y1 = []\n",
    "y2 = []\n",
    "for size in sizes:\n",
    "    \n",
    "    y1.append(timeit.timeit(\n",
    "        '_ = l.pop(0); l.append(_)',\n",
    "        setup='l = list(range(size))',\n",
    "        number=100, \n",
    "        globals={\n",
    "            'size':size\n",
    "            }\n",
    "        ))\n",
    "    y2.append(timeit.timeit(\n",
    "        '_ = q.popleft(); q.append(_)',\n",
    "        setup='q = deque(range(size))',\n",
    "        number=100,\n",
    "        globals={\n",
    "            'size':size,\n",
    "            'deque': deque,\n",
    "            }\n",
    "        ))\n",
    "\n",
    "plt.plot(sizes, y1, 'r')\n",
    "plt.plot(sizes, y2, 'b')\n",
    "plt.legend(['list', 'deque']);"
   ]
  },
  {
   "cell_type": "code",
   "execution_count": null,
   "metadata": {},
   "outputs": [],
   "source": []
  }
 ],
 "metadata": {
  "kernelspec": {
   "display_name": "Python 3",
   "language": "python",
   "name": "python3"
  },
  "language_info": {
   "codemirror_mode": {
    "name": "ipython",
    "version": 3
   },
   "file_extension": ".py",
   "mimetype": "text/x-python",
   "name": "python",
   "nbconvert_exporter": "python",
   "pygments_lexer": "ipython3",
   "version": "3.5.2"
  }
 },
 "nbformat": 4,
 "nbformat_minor": 2
}
