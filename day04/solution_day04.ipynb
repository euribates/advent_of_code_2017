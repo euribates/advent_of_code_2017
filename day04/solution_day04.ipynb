{
 "cells": [
  {
   "cell_type": "markdown",
   "metadata": {
    "toc": true
   },
   "source": [
    "<h1>Table of Contents<span class=\"tocSkip\"></span></h1>\n",
    "<div class=\"toc\"><ul class=\"toc-item\"><li><ul class=\"toc-item\"><li><span><a href=\"#Primera-parte\" data-toc-modified-id=\"Primera-parte-0.1\"><span class=\"toc-item-num\">0.1&nbsp;&nbsp;</span>Primera parte</a></span></li></ul></li><li><span><a href=\"#Day-4:-High-Entropy-Passphrases----\" data-toc-modified-id=\"Day-4:-High-Entropy-Passphrases-----1\"><span class=\"toc-item-num\">1&nbsp;&nbsp;</span>Day 4: High-Entropy Passphrases ---</a></span><ul class=\"toc-item\"><li><span><a href=\"#Segunda-parte\" data-toc-modified-id=\"Segunda-parte-1.1\"><span class=\"toc-item-num\">1.1&nbsp;&nbsp;</span>Segunda parte</a></span></li></ul></li></ul></div>"
   ]
  },
  {
   "cell_type": "markdown",
   "metadata": {},
   "source": [
    "### Primera parte"
   ]
  },
  {
   "cell_type": "markdown",
   "metadata": {},
   "source": [
    "## Day 4: High-Entropy Passphrases ---"
   ]
  },
  {
   "cell_type": "markdown",
   "metadata": {},
   "source": [
    "A new system policy has been put in place that requires all accounts to use a passphrase instead of simply a password. A passphrase consists of a series of words (lowercase letters) separated by spaces.\n",
    "\n",
    "To ensure security, a valid passphrase must contain no duplicate words.\n",
    "\n",
    "For example:\n",
    "\n",
    " - aa bb cc dd ee is valid.\n",
    " - aa bb cc dd aa is not valid - the word aa appears more than once.\n",
    " - aa bb cc dd aaa is valid - aa and aaa count as different words.\n",
    "\n",
    "The system's full passphrase list is available as your puzzle input. **How many passphrases are valid?**"
   ]
  },
  {
   "cell_type": "code",
   "execution_count": 1,
   "metadata": {},
   "outputs": [
    {
     "name": "stdout",
     "output_type": "stream",
     "text": [
      "477\n"
     ]
    }
   ],
   "source": [
    "# Easy using sets\n",
    "\n",
    "with open('input.txt', 'r') as f:\n",
    "    count = 0\n",
    "    for line in f:\n",
    "        words = list(line.split())\n",
    "        set_words = set(words)\n",
    "        if len(words) == len(set_words):\n",
    "            count+=1\n",
    "print(count)"
   ]
  },
  {
   "cell_type": "markdown",
   "metadata": {},
   "source": [
    "### Segunda parte"
   ]
  },
  {
   "cell_type": "markdown",
   "metadata": {},
   "source": [
    "For added security, yet another system policy has been put in place. Now, a valid passphrase must contain no two words that are anagrams of each other - that is, a passphrase is invalid if any word's letters can be rearranged to form any other word in the passphrase.\n",
    "\n",
    "For example:\n",
    "\n",
    "- `abcde xyz ecdab` is not valid - the letters from the third word can be rearranged to form the first word.\n",
    "\n",
    "- `a ab abc abd abf abj` is a valid passphrase, because all letters need to be used when forming another word.\n",
    "\n",
    "- `iiii oiii ooii oooi oooo` is valid.\n",
    "\n",
    "- `oiii ioii iioi iiio` is not valid - any of these words can be rearranged to form any other word.\n",
    "\n",
    "Under this new system policy, **how many passphrases are valid?**"
   ]
  },
  {
   "cell_type": "code",
   "execution_count": 2,
   "metadata": {},
   "outputs": [],
   "source": [
    "def are_anagrams(s1, s2):\n",
    "    letters_s1 = sorted(list(s1))\n",
    "    letters_s2 = sorted(list(s2))\n",
    "    # print(letters_s1, letters_s2)\n",
    "    return letters_s1 == letters_s2\n",
    "\n",
    "assert are_anagrams('abcde', 'ecdab') is True\n",
    "assert are_anagrams('abcde', 'xyz') is False\n",
    "assert are_anagrams('xyz', 'abcde') is False\n",
    "\n",
    "def is_valid_password(s):\n",
    "    words = s.split()\n",
    "    num_words = len(words)\n",
    "    for w in words:\n",
    "        s = set(words[:])\n",
    "        if num_words != len(s): # There are repeated words\n",
    "            return False \n",
    "        s.discard(w)\n",
    "        for w2 in s:\n",
    "            if are_anagrams(w, w2):\n",
    "                # print(w, w2)\n",
    "                return False\n",
    "    return True\n",
    "\n",
    "assert is_valid_password('abcde xyz ecdab') is False\n",
    "assert is_valid_password('a ab abc abd abf abj') is True\n",
    "assert is_valid_password('iiii oiii ooii oooi oooo') is True\n",
    "assert is_valid_password('oiii ioii iioi iiio') is False\n",
    "assert is_valid_password('una nau') is False\n",
    "assert is_valid_password('tclq ytw tclq tezcqys') is False\n",
    "\n",
    "assert is_valid_password('una nau') is False\n",
    "\n",
    "assert is_valid_password('una una') is False\n",
    "\n",
    "with open('input.txt', 'r') as f:\n",
    "    count = 0\n",
    "    for (i, line) in enumerate(f):\n",
    "        line = line.strip()\n",
    "        # print('Line {}'.format(i), line, sep=':', end=':')\n",
    "        if is_valid_password(line):\n",
    "            count += 1\n",
    "print(count)"
   ]
  },
  {
   "cell_type": "code",
   "execution_count": null,
   "metadata": {},
   "outputs": [],
   "source": []
  }
 ],
 "metadata": {
  "kernelspec": {
   "display_name": "Python 3",
   "language": "python",
   "name": "python3"
  },
  "language_info": {
   "codemirror_mode": {
    "name": "ipython",
    "version": 3
   },
   "file_extension": ".py",
   "mimetype": "text/x-python",
   "name": "python",
   "nbconvert_exporter": "python",
   "pygments_lexer": "ipython3",
   "version": "3.5.2"
  },
  "toc": {
   "nav_menu": {},
   "number_sections": true,
   "sideBar": true,
   "skip_h1_title": false,
   "title_cell": "Table of Contents",
   "title_sidebar": "Contents",
   "toc_cell": true,
   "toc_position": {},
   "toc_section_display": true,
   "toc_window_display": false
  }
 },
 "nbformat": 4,
 "nbformat_minor": 2
}
